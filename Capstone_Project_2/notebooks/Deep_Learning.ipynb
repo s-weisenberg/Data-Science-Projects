{
 "cells": [
  {
   "cell_type": "markdown",
   "metadata": {},
   "source": [
    "# __SpringBoard Capstone Project 2: Human Activity Recognition__\n",
    "## __Deep Learning__\n",
    "\n",
    "__Written by: Sofy Weisenberg__<br>\n",
    "__Date: 04/21/20__\n",
    "\n",
    "__Importing the Data__<br>\n",
    "Load the data from file into a pandas dataframe. In previous sections, the dataset used had undergone feature engineering (with 9 signal time series transformed into 561 features for each 2.56 s window of the time series). Implementing a deep learning approach will require switching to the raw data in order to allow the network to find its own features in the data. \n",
    "\n",
    "Therefore, the raw data will need to be loaded into an appropriately sized feature array X. The label vector y from previous sections remains the same. \n",
    "\n",
    "Each row/observation still represents a single 2.56 s window, and these windows still have 50% overlap per the design of the collected data. However, now each row contains 128 time steps of raw signal data (50 Hz x 2.56 s). A row with 128 columns exists for each of the 9 signal channels:\n",
    "\n",
    "- body acceleration (x,y,z)\n",
    "- body gyroscope (x,y,z)\n",
    "- total acceletation (x,y,z)\n",
    "\n",
    "Therefore, when combining all the signal data, each row should actually have 128 x 9 = 1152 columns or features. The 9 channels of data are stored in 9 separate files and are already separated into training and test sets (see \"Splitting the Data: Training and Test Sets\" in the previous section).\n",
    "\n",
    "__Categorical Class Encoding__\n",
    "\n",
    "Since the class labels (Activity column) for this data are in a categorical string format, they must first be encoded to a numerical format useable for supervised machine learning. Simple integer encoding (i.e. translating each class label into an integer label 1-6) would not be effective on its own in this case, since such an encoding implies an ordinal relationship between the classes, where in reality there is none. This may result in poor model performance or unexpected results.\n",
    "\n",
    "Integer encoding followed by one-hot encoding is the preferred method to transform the categorical data. Each integer class label is assigned to a new binary (0/1) column of \"dummy variables\". Each observation in the dataset is then be labeled with a 1 in only one of these \"dummy variable\" columns and the rest are labeled with a 0, resulting in sparse matrices of class labels for y_train and y_test. "
   ]
  },
  {
   "cell_type": "code",
   "execution_count": 1,
   "metadata": {},
   "outputs": [],
   "source": [
    "import numpy as np\n",
    "import pandas as pd\n",
    "from sklearn.decomposition import PCA\n",
    "from sklearn.manifold import TSNE\n",
    "import matplotlib.pyplot as plt\n",
    "from mpl_toolkits.mplot3d import Axes3D\n",
    "import seaborn as sns\n",
    "import os\n",
    "import time\n",
    "import tensorflow as tf\n",
    "from tensorflow import keras\n",
    "\n",
    "# Use the current working directory path to navigate to the location of the processed data\n",
    "cwd_path = os.getcwd()\n",
    "data_path = os.path.join(cwd_path, '..', 'data', 'raw')\n",
    "\n",
    "# Throw an assert error if the path does not exist\n",
    "assert os.path.exists(data_path)"
   ]
  },
  {
   "cell_type": "markdown",
   "metadata": {},
   "source": [
    "The code for loading the data was modified from the guide found here:\n",
    "https://machinelearningmastery.com/how-to-develop-rnn-models-for-human-activity-recognition-time-series-classification/"
   ]
  },
  {
   "cell_type": "code",
   "execution_count": 2,
   "metadata": {},
   "outputs": [],
   "source": [
    "# load a single file as a numpy array\n",
    "def load_file(filepath):\n",
    "    df = pd.read_csv(filepath, header=None, delim_whitespace=True)\n",
    "    return df.values"
   ]
  },
  {
   "cell_type": "code",
   "execution_count": 3,
   "metadata": {},
   "outputs": [],
   "source": [
    "# load all channels into a stacked 3D array\n",
    "def load_files_3D_array(filenames, prefix=''):\n",
    "    loaded = list()\n",
    "    for name in filenames:\n",
    "        data = load_file(os.path.join(prefix, name))\n",
    "        loaded.append(data)\n",
    "    \n",
    "    # stack array so that features are the 3rd dimension\n",
    "    loaded = np.dstack(loaded)\n",
    "    return loaded"
   ]
  },
  {
   "cell_type": "code",
   "execution_count": 4,
   "metadata": {},
   "outputs": [],
   "source": [
    "# load a dataset group, specify group = 'train' or 'test', prefix is location of group data folder\n",
    "def load_dataset_group(group, prefix=''):\n",
    "    \n",
    "    filepath = os.path.join(prefix, group, 'Inertial Signals')\n",
    "    \n",
    "    # list all 9 filenames in group (train/test)\n",
    "    filenames = list()\n",
    "    # body acceleration\n",
    "    filenames += ['body_acc_x_'+group+'.txt', 'body_acc_y_'+group+'.txt', 'body_acc_z_'+group+'.txt']\n",
    "    # body gyroscope\n",
    "    filenames += ['body_gyro_x_'+group+'.txt', 'body_gyro_y_'+group+'.txt', 'body_gyro_z_'+group+'.txt']\n",
    "    # total acceleration\n",
    "    filenames += ['total_acc_x_'+group+'.txt', 'total_acc_y_'+group+'.txt', 'total_acc_z_'+group+'.txt']\n",
    "    \n",
    "    # load 3D stacked feature array for group (train/test)\n",
    "    X = load_files_3D_array(filenames, filepath)\n",
    "    # load class output array for group (train/test)\n",
    "    y = load_file(os.path.join(prefix, group, 'y_'+group+'.txt'))\n",
    "    \n",
    "    return X, y"
   ]
  },
  {
   "cell_type": "code",
   "execution_count": 5,
   "metadata": {},
   "outputs": [],
   "source": [
    "from tensorflow.keras.utils import to_categorical\n",
    "\n",
    "# load the entire dataset, prefix is filepath of dataset folder\n",
    "# returns train and test stacked feature array X and class output array y (one-hot encoded) for train, test groups\n",
    "def load_dataset(prefix=''):\n",
    "    \n",
    "    # load all training set\n",
    "    X_train, y_train = load_dataset_group('train', prefix)\n",
    "    \n",
    "    # load all test set\n",
    "    X_test, y_test = load_dataset_group('test', prefix)\n",
    "    \n",
    "    # zero-offset class values (transform integers 1-6 to integers 0-5 for one-hot encoding)\n",
    "    y_train = y_train - 1\n",
    "    y_test = y_test - 1\n",
    "    # one hot encode y\n",
    "    y_train = to_categorical(y_train)\n",
    "    y_test = to_categorical(y_test)\n",
    "    \n",
    "    print('Training feature array X size, training label vector y size:')\n",
    "    print(X_train.shape, y_train.shape)\n",
    "    print('\\nTest feature array X size, test label vector y size:')\n",
    "    print(X_test.shape, y_test.shape)\n",
    "    \n",
    "    return X_train, y_train, X_test, y_test"
   ]
  },
  {
   "cell_type": "code",
   "execution_count": 6,
   "metadata": {},
   "outputs": [
    {
     "name": "stdout",
     "output_type": "stream",
     "text": [
      "Training feature array X size, training label vector y size:\n",
      "(7352, 128, 9) (7352, 6)\n",
      "\n",
      "Test feature array X size, test label vector y size:\n",
      "(2947, 128, 9) (2947, 6)\n"
     ]
    }
   ],
   "source": [
    "X_train, y_train, X_test, y_test = load_dataset(data_path)"
   ]
  },
  {
   "cell_type": "markdown",
   "metadata": {},
   "source": [
    "__Feature Scaling__<br>\n",
    "To improve performance of the machine learning model(s) to be applied to this classification problem, first the feature data should be appropriately scaled.\n",
    "\n",
    "Scaling must be performed both on the training and test data sets in the same manner. Best practice is to use only the training set to identify the correct scaling, and then blindly apply the same transformation to the test set. Scaling all features to a [0,1] range is a common scaling method for neural network preprocessing and may be applied using the MinMaxScaler() transformation method from sklearn. \n",
    "\n",
    "However, after evaluating the model with [0,1] scaling, poor performance was observed (approx. 0.78 accuracy). MinMaxScaler() with range [1,1] scaling performed much better (approx. 0.89 accuracy) and StandardScaler() with mean centered around 0 and std. dev = 1 performed even slightly better (approx. 0.91 accuracy). Therefore, the StandardScaler() method was selected for feature scaling."
   ]
  },
  {
   "cell_type": "code",
   "execution_count": 7,
   "metadata": {},
   "outputs": [],
   "source": [
    "from sklearn.preprocessing import MinMaxScaler\n",
    "from sklearn.preprocessing import StandardScaler\n",
    "# initialize scaled feature arrays \n",
    "X_train_scaled = np.empty(X_train.shape)\n",
    "X_test_scaled = np.empty(X_test.shape)\n",
    "\n",
    "# initialize scaler function\n",
    "#scaler = MinMaxScaler(feature_range=(-1, 1))\n",
    "scaler = StandardScaler()\n",
    "\n",
    "# scaler only accepts 2D arrays, so loop over 9 2D arrays to fit and transform accordingly for each\n",
    "for i in range(X_train.shape[2]):\n",
    "    scaler.fit(X_train[:,:,i])\n",
    "    X_train_scaled[:,:,i] = scaler.transform(X_train[:,:,i])\n",
    "    X_test_scaled[:,:,i] = scaler.transform(X_test[:,:,i])"
   ]
  },
  {
   "cell_type": "markdown",
   "metadata": {},
   "source": [
    "The scaling transformation has been performed successfully on both the training and test feature sets. <br>\n",
    "- The mean for each column in the X_train_scaled feature array is 0, and std. dev is 1. <br>\n",
    "- The mean for each column in the X_test_scaled feature array is NOT 0, and std. dev is NOT 1, since a transformation matrix (generated from normalizing the training feature matrix range) was applied to the test feature matrix."
   ]
  },
  {
   "cell_type": "markdown",
   "metadata": {},
   "source": [
    "__Fitting an RNN Model__<br>\n",
    "Now that the data has been loaded and preprocessing completed, a deep learning model may be trained on the data. The first model that will be implemented is a Recurrent Neural Network (RNN) which leverages the sequential nature of the time series signal data from the 9 different channels. Specifically, the LSTM (long short term memory) layer of the neural network, unlike feed forward neural network architectures, has feedback mechanisms that allow previous observations in the sequence to be \"remembered\" by the network.\n",
    "\n",
    "First, a basic network architecture will be established. Then several network hyperparameters will be optimized using a grid search optimization. "
   ]
  },
  {
   "cell_type": "code",
   "execution_count": 8,
   "metadata": {},
   "outputs": [],
   "source": [
    "from tensorflow.keras.models import Sequential\n",
    "from tensorflow.keras.layers import Dense\n",
    "from tensorflow.keras.layers import Flatten\n",
    "from tensorflow.keras.layers import Dropout\n",
    "from tensorflow.keras.layers import LSTM\n",
    "\n",
    "# establish a basic network architecture for the model, fit and evaluate the model for a given train/test dataset\n",
    "def evaluate_model(X_train, y_train, X_test, y_test):\n",
    "    verbose, epochs, batch_size = 0, 15, 64\n",
    "    n_timesteps, n_features, n_outputs = X_train.shape[1], X_train.shape[2], y_train.shape[1]\n",
    "    model = Sequential()\n",
    "    model.add(LSTM(100, input_shape=(n_timesteps,n_features)))\n",
    "    model.add(Dropout(0.5))\n",
    "    #model.add(Dense(100, activation='relu'))\n",
    "    model.add(Dense(100, kernel_initializer='glorot_uniform', activation='relu'))\n",
    "    model.add(Dense(n_outputs, activation='softmax'))\n",
    "    model.compile(loss='categorical_crossentropy', optimizer='adam', metrics=['accuracy'])\n",
    "    # fit network\n",
    "    model.fit(X_train, y_train, epochs=epochs, batch_size=batch_size, verbose=verbose)\n",
    "    # evaluate model\n",
    "    _, accuracy = model.evaluate(X_test, y_test, batch_size=batch_size, verbose=0)\n",
    "    return accuracy"
   ]
  },
  {
   "cell_type": "code",
   "execution_count": 9,
   "metadata": {},
   "outputs": [],
   "source": [
    "# summarize scores\n",
    "def summarize_results(scores):\n",
    "    print(scores)\n",
    "    m, s = np.mean(scores), np.std(scores)\n",
    "    print('Accuracy: %.3f%% (+/-%.3f)' % (m, s))\n",
    " \n",
    "# run an experiment\n",
    "def run_experiment(repeats=1):\n",
    "    # repeat experiment\n",
    "    scores = list()\n",
    "    for r in range(repeats):\n",
    "        score = evaluate_model(X_train_scaled, y_train, X_test_scaled, y_test)\n",
    "        score = score * 100.0\n",
    "        print('>#%d: %.3f' % (r+1, score))\n",
    "        scores.append(score)\n",
    "    # summarize results\n",
    "    summarize_results(scores)\n",
    " \n",
    "# run the experiment\n",
    "# run_experiment()"
   ]
  },
  {
   "cell_type": "code",
   "execution_count": null,
   "metadata": {},
   "outputs": [],
   "source": []
  },
  {
   "cell_type": "code",
   "execution_count": 71,
   "metadata": {},
   "outputs": [],
   "source": [
    "# Use scikit-learn to grid search the network hyperparameters\n",
    "from sklearn.model_selection import GridSearchCV\n",
    "from sklearn.model_selection import StratifiedKFold\n",
    "from tensorflow.keras.models import Sequential\n",
    "from tensorflow.keras.layers import Dense\n",
    "from tensorflow.keras.layers import Dropout\n",
    "from tensorflow.keras.layers import LSTM\n",
    "from tensorflow.keras.wrappers.scikit_learn import KerasClassifier\n",
    "from tensorflow.keras.callbacks import EarlyStopping\n",
    "\n",
    "# Function to create model, required for KerasClassifier\n",
    "\n",
    "def create_RNN_model(neurons=100, dropout=0.5, batch_size=64):\n",
    "    # Define key array lengths \n",
    "    n_timesteps, n_features, n_outputs = X_train.shape[1], X_train.shape[2], y_train.shape[1]\n",
    "    \n",
    "    # Define input layer and hidden layers\n",
    "    model = Sequential()\n",
    "    model.add(LSTM(neurons, input_shape=(n_timesteps, n_features)))\n",
    "    model.add(Dropout(dropout))\n",
    "    model.add(Dense(neurons, kernel_initializer='glorot_uniform', activation='relu'))\n",
    "    \n",
    "    # Define output layer with multiple outputs and compile model\n",
    "    model.add(Dense(n_outputs, activation='softmax'))\n",
    "    model.compile(loss='categorical_crossentropy', optimizer='adam', metrics=['accuracy'])\n",
    "    \n",
    "    return model"
   ]
  },
  {
   "cell_type": "code",
   "execution_count": 72,
   "metadata": {},
   "outputs": [],
   "source": [
    "# create model with early stopping monitor (if model convergence reached before n_epochs)\n",
    "n_epochs = 35\n",
    "model = KerasClassifier(build_fn=create_RNN_model, verbose=0, epochs=n_epochs)\n",
    "es = EarlyStopping(monitor='loss', mode='min', verbose=1, patience=5)\n",
    "\n",
    "# define the grid search parameters\n",
    "neurons = [50, 100, 200]\n",
    "dropout = [0.1,0.3,0.5]\n",
    "batch_size = [32, 64, 128]\n",
    "\n",
    "# neurons = [100]\n",
    "# dropout = [0.5]\n",
    "# batch_size = [64]\n",
    "param_grid = dict(neurons=neurons, \n",
    "                  dropout=dropout, \n",
    "                  batch_size=batch_size)\n",
    "\n",
    "# run grid search and report results and early stopping\n",
    "# grid = GridSearchCV(estimator=model, param_grid=param_grid, n_jobs=-1, cv=3, verbose=1)\n",
    "grid = GridSearchCV(estimator=model, param_grid=param_grid, cv=3, verbose=1, n_jobs=1)"
   ]
  },
  {
   "cell_type": "code",
   "execution_count": 73,
   "metadata": {},
   "outputs": [
    {
     "name": "stdout",
     "output_type": "stream",
     "text": [
      "Fitting 3 folds for each of 27 candidates, totalling 81 fits\n"
     ]
    },
    {
     "name": "stderr",
     "output_type": "stream",
     "text": [
      "[Parallel(n_jobs=1)]: Using backend SequentialBackend with 1 concurrent workers.\n"
     ]
    },
    {
     "name": "stdout",
     "output_type": "stream",
     "text": [
      "Epoch 00015: early stopping\n",
      "Epoch 00017: early stopping\n",
      "Epoch 00016: early stopping\n",
      "Epoch 00021: early stopping\n",
      "Epoch 00018: early stopping\n",
      "Epoch 00019: early stopping\n",
      "Epoch 00014: early stopping\n",
      "Epoch 00018: early stopping\n",
      "Epoch 00028: early stopping\n",
      "Epoch 00023: early stopping\n",
      "Epoch 00016: early stopping\n",
      "Epoch 00015: early stopping\n",
      "Epoch 00019: early stopping\n",
      "Epoch 00028: early stopping\n",
      "Epoch 00015: early stopping\n",
      "Epoch 00010: early stopping\n",
      "Epoch 00028: early stopping\n",
      "Epoch 00027: early stopping\n",
      "Epoch 00017: early stopping\n",
      "Epoch 00032: early stopping\n",
      "Epoch 00009: early stopping\n",
      "Epoch 00012: early stopping\n",
      "Epoch 00014: early stopping\n",
      "Epoch 00013: early stopping\n",
      "Epoch 00015: early stopping\n",
      "Epoch 00017: early stopping\n",
      "Epoch 00013: early stopping\n",
      "Epoch 00020: early stopping\n",
      "Epoch 00014: early stopping\n",
      "Epoch 00022: early stopping\n",
      "Epoch 00013: early stopping\n",
      "Epoch 00016: early stopping\n",
      "Epoch 00026: early stopping\n",
      "Epoch 00013: early stopping\n",
      "Epoch 00016: early stopping\n",
      "Epoch 00021: early stopping\n",
      "Epoch 00017: early stopping\n",
      "Epoch 00022: early stopping\n",
      "Epoch 00012: early stopping\n",
      "Epoch 00032: early stopping\n",
      "Epoch 00022: early stopping\n",
      "Epoch 00015: early stopping\n",
      "Epoch 00017: early stopping\n",
      "Epoch 00030: early stopping\n",
      "Epoch 00019: early stopping\n",
      "Epoch 00018: early stopping\n",
      "Epoch 00020: early stopping\n",
      "Epoch 00018: early stopping\n",
      "Epoch 00015: early stopping\n",
      "Epoch 00028: early stopping\n",
      "Epoch 00022: early stopping\n",
      "Epoch 00023: early stopping\n",
      "Epoch 00022: early stopping\n",
      "Epoch 00019: early stopping\n",
      "Epoch 00027: early stopping\n",
      "Epoch 00018: early stopping\n",
      "Epoch 00019: early stopping\n",
      "Epoch 00025: early stopping\n",
      "Epoch 00023: early stopping\n",
      "Epoch 00014: early stopping\n",
      "Epoch 00028: early stopping\n",
      "Epoch 00031: early stopping\n",
      "Epoch 00028: early stopping\n",
      "Epoch 00020: early stopping\n",
      "Epoch 00015: early stopping\n",
      "Epoch 00025: early stopping\n",
      "Epoch 00014: early stopping\n",
      "Epoch 00016: early stopping\n",
      "Epoch 00015: early stopping\n",
      "Epoch 00030: early stopping\n",
      "Epoch 00016: early stopping\n",
      "Epoch 00011: early stopping\n",
      "Epoch 00016: early stopping\n",
      "Epoch 00025: early stopping\n",
      "Epoch 00018: early stopping\n",
      "Epoch 00024: early stopping\n",
      "Epoch 00013: early stopping\n"
     ]
    },
    {
     "name": "stderr",
     "output_type": "stream",
     "text": [
      "[Parallel(n_jobs=1)]: Done  81 out of  81 | elapsed: 238.7min finished\n"
     ]
    },
    {
     "name": "stdout",
     "output_type": "stream",
     "text": [
      "Epoch 00020: early stopping\n"
     ]
    }
   ],
   "source": [
    "from joblib import Parallel, delayed\n",
    "# results = Parallel(n_jobs=2, verbose=5)(\n",
    "#     delayed(test_data)(data) for _ in range(10))\n",
    "\n",
    "# grid_result = Parallel(n_jobs=8, verbose=5)(delayed(grid.fit(X_train_scaled, y_train, callbacks=[es])))\n",
    "grid_result = grid.fit(X_train_scaled, y_train, callbacks=[es])\n"
   ]
  },
  {
   "cell_type": "code",
   "execution_count": 74,
   "metadata": {},
   "outputs": [
    {
     "name": "stdout",
     "output_type": "stream",
     "text": [
      "Best: 0.937023 using {'batch_size': 64, 'dropout': 0.5, 'neurons': 100}\n",
      "0.922605 (0.020585) with: {'batch_size': 32, 'dropout': 0.1, 'neurons': 50}\n",
      "0.929542 (0.007195) with: {'batch_size': 32, 'dropout': 0.1, 'neurons': 100}\n",
      "0.927364 (0.019752) with: {'batch_size': 32, 'dropout': 0.1, 'neurons': 200}\n",
      "0.922605 (0.021351) with: {'batch_size': 32, 'dropout': 0.3, 'neurons': 50}\n",
      "0.922469 (0.022381) with: {'batch_size': 32, 'dropout': 0.3, 'neurons': 100}\n",
      "0.923560 (0.022284) with: {'batch_size': 32, 'dropout': 0.3, 'neurons': 200}\n",
      "0.913903 (0.033620) with: {'batch_size': 32, 'dropout': 0.5, 'neurons': 50}\n",
      "0.862765 (0.056145) with: {'batch_size': 32, 'dropout': 0.5, 'neurons': 100}\n",
      "0.906959 (0.038548) with: {'batch_size': 32, 'dropout': 0.5, 'neurons': 200}\n",
      "0.899208 (0.021618) with: {'batch_size': 64, 'dropout': 0.1, 'neurons': 50}\n",
      "0.927640 (0.019723) with: {'batch_size': 64, 'dropout': 0.1, 'neurons': 100}\n",
      "0.930904 (0.019384) with: {'batch_size': 64, 'dropout': 0.1, 'neurons': 200}\n",
      "0.913763 (0.014312) with: {'batch_size': 64, 'dropout': 0.3, 'neurons': 50}\n",
      "0.926686 (0.025827) with: {'batch_size': 64, 'dropout': 0.3, 'neurons': 100}\n",
      "0.930086 (0.016630) with: {'batch_size': 64, 'dropout': 0.3, 'neurons': 200}\n",
      "0.883300 (0.037343) with: {'batch_size': 64, 'dropout': 0.5, 'neurons': 50}\n",
      "0.937023 (0.017696) with: {'batch_size': 64, 'dropout': 0.5, 'neurons': 100}\n",
      "0.929815 (0.014724) with: {'batch_size': 64, 'dropout': 0.5, 'neurons': 200}\n",
      "0.934982 (0.012915) with: {'batch_size': 128, 'dropout': 0.1, 'neurons': 50}\n",
      "0.931585 (0.011772) with: {'batch_size': 128, 'dropout': 0.1, 'neurons': 100}\n",
      "0.917573 (0.023348) with: {'batch_size': 128, 'dropout': 0.1, 'neurons': 200}\n",
      "0.912539 (0.021177) with: {'batch_size': 128, 'dropout': 0.3, 'neurons': 50}\n",
      "0.920565 (0.021492) with: {'batch_size': 128, 'dropout': 0.3, 'neurons': 100}\n",
      "0.909138 (0.017035) with: {'batch_size': 128, 'dropout': 0.3, 'neurons': 200}\n",
      "0.915260 (0.019640) with: {'batch_size': 128, 'dropout': 0.5, 'neurons': 50}\n",
      "0.911182 (0.017113) with: {'batch_size': 128, 'dropout': 0.5, 'neurons': 100}\n",
      "0.929132 (0.019387) with: {'batch_size': 128, 'dropout': 0.5, 'neurons': 200}\n"
     ]
    }
   ],
   "source": [
    "# summarize results\n",
    "print(\"Best: %f using %s\" % (grid_result.best_score_, grid_result.best_params_))\n",
    "means = grid_result.cv_results_['mean_test_score']\n",
    "stds = grid_result.cv_results_['std_test_score']\n",
    "params = grid_result.cv_results_['params']\n",
    "for mean, stdev, param in zip(means, stds, params):\n",
    "    print(\"%f (%f) with: %r\" % (mean, stdev, param))"
   ]
  },
  {
   "cell_type": "code",
   "execution_count": 75,
   "metadata": {},
   "outputs": [],
   "source": [
    "def show_train_history(train_history,n_epochs,train,validation):\n",
    "    plt.plot(train_history.history[train])\n",
    "    plt.plot(train_history.history[validation])\n",
    "    plt.title('Train History: %i epochs' % n_epochs)\n",
    "    plt.ylabel(train)\n",
    "    plt.xlabel('Epoch')\n",
    "    plt.xticks(np.arange(0, n_epochs, step=round(n_epochs/10)))\n",
    "    plt.legend(['train', 'validation'], loc='best')\n",
    "    plt.show()"
   ]
  },
  {
   "cell_type": "code",
   "execution_count": 76,
   "metadata": {},
   "outputs": [
    {
     "name": "stdout",
     "output_type": "stream",
     "text": [
      "Train on 5514 samples, validate on 1838 samples\n",
      "Epoch 1/35\n",
      "5514/5514 - 14s - loss: 0.9982 - accuracy: 0.6099 - val_loss: 0.5149 - val_accuracy: 0.8074\n",
      "Epoch 2/35\n",
      "5514/5514 - 12s - loss: 0.4362 - accuracy: 0.8330 - val_loss: 0.4335 - val_accuracy: 0.8645\n",
      "Epoch 3/35\n",
      "5514/5514 - 12s - loss: 0.3342 - accuracy: 0.8814 - val_loss: 0.2817 - val_accuracy: 0.9032\n",
      "Epoch 4/35\n",
      "5514/5514 - 12s - loss: 0.2166 - accuracy: 0.9258 - val_loss: 0.1907 - val_accuracy: 0.9325\n",
      "Epoch 5/35\n",
      "5514/5514 - 12s - loss: 0.1423 - accuracy: 0.9496 - val_loss: 0.1851 - val_accuracy: 0.9380\n",
      "Epoch 6/35\n",
      "5514/5514 - 12s - loss: 0.1380 - accuracy: 0.9460 - val_loss: 0.1887 - val_accuracy: 0.9380\n",
      "Epoch 7/35\n",
      "5514/5514 - 12s - loss: 0.1398 - accuracy: 0.9454 - val_loss: 0.1929 - val_accuracy: 0.9282\n",
      "Epoch 8/35\n",
      "5514/5514 - 12s - loss: 0.1315 - accuracy: 0.9487 - val_loss: 0.2031 - val_accuracy: 0.9331\n",
      "Epoch 9/35\n",
      "5514/5514 - 12s - loss: 0.1284 - accuracy: 0.9432 - val_loss: 0.1931 - val_accuracy: 0.9391\n",
      "Epoch 10/35\n",
      "5514/5514 - 12s - loss: 0.1089 - accuracy: 0.9519 - val_loss: 0.2228 - val_accuracy: 0.9227\n",
      "Epoch 11/35\n",
      "5514/5514 - 12s - loss: 0.0996 - accuracy: 0.9576 - val_loss: 0.2400 - val_accuracy: 0.9244\n",
      "Epoch 12/35\n",
      "5514/5514 - 13s - loss: 0.1152 - accuracy: 0.9519 - val_loss: 0.2084 - val_accuracy: 0.9266\n",
      "Epoch 13/35\n",
      "5514/5514 - 13s - loss: 0.1062 - accuracy: 0.9523 - val_loss: 0.2745 - val_accuracy: 0.9178\n",
      "Epoch 14/35\n",
      "5514/5514 - 12s - loss: 0.0970 - accuracy: 0.9543 - val_loss: 0.2439 - val_accuracy: 0.9021\n",
      "Epoch 15/35\n",
      "5514/5514 - 12s - loss: 0.1253 - accuracy: 0.9518 - val_loss: 0.2197 - val_accuracy: 0.9222\n",
      "Epoch 16/35\n",
      "5514/5514 - 12s - loss: 0.0934 - accuracy: 0.9572 - val_loss: 0.2246 - val_accuracy: 0.9353\n",
      "Epoch 17/35\n",
      "5514/5514 - 12s - loss: 0.1000 - accuracy: 0.9538 - val_loss: 0.2762 - val_accuracy: 0.8052\n",
      "Epoch 18/35\n",
      "5514/5514 - 12s - loss: 0.1555 - accuracy: 0.9349 - val_loss: 0.1705 - val_accuracy: 0.9336\n",
      "Epoch 19/35\n",
      "5514/5514 - 12s - loss: 0.1101 - accuracy: 0.9536 - val_loss: 0.1738 - val_accuracy: 0.9374\n",
      "Epoch 20/35\n",
      "5514/5514 - 12s - loss: 0.0991 - accuracy: 0.9530 - val_loss: 0.2323 - val_accuracy: 0.9260\n",
      "Epoch 21/35\n",
      "5514/5514 - 12s - loss: 0.0956 - accuracy: 0.9583 - val_loss: 0.2394 - val_accuracy: 0.9380\n",
      "Epoch 00021: early stopping\n"
     ]
    }
   ],
   "source": [
    "model = create_RNN_model(neurons=grid_result.best_params_['neurons'], \n",
    "                     dropout=grid_result.best_params_['dropout'], \n",
    "                     batch_size=grid_result.best_params_['batch_size'])\n",
    "train_history = model.fit(x=X_train_scaled, y=y_train,  \n",
    "                          validation_split=0.25, \n",
    "                          epochs=n_epochs, \n",
    "                          batch_size=grid_result.best_params_['batch_size'], \n",
    "                          verbose=2,\n",
    "                          callbacks=[es])\n"
   ]
  },
  {
   "cell_type": "code",
   "execution_count": 77,
   "metadata": {},
   "outputs": [
    {
     "data": {
      "image/png": "[encoded data removed]",
      "text/plain": [
       "<Figure size 432x288 with 1 Axes>"
      ]
     },
     "metadata": {
      "needs_background": "light"
     },
     "output_type": "display_data"
    },
    {
     "data": {
      "image/png": "[encoded data removed]",
      "text/plain": [
       "<Figure size 432x288 with 1 Axes>"
      ]
     },
     "metadata": {
      "needs_background": "light"
     },
     "output_type": "display_data"
    }
   ],
   "source": [
    "show_train_history(train_history,n_epochs,'accuracy','val_accuracy')\n",
    "show_train_history(train_history,n_epochs,'loss','val_loss')"
   ]
  },
  {
   "cell_type": "code",
   "execution_count": 78,
   "metadata": {},
   "outputs": [],
   "source": [
    "# define function for creating labeled confusion matrix for multiclass identification\n",
    "def labeled_confusion_mat(true_vector, pred_vector, labels):\n",
    "    confusion_matrix_labeled = pd.DataFrame(confusion_matrix(true_vector, pred_vector))\n",
    "    confusion_matrix_labeled.columns = list(labels)\n",
    "    confusion_matrix_labeled.index = list(labels)\n",
    "    return confusion_matrix_labeled"
   ]
  },
  {
   "cell_type": "code",
   "execution_count": 79,
   "metadata": {},
   "outputs": [
    {
     "name": "stdout",
     "output_type": "stream",
     "text": [
      "Confusion matrix for RNN evaluation on training set:\n",
      "\n",
      "        LAY  SIT  STA  WALK  WALK_D  WALK_U\n",
      "LAY     463    7   26     0       0       0\n",
      "SIT       2  451   16     2       0       0\n",
      "STA       0    0  420     0       0       0\n",
      "WALK      0   21    0   408      57       5\n",
      "WALK_D    0    2    0    65     465       0\n",
      "WALK_U    0   19    0     0       0     518\n",
      "\n",
      "Classification report for RNN evaluation on training set:\n",
      "\n",
      "              precision    recall  f1-score   support\n",
      "\n",
      "         LAY       1.00      0.93      0.96       496\n",
      "         SIT       0.90      0.96      0.93       471\n",
      "         STA       0.91      1.00      0.95       420\n",
      "        WALK       0.86      0.83      0.84       491\n",
      "      WALK_D       0.89      0.87      0.88       532\n",
      "      WALK_U       0.99      0.96      0.98       537\n",
      "\n",
      "    accuracy                           0.92      2947\n",
      "   macro avg       0.92      0.93      0.92      2947\n",
      "weighted avg       0.93      0.92      0.92      2947\n",
      "\n"
     ]
    }
   ],
   "source": [
    "from sklearn.metrics import classification_report\n",
    "from sklearn.metrics import confusion_matrix\n",
    "\n",
    "# evaluate RNN model on test set using .predict() and then revert to integer class label encoding\n",
    "y_test_pred_encoded = model.predict(X_test_scaled)\n",
    "y_test_pred = np.argmax(y_test_pred_encoded, axis =1)\n",
    "y_test_act = np.argmax(y_test, axis =1)\n",
    "\n",
    "labels = ['LAY', 'SIT', 'STA', 'WALK', 'WALK_D', 'WALK_U']\n",
    "print('Confusion matrix for RNN evaluation on training set:\\n')\n",
    "print(labeled_confusion_mat(y_test_act, y_test_pred, labels))\n",
    "print('\\nClassification report for RNN evaluation on training set:\\n')\n",
    "print(classification_report(y_test_act, y_test_pred, target_names=labels))"
   ]
  },
  {
   "cell_type": "markdown",
   "metadata": {},
   "source": [
    "__CNN LSTM Model__"
   ]
  },
  {
   "cell_type": "code",
   "execution_count": 108,
   "metadata": {},
   "outputs": [],
   "source": [
    "# Use scikit-learn to grid search the network hyperparameters\n",
    "from sklearn.model_selection import GridSearchCV\n",
    "from sklearn.model_selection import StratifiedKFold\n",
    "from tensorflow.keras.models import Sequential\n",
    "from tensorflow.keras.layers import Dense\n",
    "from tensorflow.keras.layers import Flatten\n",
    "from tensorflow.keras.layers import Dropout\n",
    "from tensorflow.keras.layers import LSTM\n",
    "from tensorflow.keras.layers import TimeDistributed\n",
    "from tensorflow.keras.layers import Conv1D\n",
    "from tensorflow.keras.layers import MaxPooling1D\n",
    "from tensorflow.keras.wrappers.scikit_learn import KerasClassifier\n",
    "from tensorflow.keras.callbacks import EarlyStopping\n",
    "\n",
    "# Define key array lengths \n",
    "n_timesteps, n_features, n_outputs = X_train.shape[1], X_train.shape[2], y_train.shape[1]\n",
    "# reshape data into time steps of sub-sequences\n",
    "n_steps, n_length = 4, 32\n",
    "X_train_reshaped = X_train_scaled.reshape((X_train.shape[0], n_steps, n_length, n_features))\n",
    "X_test_reshaped = X_test_scaled.reshape((X_test.shape[0], n_steps, n_length, n_features))\n",
    "\n",
    "# Function to create model, required for KerasClassifier\n",
    "def create_CNN_LSTM_model(neurons=100, dropout=0.5, batch_size=64):\n",
    "    # define model\n",
    "    #verbose, epochs, batch_size = 0, 25, 64\n",
    "\n",
    "    # define model\n",
    "    model = Sequential()\n",
    "    model.add(TimeDistributed(Conv1D(filters=64, kernel_size=3, activation='relu'), input_shape=(None,n_length,n_features)))\n",
    "    model.add(TimeDistributed(Conv1D(filters=64, kernel_size=3, activation='relu')))\n",
    "    model.add(TimeDistributed(Dropout(dropout)))\n",
    "    model.add(TimeDistributed(MaxPooling1D(pool_size=2)))\n",
    "    model.add(TimeDistributed(Flatten()))\n",
    "    model.add(LSTM(neurons))\n",
    "    model.add(Dropout(dropout))\n",
    "    model.add(Dense(neurons, activation='relu'))\n",
    "    model.add(Dense(n_outputs, activation='softmax'))\n",
    "    model.compile(loss='categorical_crossentropy', optimizer='adam', metrics=['accuracy'])\n",
    "    \n",
    "    return model"
   ]
  },
  {
   "cell_type": "code",
   "execution_count": 109,
   "metadata": {},
   "outputs": [],
   "source": [
    "# create model with early stopping monitor (if model convergence reached before n_epochs)\n",
    "n_epochs = 35\n",
    "model = KerasClassifier(build_fn=create_CNN_LSTM_model, verbose=0, epochs=n_epochs)\n",
    "es = EarlyStopping(monitor='loss', mode='min', verbose=1, patience=5)\n",
    "\n",
    "# define the grid search parameters\n",
    "neurons = [50, 100, 200]\n",
    "dropout = [0.1,0.3,0.5]\n",
    "batch_size = [32, 64, 128]\n",
    "\n",
    "# neurons = [100]\n",
    "# dropout = [0.5]\n",
    "# batch_size = [64]\n",
    "#filters = [64]\n",
    "#kernel_size = [3]\n",
    "param_grid = dict(neurons=neurons, \n",
    "                  dropout=dropout, \n",
    "                  batch_size=batch_size)\n",
    "                  #filters = filters,\n",
    "                  #kernel_size = kernel_size)\n",
    "\n",
    "# run grid search and report results and early stopping\n",
    "# grid = GridSearchCV(estimator=model, param_grid=param_grid, n_jobs=-1, cv=3, verbose=1)\n",
    "grid = GridSearchCV(estimator=model, param_grid=param_grid, cv=3, verbose=1, n_jobs=1)"
   ]
  },
  {
   "cell_type": "code",
   "execution_count": 93,
   "metadata": {},
   "outputs": [
    {
     "name": "stdout",
     "output_type": "stream",
     "text": [
      "Fitting 3 folds for each of 1 candidates, totalling 3 fits\n"
     ]
    },
    {
     "name": "stderr",
     "output_type": "stream",
     "text": [
      "[Parallel(n_jobs=1)]: Using backend SequentialBackend with 1 concurrent workers.\n"
     ]
    },
    {
     "name": "stdout",
     "output_type": "stream",
     "text": [
      "Epoch 00032: early stopping\n",
      "Epoch 00020: early stopping\n"
     ]
    },
    {
     "name": "stderr",
     "output_type": "stream",
     "text": [
      "[Parallel(n_jobs=1)]: Done   3 out of   3 | elapsed:  3.7min finished\n"
     ]
    }
   ],
   "source": [
    "from joblib import Parallel, delayed\n",
    "# results = Parallel(n_jobs=2, verbose=5)(\n",
    "#     delayed(test_data)(data) for _ in range(10))\n",
    "\n",
    "# grid_result = Parallel(n_jobs=8, verbose=5)(delayed(grid.fit(X_train_scaled, y_train, callbacks=[es])))\n",
    "grid_result = grid.fit(X_train_reshaped, y_train, callbacks=[es])\n"
   ]
  },
  {
   "cell_type": "code",
   "execution_count": 94,
   "metadata": {},
   "outputs": [
    {
     "name": "stdout",
     "output_type": "stream",
     "text": [
      "Best: 0.934033 using {'batch_size': 64, 'dropout': 0.5, 'neurons': 100}\n",
      "0.934033 (0.019603) with: {'batch_size': 64, 'dropout': 0.5, 'neurons': 100}\n"
     ]
    }
   ],
   "source": [
    "# summarize results\n",
    "print(\"Best: %f using %s\" % (grid_result.best_score_, grid_result.best_params_))\n",
    "means = grid_result.cv_results_['mean_test_score']\n",
    "stds = grid_result.cv_results_['std_test_score']\n",
    "params = grid_result.cv_results_['params']\n",
    "for mean, stdev, param in zip(means, stds, params):\n",
    "    print(\"%f (%f) with: %r\" % (mean, stdev, param))"
   ]
  },
  {
   "cell_type": "code",
   "execution_count": 95,
   "metadata": {},
   "outputs": [],
   "source": [
    "def show_train_history(train_history,n_epochs,train,validation):\n",
    "    plt.plot(train_history.history[train])\n",
    "    plt.plot(train_history.history[validation])\n",
    "    plt.title('Train History: %i epochs' % n_epochs)\n",
    "    plt.ylabel(train)\n",
    "    plt.xlabel('Epoch')\n",
    "    plt.xticks(np.arange(0, n_epochs, step=round(n_epochs/10)))\n",
    "    plt.legend(['train', 'validation'], loc='best')\n",
    "    plt.show()"
   ]
  },
  {
   "cell_type": "code",
   "execution_count": 99,
   "metadata": {},
   "outputs": [
    {
     "name": "stdout",
     "output_type": "stream",
     "text": [
      "Train on 5514 samples, validate on 1838 samples\n",
      "Epoch 1/35\n",
      "5514/5514 - 4s - loss: 0.6257 - accuracy: 0.7456 - val_loss: 0.2916 - val_accuracy: 0.8874\n",
      "Epoch 2/35\n",
      "5514/5514 - 3s - loss: 0.1656 - accuracy: 0.9343 - val_loss: 0.1972 - val_accuracy: 0.9347\n",
      "Epoch 3/35\n",
      "5514/5514 - 3s - loss: 0.1169 - accuracy: 0.9532 - val_loss: 0.2374 - val_accuracy: 0.9293\n",
      "Epoch 4/35\n",
      "5514/5514 - 3s - loss: 0.1017 - accuracy: 0.9563 - val_loss: 0.2111 - val_accuracy: 0.9374\n",
      "Epoch 5/35\n",
      "5514/5514 - 3s - loss: 0.0901 - accuracy: 0.9581 - val_loss: 0.2153 - val_accuracy: 0.9402\n",
      "Epoch 6/35\n",
      "5514/5514 - 3s - loss: 0.0809 - accuracy: 0.9603 - val_loss: 0.2192 - val_accuracy: 0.9200\n",
      "Epoch 7/35\n",
      "5514/5514 - 3s - loss: 0.0823 - accuracy: 0.9596 - val_loss: 0.2057 - val_accuracy: 0.9418\n",
      "Epoch 8/35\n",
      "5514/5514 - 3s - loss: 0.0683 - accuracy: 0.9635 - val_loss: 0.2555 - val_accuracy: 0.9407\n",
      "Epoch 9/35\n",
      "5514/5514 - 3s - loss: 0.0726 - accuracy: 0.9663 - val_loss: 0.2359 - val_accuracy: 0.9412\n",
      "Epoch 10/35\n",
      "5514/5514 - 3s - loss: 0.0662 - accuracy: 0.9635 - val_loss: 0.2732 - val_accuracy: 0.9129\n",
      "Epoch 11/35\n",
      "5514/5514 - 3s - loss: 0.0668 - accuracy: 0.9666 - val_loss: 0.2310 - val_accuracy: 0.9434\n",
      "Epoch 12/35\n",
      "5514/5514 - 3s - loss: 0.0602 - accuracy: 0.9726 - val_loss: 0.2742 - val_accuracy: 0.9347\n",
      "Epoch 13/35\n",
      "5514/5514 - 3s - loss: 0.0814 - accuracy: 0.9672 - val_loss: 0.2856 - val_accuracy: 0.9108\n",
      "Epoch 14/35\n",
      "5514/5514 - 3s - loss: 0.0575 - accuracy: 0.9719 - val_loss: 0.2145 - val_accuracy: 0.9440\n",
      "Epoch 15/35\n",
      "5514/5514 - 3s - loss: 0.0471 - accuracy: 0.9752 - val_loss: 0.2830 - val_accuracy: 0.8983\n",
      "Epoch 16/35\n",
      "5514/5514 - 3s - loss: 0.0474 - accuracy: 0.9764 - val_loss: 0.2831 - val_accuracy: 0.9434\n",
      "Epoch 17/35\n",
      "5514/5514 - 3s - loss: 0.0454 - accuracy: 0.9770 - val_loss: 0.2695 - val_accuracy: 0.9135\n",
      "Epoch 18/35\n",
      "5514/5514 - 3s - loss: 0.0517 - accuracy: 0.9750 - val_loss: 0.2840 - val_accuracy: 0.9396\n",
      "Epoch 19/35\n",
      "5514/5514 - 3s - loss: 0.0498 - accuracy: 0.9753 - val_loss: 0.3208 - val_accuracy: 0.9434\n",
      "Epoch 20/35\n",
      "5514/5514 - 3s - loss: 0.0404 - accuracy: 0.9815 - val_loss: 0.2765 - val_accuracy: 0.9396\n",
      "Epoch 21/35\n",
      "5514/5514 - 3s - loss: 0.0600 - accuracy: 0.9764 - val_loss: 0.2549 - val_accuracy: 0.9380\n",
      "Epoch 22/35\n",
      "5514/5514 - 3s - loss: 0.0478 - accuracy: 0.9771 - val_loss: 0.2854 - val_accuracy: 0.9097\n",
      "Epoch 23/35\n",
      "5514/5514 - 3s - loss: 0.0424 - accuracy: 0.9806 - val_loss: 0.2802 - val_accuracy: 0.9423\n",
      "Epoch 24/35\n",
      "5514/5514 - 3s - loss: 0.0371 - accuracy: 0.9811 - val_loss: 0.3436 - val_accuracy: 0.9249\n",
      "Epoch 25/35\n",
      "5514/5514 - 3s - loss: 0.0410 - accuracy: 0.9815 - val_loss: 0.3437 - val_accuracy: 0.9298\n",
      "Epoch 26/35\n",
      "5514/5514 - 3s - loss: 0.0306 - accuracy: 0.9859 - val_loss: 0.3050 - val_accuracy: 0.9440\n",
      "Epoch 27/35\n",
      "5514/5514 - 3s - loss: 0.0347 - accuracy: 0.9835 - val_loss: 0.3435 - val_accuracy: 0.9075\n",
      "Epoch 28/35\n",
      "5514/5514 - 3s - loss: 0.0321 - accuracy: 0.9849 - val_loss: 0.3787 - val_accuracy: 0.9282\n",
      "Epoch 29/35\n",
      "5514/5514 - 3s - loss: 0.0282 - accuracy: 0.9862 - val_loss: 0.3824 - val_accuracy: 0.9287\n",
      "Epoch 30/35\n",
      "5514/5514 - 3s - loss: 0.0297 - accuracy: 0.9864 - val_loss: 0.2640 - val_accuracy: 0.9282\n",
      "Epoch 31/35\n",
      "5514/5514 - 3s - loss: 0.0379 - accuracy: 0.9835 - val_loss: 0.2383 - val_accuracy: 0.9456\n",
      "Epoch 32/35\n",
      "5514/5514 - 3s - loss: 0.0352 - accuracy: 0.9853 - val_loss: 0.3193 - val_accuracy: 0.9336\n",
      "Epoch 33/35\n",
      "5514/5514 - 3s - loss: 0.0303 - accuracy: 0.9886 - val_loss: 0.3283 - val_accuracy: 0.9233\n",
      "Epoch 34/35\n",
      "5514/5514 - 3s - loss: 0.0219 - accuracy: 0.9895 - val_loss: 0.3974 - val_accuracy: 0.9445\n",
      "Epoch 35/35\n",
      "5514/5514 - 3s - loss: 0.0297 - accuracy: 0.9866 - val_loss: 0.3128 - val_accuracy: 0.9516\n"
     ]
    }
   ],
   "source": [
    "model = create_CNN_LSTM_model(neurons=grid_result.best_params_['neurons'], \n",
    "                     dropout=grid_result.best_params_['dropout'], \n",
    "                     batch_size=grid_result.best_params_['batch_size'])\n",
    "train_history = model.fit(x=X_train_reshaped, y=y_train,  \n",
    "                          validation_split=0.25, \n",
    "                          epochs=n_epochs, \n",
    "                          batch_size=grid_result.best_params_['batch_size'], \n",
    "                          verbose=2,\n",
    "                          callbacks=[es])\n"
   ]
  },
  {
   "cell_type": "code",
   "execution_count": 96,
   "metadata": {},
   "outputs": [
    {
     "data": {
      "image/png": "[encoded data removed]",
      "text/plain": [
       "<Figure size 432x288 with 1 Axes>"
      ]
     },
     "metadata": {
      "needs_background": "light"
     },
     "output_type": "display_data"
    },
    {
     "data": {
      "image/png": "[encoded data removed]",
      "text/plain": [
       "<Figure size 432x288 with 1 Axes>"
      ]
     },
     "metadata": {
      "needs_background": "light"
     },
     "output_type": "display_data"
    }
   ],
   "source": [
    "show_train_history(train_history,n_epochs,'accuracy','val_accuracy')\n",
    "show_train_history(train_history,n_epochs,'loss','val_loss')"
   ]
  },
  {
   "cell_type": "code",
   "execution_count": 107,
   "metadata": {},
   "outputs": [
    {
     "name": "stdout",
     "output_type": "stream",
     "text": [
      "Confusion matrix for CNN LSTM evaluation on training set:\n",
      "\n",
      "        LAY  SIT  STA  WALK  WALK_D  WALK_U\n",
      "LAY     475    2   19     0       0       0\n",
      "SIT       5  442   24     0       0       0\n",
      "STA       2    0  418     0       0       0\n",
      "WALK      0    1    0   374     110       6\n",
      "WALK_D    0    0    0    50     482       0\n",
      "WALK_U    0    0    0     0       0     537\n",
      "\n",
      "Classification report for CNN LSTM evaluation on training set:\n",
      "\n",
      "              precision    recall  f1-score   support\n",
      "\n",
      "         LAY       0.99      0.96      0.97       496\n",
      "         SIT       0.99      0.94      0.97       471\n",
      "         STA       0.91      1.00      0.95       420\n",
      "        WALK       0.88      0.76      0.82       491\n",
      "      WALK_D       0.81      0.91      0.86       532\n",
      "      WALK_U       0.99      1.00      0.99       537\n",
      "\n",
      "    accuracy                           0.93      2947\n",
      "   macro avg       0.93      0.93      0.93      2947\n",
      "weighted avg       0.93      0.93      0.93      2947\n",
      "\n"
     ]
    }
   ],
   "source": [
    "from sklearn.metrics import classification_report\n",
    "from sklearn.metrics import confusion_matrix\n",
    "\n",
    "# evaluate model on test set using .predict() and then revert to integer class label encoding\n",
    "y_test_pred_encoded = model.predict(X_test_reshaped)\n",
    "y_test_pred = np.argmax(y_test_pred_encoded, axis =1)\n",
    "y_test_act = np.argmax(y_test, axis =1)\n",
    "\n",
    "labels = ['LAY', 'SIT', 'STA', 'WALK', 'WALK_D', 'WALK_U']\n",
    "print('Confusion matrix for CNN LSTM evaluation on test set:\\n')\n",
    "print(labeled_confusion_mat(y_test_act, y_test_pred, labels))\n",
    "print('\\nClassification report for CNN LSTM evaluation on test set:\\n')\n",
    "print(classification_report(y_test_act, y_test_pred, target_names=labels))"
   ]
  },
  {
   "cell_type": "markdown",
   "metadata": {},
   "source": [
    "__ConvLSTM Model__"
   ]
  },
  {
   "cell_type": "code",
   "execution_count": 91,
   "metadata": {},
   "outputs": [],
   "source": [
    "# Use scikit-learn to grid search the network hyperparameters\n",
    "from sklearn.model_selection import GridSearchCV\n",
    "from sklearn.model_selection import StratifiedKFold\n",
    "from tensorflow.keras.models import Sequential\n",
    "from tensorflow.keras.layers import Dense\n",
    "from tensorflow.keras.layers import Flatten\n",
    "from tensorflow.keras.layers import Dropout\n",
    "from tensorflow.keras.layers import LSTM\n",
    "from tensorflow.keras.layers import TimeDistributed\n",
    "from tensorflow.keras.layers import Conv1D\n",
    "from tensorflow.keras.layers import MaxPooling1D\n",
    "from tensorflow.keras.wrappers.scikit_learn import KerasClassifier\n",
    "from tensorflow.keras.callbacks import EarlyStopping\n",
    "\n",
    "# Define key array lengths \n",
    "n_timesteps, n_features, n_outputs = X_train.shape[1], X_train.shape[2], y_train.shape[1]\n",
    "# reshape data into time steps of sub-sequences\n",
    "n_steps, n_length = 4, 32\n",
    "X_train_reshaped = X_train_scaled.reshape((X_train.shape[0], n_steps, n_length, n_features))\n",
    "X_test_reshaped = X_test_scaled.reshape((X_test.shape[0], n_steps, n_length, n_features))\n",
    "\n",
    "# Function to create model, required for KerasClassifier\n",
    "def create_ConvLSTM_model(neurons=100, dropout=0.5, batch_size=64):\n",
    "    # define model\n",
    "    #verbose, epochs, batch_size = 0, 25, 64\n",
    "\n",
    "    # define model\n",
    "    model = Sequential()\n",
    "    model.add(TimeDistributed(Conv1D(filters=64, kernel_size=3, activation='relu'), input_shape=(None,n_length,n_features)))\n",
    "    model.add(TimeDistributed(Conv1D(filters=64, kernel_size=3, activation='relu')))\n",
    "    model.add(TimeDistributed(Dropout(dropout)))\n",
    "    model.add(TimeDistributed(MaxPooling1D(pool_size=2)))\n",
    "    model.add(TimeDistributed(Flatten()))\n",
    "    model.add(LSTM(neurons))\n",
    "    model.add(Dropout(dropout))\n",
    "    model.add(Dense(neurons, activation='relu'))\n",
    "    model.add(Dense(n_outputs, activation='softmax'))\n",
    "    model.compile(loss='categorical_crossentropy', optimizer='adam', metrics=['accuracy'])\n",
    "    \n",
    "    return model"
   ]
  },
  {
   "cell_type": "code",
   "execution_count": 92,
   "metadata": {},
   "outputs": [],
   "source": [
    "# create model with early stopping monitor (if model convergence reached before n_epochs)\n",
    "n_epochs = 35\n",
    "model = KerasClassifier(build_fn=create_CNN_LSTM_model, verbose=0, epochs=n_epochs)\n",
    "es = EarlyStopping(monitor='loss', mode='min', verbose=1, patience=5)\n",
    "\n",
    "# define the grid search parameters\n",
    "#neurons = [50, 100, 200]\n",
    "#dropout = [0.1,0.3,0.5]\n",
    "#batch_size = [32, 64, 128]\n",
    "\n",
    "neurons = [100]\n",
    "dropout = [0.5]\n",
    "batch_size = [64]\n",
    "#filters = [64]\n",
    "#kernel_size = [3]\n",
    "param_grid = dict(neurons=neurons, \n",
    "                  dropout=dropout, \n",
    "                  batch_size=batch_size)\n",
    "                  #filters = filters,\n",
    "                  #kernel_size = kernel_size)\n",
    "\n",
    "# run grid search and report results and early stopping\n",
    "# grid = GridSearchCV(estimator=model, param_grid=param_grid, n_jobs=-1, cv=3, verbose=1)\n",
    "grid = GridSearchCV(estimator=model, param_grid=param_grid, cv=3, verbose=1, n_jobs=1)"
   ]
  },
  {
   "cell_type": "code",
   "execution_count": 93,
   "metadata": {},
   "outputs": [
    {
     "name": "stdout",
     "output_type": "stream",
     "text": [
      "Fitting 3 folds for each of 1 candidates, totalling 3 fits\n"
     ]
    },
    {
     "name": "stderr",
     "output_type": "stream",
     "text": [
      "[Parallel(n_jobs=1)]: Using backend SequentialBackend with 1 concurrent workers.\n"
     ]
    },
    {
     "name": "stdout",
     "output_type": "stream",
     "text": [
      "Epoch 00032: early stopping\n",
      "Epoch 00020: early stopping\n"
     ]
    },
    {
     "name": "stderr",
     "output_type": "stream",
     "text": [
      "[Parallel(n_jobs=1)]: Done   3 out of   3 | elapsed:  3.7min finished\n"
     ]
    }
   ],
   "source": [
    "from joblib import Parallel, delayed\n",
    "# results = Parallel(n_jobs=2, verbose=5)(\n",
    "#     delayed(test_data)(data) for _ in range(10))\n",
    "\n",
    "# grid_result = Parallel(n_jobs=8, verbose=5)(delayed(grid.fit(X_train_scaled, y_train, callbacks=[es])))\n",
    "grid_result = grid.fit(X_train_reshaped, y_train, callbacks=[es])\n"
   ]
  },
  {
   "cell_type": "code",
   "execution_count": 94,
   "metadata": {},
   "outputs": [
    {
     "name": "stdout",
     "output_type": "stream",
     "text": [
      "Best: 0.934033 using {'batch_size': 64, 'dropout': 0.5, 'neurons': 100}\n",
      "0.934033 (0.019603) with: {'batch_size': 64, 'dropout': 0.5, 'neurons': 100}\n"
     ]
    }
   ],
   "source": [
    "# summarize results\n",
    "print(\"Best: %f using %s\" % (grid_result.best_score_, grid_result.best_params_))\n",
    "means = grid_result.cv_results_['mean_test_score']\n",
    "stds = grid_result.cv_results_['std_test_score']\n",
    "params = grid_result.cv_results_['params']\n",
    "for mean, stdev, param in zip(means, stds, params):\n",
    "    print(\"%f (%f) with: %r\" % (mean, stdev, param))"
   ]
  },
  {
   "cell_type": "code",
   "execution_count": 95,
   "metadata": {},
   "outputs": [],
   "source": [
    "def show_train_history(train_history,n_epochs,train,validation):\n",
    "    plt.plot(train_history.history[train])\n",
    "    plt.plot(train_history.history[validation])\n",
    "    plt.title('Train History: %i epochs' % n_epochs)\n",
    "    plt.ylabel(train)\n",
    "    plt.xlabel('Epoch')\n",
    "    plt.xticks(np.arange(0, n_epochs, step=round(n_epochs/10)))\n",
    "    plt.legend(['train', 'validation'], loc='best')\n",
    "    plt.show()"
   ]
  },
  {
   "cell_type": "code",
   "execution_count": 99,
   "metadata": {},
   "outputs": [
    {
     "name": "stdout",
     "output_type": "stream",
     "text": [
      "Train on 5514 samples, validate on 1838 samples\n",
      "Epoch 1/35\n",
      "5514/5514 - 4s - loss: 0.6257 - accuracy: 0.7456 - val_loss: 0.2916 - val_accuracy: 0.8874\n",
      "Epoch 2/35\n",
      "5514/5514 - 3s - loss: 0.1656 - accuracy: 0.9343 - val_loss: 0.1972 - val_accuracy: 0.9347\n",
      "Epoch 3/35\n",
      "5514/5514 - 3s - loss: 0.1169 - accuracy: 0.9532 - val_loss: 0.2374 - val_accuracy: 0.9293\n",
      "Epoch 4/35\n",
      "5514/5514 - 3s - loss: 0.1017 - accuracy: 0.9563 - val_loss: 0.2111 - val_accuracy: 0.9374\n",
      "Epoch 5/35\n",
      "5514/5514 - 3s - loss: 0.0901 - accuracy: 0.9581 - val_loss: 0.2153 - val_accuracy: 0.9402\n",
      "Epoch 6/35\n",
      "5514/5514 - 3s - loss: 0.0809 - accuracy: 0.9603 - val_loss: 0.2192 - val_accuracy: 0.9200\n",
      "Epoch 7/35\n",
      "5514/5514 - 3s - loss: 0.0823 - accuracy: 0.9596 - val_loss: 0.2057 - val_accuracy: 0.9418\n",
      "Epoch 8/35\n",
      "5514/5514 - 3s - loss: 0.0683 - accuracy: 0.9635 - val_loss: 0.2555 - val_accuracy: 0.9407\n",
      "Epoch 9/35\n",
      "5514/5514 - 3s - loss: 0.0726 - accuracy: 0.9663 - val_loss: 0.2359 - val_accuracy: 0.9412\n",
      "Epoch 10/35\n",
      "5514/5514 - 3s - loss: 0.0662 - accuracy: 0.9635 - val_loss: 0.2732 - val_accuracy: 0.9129\n",
      "Epoch 11/35\n",
      "5514/5514 - 3s - loss: 0.0668 - accuracy: 0.9666 - val_loss: 0.2310 - val_accuracy: 0.9434\n",
      "Epoch 12/35\n",
      "5514/5514 - 3s - loss: 0.0602 - accuracy: 0.9726 - val_loss: 0.2742 - val_accuracy: 0.9347\n",
      "Epoch 13/35\n",
      "5514/5514 - 3s - loss: 0.0814 - accuracy: 0.9672 - val_loss: 0.2856 - val_accuracy: 0.9108\n",
      "Epoch 14/35\n",
      "5514/5514 - 3s - loss: 0.0575 - accuracy: 0.9719 - val_loss: 0.2145 - val_accuracy: 0.9440\n",
      "Epoch 15/35\n",
      "5514/5514 - 3s - loss: 0.0471 - accuracy: 0.9752 - val_loss: 0.2830 - val_accuracy: 0.8983\n",
      "Epoch 16/35\n",
      "5514/5514 - 3s - loss: 0.0474 - accuracy: 0.9764 - val_loss: 0.2831 - val_accuracy: 0.9434\n",
      "Epoch 17/35\n",
      "5514/5514 - 3s - loss: 0.0454 - accuracy: 0.9770 - val_loss: 0.2695 - val_accuracy: 0.9135\n",
      "Epoch 18/35\n",
      "5514/5514 - 3s - loss: 0.0517 - accuracy: 0.9750 - val_loss: 0.2840 - val_accuracy: 0.9396\n",
      "Epoch 19/35\n",
      "5514/5514 - 3s - loss: 0.0498 - accuracy: 0.9753 - val_loss: 0.3208 - val_accuracy: 0.9434\n",
      "Epoch 20/35\n",
      "5514/5514 - 3s - loss: 0.0404 - accuracy: 0.9815 - val_loss: 0.2765 - val_accuracy: 0.9396\n",
      "Epoch 21/35\n",
      "5514/5514 - 3s - loss: 0.0600 - accuracy: 0.9764 - val_loss: 0.2549 - val_accuracy: 0.9380\n",
      "Epoch 22/35\n",
      "5514/5514 - 3s - loss: 0.0478 - accuracy: 0.9771 - val_loss: 0.2854 - val_accuracy: 0.9097\n",
      "Epoch 23/35\n",
      "5514/5514 - 3s - loss: 0.0424 - accuracy: 0.9806 - val_loss: 0.2802 - val_accuracy: 0.9423\n",
      "Epoch 24/35\n",
      "5514/5514 - 3s - loss: 0.0371 - accuracy: 0.9811 - val_loss: 0.3436 - val_accuracy: 0.9249\n",
      "Epoch 25/35\n",
      "5514/5514 - 3s - loss: 0.0410 - accuracy: 0.9815 - val_loss: 0.3437 - val_accuracy: 0.9298\n",
      "Epoch 26/35\n",
      "5514/5514 - 3s - loss: 0.0306 - accuracy: 0.9859 - val_loss: 0.3050 - val_accuracy: 0.9440\n",
      "Epoch 27/35\n",
      "5514/5514 - 3s - loss: 0.0347 - accuracy: 0.9835 - val_loss: 0.3435 - val_accuracy: 0.9075\n",
      "Epoch 28/35\n",
      "5514/5514 - 3s - loss: 0.0321 - accuracy: 0.9849 - val_loss: 0.3787 - val_accuracy: 0.9282\n",
      "Epoch 29/35\n",
      "5514/5514 - 3s - loss: 0.0282 - accuracy: 0.9862 - val_loss: 0.3824 - val_accuracy: 0.9287\n",
      "Epoch 30/35\n",
      "5514/5514 - 3s - loss: 0.0297 - accuracy: 0.9864 - val_loss: 0.2640 - val_accuracy: 0.9282\n",
      "Epoch 31/35\n",
      "5514/5514 - 3s - loss: 0.0379 - accuracy: 0.9835 - val_loss: 0.2383 - val_accuracy: 0.9456\n",
      "Epoch 32/35\n",
      "5514/5514 - 3s - loss: 0.0352 - accuracy: 0.9853 - val_loss: 0.3193 - val_accuracy: 0.9336\n",
      "Epoch 33/35\n",
      "5514/5514 - 3s - loss: 0.0303 - accuracy: 0.9886 - val_loss: 0.3283 - val_accuracy: 0.9233\n",
      "Epoch 34/35\n",
      "5514/5514 - 3s - loss: 0.0219 - accuracy: 0.9895 - val_loss: 0.3974 - val_accuracy: 0.9445\n",
      "Epoch 35/35\n",
      "5514/5514 - 3s - loss: 0.0297 - accuracy: 0.9866 - val_loss: 0.3128 - val_accuracy: 0.9516\n"
     ]
    }
   ],
   "source": [
    "model = create_ConvLSTM_model(neurons=grid_result.best_params_['neurons'], \n",
    "                     dropout=grid_result.best_params_['dropout'], \n",
    "                     batch_size=grid_result.best_params_['batch_size'])\n",
    "train_history = model.fit(x=X_train_reshaped, y=y_train,  \n",
    "                          validation_split=0.25, \n",
    "                          epochs=n_epochs, \n",
    "                          batch_size=grid_result.best_params_['batch_size'], \n",
    "                          verbose=2,\n",
    "                          callbacks=[es])\n"
   ]
  },
  {
   "cell_type": "code",
   "execution_count": 96,
   "metadata": {},
   "outputs": [
    {
     "data": {
      "image/png": "[encoded data removed]",
      "text/plain": [
       "<Figure size 432x288 with 1 Axes>"
      ]
     },
     "metadata": {
      "needs_background": "light"
     },
     "output_type": "display_data"
    },
    {
     "data": {
      "image/png": "[encoded data removed]",
      "text/plain": [
       "<Figure size 432x288 with 1 Axes>"
      ]
     },
     "metadata": {
      "needs_background": "light"
     },
     "output_type": "display_data"
    }
   ],
   "source": [
    "show_train_history(train_history,n_epochs,'accuracy','val_accuracy')\n",
    "show_train_history(train_history,n_epochs,'loss','val_loss')"
   ]
  },
  {
   "cell_type": "code",
   "execution_count": 107,
   "metadata": {},
   "outputs": [
    {
     "name": "stdout",
     "output_type": "stream",
     "text": [
      "Confusion matrix for CNN LSTM evaluation on training set:\n",
      "\n",
      "        LAY  SIT  STA  WALK  WALK_D  WALK_U\n",
      "LAY     475    2   19     0       0       0\n",
      "SIT       5  442   24     0       0       0\n",
      "STA       2    0  418     0       0       0\n",
      "WALK      0    1    0   374     110       6\n",
      "WALK_D    0    0    0    50     482       0\n",
      "WALK_U    0    0    0     0       0     537\n",
      "\n",
      "Classification report for CNN LSTM evaluation on training set:\n",
      "\n",
      "              precision    recall  f1-score   support\n",
      "\n",
      "         LAY       0.99      0.96      0.97       496\n",
      "         SIT       0.99      0.94      0.97       471\n",
      "         STA       0.91      1.00      0.95       420\n",
      "        WALK       0.88      0.76      0.82       491\n",
      "      WALK_D       0.81      0.91      0.86       532\n",
      "      WALK_U       0.99      1.00      0.99       537\n",
      "\n",
      "    accuracy                           0.93      2947\n",
      "   macro avg       0.93      0.93      0.93      2947\n",
      "weighted avg       0.93      0.93      0.93      2947\n",
      "\n"
     ]
    }
   ],
   "source": [
    "from sklearn.metrics import classification_report\n",
    "from sklearn.metrics import confusion_matrix\n",
    "\n",
    "# evaluate model on test set using .predict() and then revert to integer class label encoding\n",
    "y_test_pred_encoded = model.predict(X_test_reshaped)\n",
    "y_test_pred = np.argmax(y_test_pred_encoded, axis =1)\n",
    "y_test_act = np.argmax(y_test, axis =1)\n",
    "\n",
    "labels = ['LAY', 'SIT', 'STA', 'WALK', 'WALK_D', 'WALK_U']\n",
    "print('Confusion matrix for ConvLSTM evaluation on test set:\\n')\n",
    "print(labeled_confusion_mat(y_test_act, y_test_pred, labels))\n",
    "print('\\nClassification report for ConvLSTM evaluation on test set:\\n')\n",
    "print(classification_report(y_test_act, y_test_pred, target_names=labels))"
   ]
  },
  {
   "cell_type": "markdown",
   "metadata": {},
   "source": [
    "__Visualizing Misclassified Activities__<br>\n",
    "To better understand the limitations of the RNN model, it is helpful to visualize some of the signal data from activity instances that were misclassified by the model."
   ]
  },
  {
   "cell_type": "code",
   "execution_count": null,
   "metadata": {},
   "outputs": [],
   "source": [
    "\n"
   ]
  }
 ],
 "metadata": {
  "kernelspec": {
   "display_name": "tf_keras_gpu",
   "language": "python",
   "name": "tf_keras_gpu"
  },
  "language_info": {
   "codemirror_mode": {
    "name": "ipython",
    "version": 3
   },
   "file_extension": ".py",
   "mimetype": "text/x-python",
   "name": "python",
   "nbconvert_exporter": "python",
   "pygments_lexer": "ipython3",
   "version": "3.7.6"
  }
 },
 "nbformat": 4,
 "nbformat_minor": 2
}
