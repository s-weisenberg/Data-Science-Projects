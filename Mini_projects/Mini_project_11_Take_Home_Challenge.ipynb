{
 "cells": [
  {
   "cell_type": "markdown",
   "metadata": {},
   "source": [
    "# __SpringBoard Mini-Project: Take Home Challenge__\n",
    "## __Interview Prep__\n",
    "\n",
    "__Written by: Sofy Weisenberg__<br>\n",
    "__Date: 04/27/20__\n",
    "\n"
   ]
  },
  {
   "cell_type": "markdown",
   "metadata": {},
   "source": [
    "__Data Analysis Interview Challenge__\n",
    "\n",
    "Ultimate Technologies Inc. is an American worldwide online transportation network company that has disrupted the taxi and logistics industry and is a prestigious company to work at. This challenge has been adapted from an actual Ultimate Inc. data science challenge.\n",
    "\n",
    "__Part 1 ‑ Exploratory data analysis__\n",
    "\n",
    "The attached logins.json file contains (simulated) timestamps of user logins in a particular\n",
    "geographic location. Aggregate these login counts based on 15minute\n",
    "time intervals, and\n",
    "visualize and describe the resulting time series of login counts in ways that best characterize the\n",
    "underlying patterns of the demand. Please report/illustrate important features of the demand,\n",
    "such as daily cycles. If there are data quality issues, please report them."
   ]
  },
  {
   "cell_type": "code",
   "execution_count": 1,
   "metadata": {},
   "outputs": [],
   "source": [
    "import numpy as np\n",
    "import pandas as pd\n",
    "import matplotlib.pyplot as plt\n",
    "import seaborn as sns\n",
    "import os\n",
    "import time\n",
    "\n",
    "# Use the current working directory path to navigate to the location of the data\n",
    "cwd_path = os.getcwd()\n",
    "data_path = os.path.join(cwd_path, 'logins.json')\n",
    "\n",
    "# Throw an assert error if the path does not exist\n",
    "assert os.path.exists(data_path)"
   ]
  },
  {
   "cell_type": "code",
   "execution_count": 2,
   "metadata": {},
   "outputs": [
    {
     "name": "stdout",
     "output_type": "stream",
     "text": [
      "<class 'pandas.core.frame.DataFrame'>\n",
      "RangeIndex: 93142 entries, 0 to 93141\n",
      "Data columns (total 1 columns):\n",
      " #   Column      Non-Null Count  Dtype         \n",
      "---  ------      --------------  -----         \n",
      " 0   login_time  93142 non-null  datetime64[ns]\n",
      "dtypes: datetime64[ns](1)\n",
      "memory usage: 727.8 KB\n"
     ]
    }
   ],
   "source": [
    "logins_df = pd.read_json(data_path)\n",
    "logins_df.info()"
   ]
  },
  {
   "cell_type": "markdown",
   "metadata": {},
   "source": [
    "All 93142 entries in this 1D series are non-null. All are of the datetime64[ns] data type."
   ]
  },
  {
   "cell_type": "code",
   "execution_count": 3,
   "metadata": {},
   "outputs": [
    {
     "data": {
      "text/html": [
       "<div>\n",
       "<style scoped>\n",
       "    .dataframe tbody tr th:only-of-type {\n",
       "        vertical-align: middle;\n",
       "    }\n",
       "\n",
       "    .dataframe tbody tr th {\n",
       "        vertical-align: top;\n",
       "    }\n",
       "\n",
       "    .dataframe thead th {\n",
       "        text-align: right;\n",
       "    }\n",
       "</style>\n",
       "<table border=\"1\" class=\"dataframe\">\n",
       "  <thead>\n",
       "    <tr style=\"text-align: right;\">\n",
       "      <th></th>\n",
       "      <th>login_time</th>\n",
       "    </tr>\n",
       "  </thead>\n",
       "  <tbody>\n",
       "    <tr>\n",
       "      <th>count</th>\n",
       "      <td>93142</td>\n",
       "    </tr>\n",
       "    <tr>\n",
       "      <th>unique</th>\n",
       "      <td>92265</td>\n",
       "    </tr>\n",
       "    <tr>\n",
       "      <th>top</th>\n",
       "      <td>1970-02-12 11:16:53</td>\n",
       "    </tr>\n",
       "    <tr>\n",
       "      <th>freq</th>\n",
       "      <td>3</td>\n",
       "    </tr>\n",
       "    <tr>\n",
       "      <th>first</th>\n",
       "      <td>1970-01-01 20:12:16</td>\n",
       "    </tr>\n",
       "    <tr>\n",
       "      <th>last</th>\n",
       "      <td>1970-04-13 18:57:38</td>\n",
       "    </tr>\n",
       "  </tbody>\n",
       "</table>\n",
       "</div>"
      ],
      "text/plain": [
       "                 login_time\n",
       "count                 93142\n",
       "unique                92265\n",
       "top     1970-02-12 11:16:53\n",
       "freq                      3\n",
       "first   1970-01-01 20:12:16\n",
       "last    1970-04-13 18:57:38"
      ]
     },
     "execution_count": 3,
     "metadata": {},
     "output_type": "execute_result"
    }
   ],
   "source": [
    "# get some summary data about the datetimes in the series\n",
    "logins_df.describe()"
   ]
  },
  {
   "cell_type": "markdown",
   "metadata": {},
   "source": [
    "One potential issue with the data: the dates refer to 1970, which is prior to the internet age. Since this data represents logins by ***online users***, this year does appear to be correct. There is likely an issue with the date logging or with the conversion to datetimes."
   ]
  },
  {
   "cell_type": "code",
   "execution_count": 4,
   "metadata": {},
   "outputs": [
    {
     "data": {
      "text/plain": [
       "877"
      ]
     },
     "execution_count": 4,
     "metadata": {},
     "output_type": "execute_result"
    }
   ],
   "source": [
    "# check if there are any duplicated timestamps. Is it possible more than one person logged in at exactly the same second? \n",
    "# probably yes --> not a data issue\n",
    "logins_df.duplicated().sum()"
   ]
  },
  {
   "cell_type": "markdown",
   "metadata": {},
   "source": [
    "There are 877 duplicated datetime objects (less than 0.1%). This could likely be attributed to users logging in at the same time or the login time being rounded to the nearest second. This number seems plausible. If it were one order of magnitude higher (1%), it might be suspicious and could point to faulty data gathering."
   ]
  },
  {
   "cell_type": "code",
   "execution_count": 5,
   "metadata": {},
   "outputs": [
    {
     "data": {
      "text/html": [
       "<div>\n",
       "<style scoped>\n",
       "    .dataframe tbody tr th:only-of-type {\n",
       "        vertical-align: middle;\n",
       "    }\n",
       "\n",
       "    .dataframe tbody tr th {\n",
       "        vertical-align: top;\n",
       "    }\n",
       "\n",
       "    .dataframe thead th {\n",
       "        text-align: right;\n",
       "    }\n",
       "</style>\n",
       "<table border=\"1\" class=\"dataframe\">\n",
       "  <thead>\n",
       "    <tr style=\"text-align: right;\">\n",
       "      <th></th>\n",
       "      <th>login_time</th>\n",
       "    </tr>\n",
       "    <tr>\n",
       "      <th>login_time</th>\n",
       "      <th></th>\n",
       "    </tr>\n",
       "  </thead>\n",
       "  <tbody>\n",
       "    <tr>\n",
       "      <th>1970-01-01 20:00:00</th>\n",
       "      <td>2</td>\n",
       "    </tr>\n",
       "    <tr>\n",
       "      <th>1970-01-01 20:15:00</th>\n",
       "      <td>6</td>\n",
       "    </tr>\n",
       "    <tr>\n",
       "      <th>1970-01-01 20:30:00</th>\n",
       "      <td>9</td>\n",
       "    </tr>\n",
       "    <tr>\n",
       "      <th>1970-01-01 20:45:00</th>\n",
       "      <td>7</td>\n",
       "    </tr>\n",
       "    <tr>\n",
       "      <th>1970-01-01 21:00:00</th>\n",
       "      <td>1</td>\n",
       "    </tr>\n",
       "    <tr>\n",
       "      <th>...</th>\n",
       "      <td>...</td>\n",
       "    </tr>\n",
       "    <tr>\n",
       "      <th>1970-04-13 17:45:00</th>\n",
       "      <td>5</td>\n",
       "    </tr>\n",
       "    <tr>\n",
       "      <th>1970-04-13 18:00:00</th>\n",
       "      <td>5</td>\n",
       "    </tr>\n",
       "    <tr>\n",
       "      <th>1970-04-13 18:15:00</th>\n",
       "      <td>2</td>\n",
       "    </tr>\n",
       "    <tr>\n",
       "      <th>1970-04-13 18:30:00</th>\n",
       "      <td>7</td>\n",
       "    </tr>\n",
       "    <tr>\n",
       "      <th>1970-04-13 18:45:00</th>\n",
       "      <td>6</td>\n",
       "    </tr>\n",
       "  </tbody>\n",
       "</table>\n",
       "<p>9788 rows × 1 columns</p>\n",
       "</div>"
      ],
      "text/plain": [
       "                     login_time\n",
       "login_time                     \n",
       "1970-01-01 20:00:00           2\n",
       "1970-01-01 20:15:00           6\n",
       "1970-01-01 20:30:00           9\n",
       "1970-01-01 20:45:00           7\n",
       "1970-01-01 21:00:00           1\n",
       "...                         ...\n",
       "1970-04-13 17:45:00           5\n",
       "1970-04-13 18:00:00           5\n",
       "1970-04-13 18:15:00           2\n",
       "1970-04-13 18:30:00           7\n",
       "1970-04-13 18:45:00           6\n",
       "\n",
       "[9788 rows x 1 columns]"
      ]
     },
     "execution_count": 5,
     "metadata": {},
     "output_type": "execute_result"
    }
   ],
   "source": [
    "# set the index of the dataframe to be the datetime series\n",
    "logins_df.index = logins_df['login_time']\n",
    "\n",
    "# using the new index, group the datet into 15 minute intervals\n",
    "# start with the quarter hour before the first entry (label='left' arg)\n",
    "logins_df_15_min = logins_df.groupby(pd.Grouper(freq='15Min', base=15, label='left')).count()\n",
    "logins_df_15_min"
   ]
  },
  {
   "cell_type": "code",
   "execution_count": 6,
   "metadata": {},
   "outputs": [
    {
     "data": {
      "text/html": [
       "<div>\n",
       "<style scoped>\n",
       "    .dataframe tbody tr th:only-of-type {\n",
       "        vertical-align: middle;\n",
       "    }\n",
       "\n",
       "    .dataframe tbody tr th {\n",
       "        vertical-align: top;\n",
       "    }\n",
       "\n",
       "    .dataframe thead th {\n",
       "        text-align: right;\n",
       "    }\n",
       "</style>\n",
       "<table border=\"1\" class=\"dataframe\">\n",
       "  <thead>\n",
       "    <tr style=\"text-align: right;\">\n",
       "      <th></th>\n",
       "      <th>login_time</th>\n",
       "    </tr>\n",
       "  </thead>\n",
       "  <tbody>\n",
       "    <tr>\n",
       "      <th>count</th>\n",
       "      <td>9788.000000</td>\n",
       "    </tr>\n",
       "    <tr>\n",
       "      <th>mean</th>\n",
       "      <td>9.515938</td>\n",
       "    </tr>\n",
       "    <tr>\n",
       "      <th>std</th>\n",
       "      <td>8.328818</td>\n",
       "    </tr>\n",
       "    <tr>\n",
       "      <th>min</th>\n",
       "      <td>0.000000</td>\n",
       "    </tr>\n",
       "    <tr>\n",
       "      <th>25%</th>\n",
       "      <td>3.000000</td>\n",
       "    </tr>\n",
       "    <tr>\n",
       "      <th>50%</th>\n",
       "      <td>7.000000</td>\n",
       "    </tr>\n",
       "    <tr>\n",
       "      <th>75%</th>\n",
       "      <td>13.000000</td>\n",
       "    </tr>\n",
       "    <tr>\n",
       "      <th>max</th>\n",
       "      <td>73.000000</td>\n",
       "    </tr>\n",
       "  </tbody>\n",
       "</table>\n",
       "</div>"
      ],
      "text/plain": [
       "        login_time\n",
       "count  9788.000000\n",
       "mean      9.515938\n",
       "std       8.328818\n",
       "min       0.000000\n",
       "25%       3.000000\n",
       "50%       7.000000\n",
       "75%      13.000000\n",
       "max      73.000000"
      ]
     },
     "execution_count": 6,
     "metadata": {},
     "output_type": "execute_result"
    }
   ],
   "source": [
    "# get descriptive statistics summary of login counts grouped by 15 minute intervals\n",
    "logins_df_15_min.describe()"
   ]
  },
  {
   "cell_type": "code",
   "execution_count": 7,
   "metadata": {},
   "outputs": [
    {
     "data": {
      "text/plain": [
       "array([[<matplotlib.axes._subplots.AxesSubplot object at 0x000001AD5DE0B708>]],\n",
       "      dtype=object)"
      ]
     },
     "execution_count": 7,
     "metadata": {},
     "output_type": "execute_result"
    },
    {
     "data": {
      "image/png": "[encoded data removed]",
      "text/plain": [
       "<Figure size 432x288 with 1 Axes>"
      ]
     },
     "metadata": {
      "needs_background": "light"
     },
     "output_type": "display_data"
    }
   ],
   "source": [
    "logins_df_15_min.hist()"
   ]
  },
  {
   "cell_type": "code",
   "execution_count": 8,
   "metadata": {},
   "outputs": [
    {
     "data": {
      "text/plain": [
       "Text(0, 0.5, 'Login Count')"
      ]
     },
     "execution_count": 8,
     "metadata": {},
     "output_type": "execute_result"
    },
    {
     "data": {
      "image/png": "[encoded data removed]",
      "text/plain": [
       "<Figure size 1080x360 with 1 Axes>"
      ]
     },
     "metadata": {
      "needs_background": "light"
     },
     "output_type": "display_data"
    }
   ],
   "source": [
    "# plot the login counts per 15 minute interval across the entire series\n",
    "fig, ax = plt.subplots(figsize=(15, 5))\n",
    "ax.plot(logins_df_15_min)\n",
    "ax.set_title('Login Count By Date (Full Time Series)')\n",
    "ax.set_xlabel('Date')\n",
    "ax.set_ylabel('Login Count')"
   ]
  },
  {
   "cell_type": "code",
   "execution_count": 9,
   "metadata": {},
   "outputs": [
    {
     "data": {
      "text/plain": [
       "Text(0, 0.5, 'Login Count')"
      ]
     },
     "execution_count": 9,
     "metadata": {},
     "output_type": "execute_result"
    },
    {
     "data": {
      "image/png": "[encoded data removed]",
      "text/plain": [
       "<Figure size 1080x360 with 1 Axes>"
      ]
     },
     "metadata": {
      "needs_background": "light"
     },
     "output_type": "display_data"
    }
   ],
   "source": [
    "# plot the login counts per 15 minute interval across the entire series\n",
    "fig, ax = plt.subplots(figsize=(15, 5))\n",
    "ax.plot(logins_df_15_min.loc['1970-01-12':'1970-01-16'])\n",
    "ax.set_title('Login Count - Example Week (Mon-Fri)')\n",
    "ax.set_xlabel('Date')\n",
    "ax.set_ylabel('Login Count')"
   ]
  },
  {
   "cell_type": "code",
   "execution_count": 10,
   "metadata": {},
   "outputs": [
    {
     "data": {
      "text/plain": [
       "Text(0, 0.5, 'Login Count')"
      ]
     },
     "execution_count": 10,
     "metadata": {},
     "output_type": "execute_result"
    },
    {
     "data": {
      "image/png": "[encoded data removed]",
      "text/plain": [
       "<Figure size 1080x360 with 1 Axes>"
      ]
     },
     "metadata": {
      "needs_background": "light"
     },
     "output_type": "display_data"
    }
   ],
   "source": [
    "# plot the login counts per 15 minute interval across the entire series\n",
    "fig, ax = plt.subplots(figsize=(15, 5))\n",
    "ax.plot(logins_df_15_min.loc['1970-03-02':'1970-03-06'])\n",
    "ax.set_title('Login Count - Example Week (Mon-Fri)')\n",
    "ax.set_xlabel('Date')\n",
    "ax.set_ylabel('Login Count')"
   ]
  },
  {
   "cell_type": "markdown",
   "metadata": {},
   "source": [
    "For Mon-Fri, peaks are regularly observed around mid-day and midnight. The highest peak is Friday night. This makes sense as most taxis are used around lunchtime and at night, particularly on Friday night, during which many people go out for entertainment.\n",
    "\n",
    "Other than the supposed year of data collection (1970), there do not appear to be any data quality issues. The data range and values seem plausible across all of the logged days and appear to follow a predictable daily/weekly demand cycle."
   ]
  },
  {
   "cell_type": "markdown",
   "metadata": {},
   "source": [
    "__Part 2 ‑ Experiment and metrics design__\n",
    "\n",
    "The neighboring cities of Gotham and Metropolis have complementary circadian rhythms: on\n",
    "weekdays, Ultimate Gotham is most active at night, and Ultimate Metropolis is most active\n",
    "during the day. On weekends, there is reasonable activity in both cities.\n",
    "However, a toll bridge, with a two way\n",
    "toll, between the two cities causes driver partners to tend\n",
    "to be exclusive to each city. The Ultimate managers of city operations for the two cities have\n",
    "proposed an experiment to encourage driver partners to be available in both cities, by\n",
    "reimbursing all toll costs.\n",
    "1. What would you choose as the key measure of success of this experiment in\n",
    "encouraging driver partners to serve both cities, and why would you choose this metric?\n",
    "2. Describe a practical experiment you would design to compare the effectiveness of the\n",
    "proposed change in relation to the key measure of success. Please provide details on:\n",
    "a. how you will implement the experiment\n",
    "b. what statistical test(s) you will conduct to verify the significance of the\n",
    "observation\n",
    "c. how you would interpret the results and provide recommendations to the city\n",
    "operations team along with any caveats."
   ]
  },
  {
   "cell_type": "markdown",
   "metadata": {},
   "source": [
    "__Answer 1__<br>\n",
    "\n",
    "As the primary metric of success for this experiment, I would choose the total profit from all rides during which the driver crossed between cities. The profit would exclude the reimbursement fees. This metric could be collected specifically per peak hour, per day, or per month, depending on the length of the experiment. \n",
    "\n",
    "This is because in theory the reason for the toll-reimbursement incentive is to provide more availability of drivers to an under-realized market segment (those needing to travel between cities). The increase in this median number of rides (or lack thereof) would signal that there is a potential for increased ridership and that this potential is (or is not) being tapped by implementing the new reimbursement strategy to an extent that exceeds the cost of the reimbursement itself."
   ]
  },
  {
   "cell_type": "markdown",
   "metadata": {},
   "source": [
    "__Answer 2__<br>\n",
    "\n",
    "The proposed experiment is 4 months long and would require the company to implement the toll reimbursement strategy over the entire duration of the experiment. The first month will allow for the drivers and riders to become familiar with the new reimbursement policy (drivers) and increased availability of cross-city routes (drivers). The subsequent 3 months will be used to gauge the success of the implemented policy by monitoring the chosen metric.\n",
    "\n",
    "As with any policy change, standard metrics such as overall ridership, overall profits, and median wait times (during peak and off-peak hours) should be monitored for any extreme departure from the acceptable control limits. If at any point during the experiment these metrics fall out of spec, the strategy should be reconsidered and potentially recalled, depending on severity.\n",
    "\n",
    "__(a)__ The experiment will be preceded by a marketing campaign for riders, as well as policy updates for drivers. Both should be disseminated in the weeks preceding the first month of the experiment. Once the policy is in effect, the first month will be a transition period for adjusting to the new state. It may be that it takes more than a month for the effects of the policy to stabilize, but for the sake of evaluating the effects in a reasonable time frame, one month will be given. \n",
    "\n",
    "Then, during the following 3 months, data would be gathered (using existing data infrastructure) on the completed rides between the cities. This could be done practically by filtering all of the rides during this period with a pick-up location in one city and a drop-off location in the other, and vice versa. The profit of the ride, minus the toll reimbursement to the driver, would be calculated for each ride and the total calculated over the entire hour/day/month.\n",
    "\n",
    "This could then be compared to corresponding data for the previous year (during the same months) and/or for the months just prior to the experiment, and a statistical hypothesis test performed to determine if the profit from this segment of rides increased with statistical significance.\n",
    "\n",
    "__(b)__ Definitions:\n",
    "\n",
    "Period A: 3 months just prior to experiment (or corresponding to the same months of the experiment from the previous year), during which the reimbursement policy is not in effect<br>\n",
    "Period B: 3 months (after 1 month transition) that the reimbursement policy is in effect\n",
    "\n",
    "Test metric (X): median hourly total profit from all rides during which the driver crossed between cities during peak hours\n",
    "\n",
    "A statistical hypothesis test could be formulated as follows:\n",
    "\n",
    "Ho: The difference of means for X(A) and X(B) is less than or equal to zero.<br>\n",
    "Ha: The difference of means for X(A) and X(B) is greater than zero.\n",
    "\n",
    "A one-sided t-test may be performed at 95% significance level to determine if the null hypothesis Ho may be rejected. The total number of observations for the experiment should be enough to satisfy the requirements of normality. If not, a bootstrap approach may be used to resample the distributions X(A) and X(B) and perform the hypothesis test.\n",
    "\n",
    "The same hypothesis test may be repeated for X during off-peak hours. Peak/off-peak can be defined beforehand as having certain threshold of total ridership across both cities.\n",
    "\n",
    "__(c)__ The results of the hypothesis would need to be interpreted within the context of the other monitored metrics (overall ridership, overall profits, and median wait times). Confounding factors should be taken into account in this assessment (for example, changes during holidays, etc.)\n",
    "- If the p-value showed extreme effectiveness of the policy (p << 0.05), and there was little or positive movement in the other major metrics, then the policy should be continued.\n",
    "- If the p-value showed extreme effectiveness of the policy (p << 0.05), but there was significant negative movement in any of the metrics, the policy should be reexamined and potentially discontinued. Alternatively, more drivers could be hired to fill in the gap and take advantage of the new revenue stream, if this is fiscally possible. \n",
    "- If the p-value showed little to no effectiveness of the policy (p ~ 0.05 or p > 0.05), then the policy should be discontinued."
   ]
  },
  {
   "cell_type": "markdown",
   "metadata": {},
   "source": [
    "__Part 3 ‑ Predictive modeling__\n",
    "\n",
    "Ultimate is interested in predicting rider retention. To help explore this question, we have\n",
    "provided a sample dataset of a cohort of users who signed up for an Ultimate account in\n",
    "January 2014. The data was pulled several months later; we consider a user retained if they\n",
    "were “active” (i.e. took a trip) in the preceding 30 days.\n",
    "We would like you to use this data set to help understand what factors are the best predictors\n",
    "for retention, and offer suggestions to operationalize those insights to help Ultimate.\n",
    "The data is in the attached file ultimate_data_challenge.json. See below for a detailed\n",
    "description of the dataset. Please include any code you wrote for the analysis and delete the\n",
    "dataset when you have finished with the challenge.\n",
    "1. Perform any cleaning, exploratory analysis, and/or visualizations to use the provided\n",
    "data for this analysis (a few sentences/plots describing your approach will suffice). What\n",
    "fraction of the observed users were retained?\n",
    "2. Build a predictive model to help Ultimate determine whether or not a user will be active\n",
    "in their 6th month on the system. Discuss why you chose your approach, what\n",
    "alternatives you considered, and any concerns you have. How valid is your model?\n",
    "Include any key indicators of model performance.\n",
    "3. Briefly discuss how Ultimate might leverage the insights gained from the model to\n",
    "improve its longterm\n",
    "rider retention (again, a few sentences will suffice).\n",
    "\n",
    "Data description: <br>\n",
    "\n",
    "- city: city this user signed up in\n",
    "- phone: primary device for this user\n",
    "- signup_date: date of account registration; in the form ‘YYYY MM DD’\n",
    "- last_trip_date: the last time this user completed a trip; in the form ‘YYYY MM DD’\n",
    "- avg_dist: the average distance in miles per trip taken in the first 30 days after signup\n",
    "- avg_rating_by_driver: the rider’s average rating over all of their trips\n",
    "- avg_rating_of_driver: the rider’s average rating of their drivers over all of their trips\n",
    "- surge_pct: the percent of trips taken with surge multiplier > 1\n",
    "- avg_surge: The average surge multiplier over all of this user’s trips\n",
    "- trips_in_first_30_days: the number of trips this user took in the first 30 days after signing up\n",
    "- ultimate_black_user: TRUE if the user took an Ultimate Black in their first 30 days; FALSE otherwise\n",
    "- weekday_pct: the percent of the user’s trips occurring during a weekday"
   ]
  },
  {
   "cell_type": "markdown",
   "metadata": {},
   "source": [
    "__Answer 1__"
   ]
  },
  {
   "cell_type": "code",
   "execution_count": 11,
   "metadata": {},
   "outputs": [
    {
     "name": "stdout",
     "output_type": "stream",
     "text": [
      "<class 'pandas.core.frame.DataFrame'>\n",
      "RangeIndex: 50000 entries, 0 to 49999\n",
      "Data columns (total 12 columns):\n",
      " #   Column                  Non-Null Count  Dtype  \n",
      "---  ------                  --------------  -----  \n",
      " 0   city                    50000 non-null  object \n",
      " 1   trips_in_first_30_days  50000 non-null  int64  \n",
      " 2   signup_date             50000 non-null  object \n",
      " 3   avg_rating_of_driver    41878 non-null  float64\n",
      " 4   avg_surge               50000 non-null  float64\n",
      " 5   last_trip_date          50000 non-null  object \n",
      " 6   phone                   49604 non-null  object \n",
      " 7   surge_pct               50000 non-null  float64\n",
      " 8   ultimate_black_user     50000 non-null  bool   \n",
      " 9   weekday_pct             50000 non-null  float64\n",
      " 10  avg_dist                50000 non-null  float64\n",
      " 11  avg_rating_by_driver    49799 non-null  float64\n",
      "dtypes: bool(1), float64(6), int64(1), object(4)\n",
      "memory usage: 4.2+ MB\n"
     ]
    }
   ],
   "source": [
    "# Use the current working directory path to navigate to the location of the data\n",
    "cwd_path = os.getcwd()\n",
    "data_path = os.path.join(cwd_path, 'ultimate_data_challenge.json')\n",
    "\n",
    "# Throw an assert error if the path does not exist\n",
    "assert os.path.exists(data_path)\n",
    "\n",
    "udc_df = pd.read_json(data_path)\n",
    "udc_df.info()"
   ]
  },
  {
   "cell_type": "code",
   "execution_count": 12,
   "metadata": {},
   "outputs": [
    {
     "data": {
      "text/html": [
       "<div>\n",
       "<style scoped>\n",
       "    .dataframe tbody tr th:only-of-type {\n",
       "        vertical-align: middle;\n",
       "    }\n",
       "\n",
       "    .dataframe tbody tr th {\n",
       "        vertical-align: top;\n",
       "    }\n",
       "\n",
       "    .dataframe thead th {\n",
       "        text-align: right;\n",
       "    }\n",
       "</style>\n",
       "<table border=\"1\" class=\"dataframe\">\n",
       "  <thead>\n",
       "    <tr style=\"text-align: right;\">\n",
       "      <th></th>\n",
       "      <th>trips_in_first_30_days</th>\n",
       "      <th>avg_rating_of_driver</th>\n",
       "      <th>avg_surge</th>\n",
       "      <th>surge_pct</th>\n",
       "      <th>weekday_pct</th>\n",
       "      <th>avg_dist</th>\n",
       "      <th>avg_rating_by_driver</th>\n",
       "    </tr>\n",
       "  </thead>\n",
       "  <tbody>\n",
       "    <tr>\n",
       "      <th>count</th>\n",
       "      <td>50000.000000</td>\n",
       "      <td>41878.000000</td>\n",
       "      <td>50000.000000</td>\n",
       "      <td>50000.000000</td>\n",
       "      <td>50000.000000</td>\n",
       "      <td>50000.000000</td>\n",
       "      <td>49799.000000</td>\n",
       "    </tr>\n",
       "    <tr>\n",
       "      <th>mean</th>\n",
       "      <td>2.278200</td>\n",
       "      <td>4.601559</td>\n",
       "      <td>1.074764</td>\n",
       "      <td>8.849536</td>\n",
       "      <td>60.926084</td>\n",
       "      <td>5.796827</td>\n",
       "      <td>4.778158</td>\n",
       "    </tr>\n",
       "    <tr>\n",
       "      <th>std</th>\n",
       "      <td>3.792684</td>\n",
       "      <td>0.617338</td>\n",
       "      <td>0.222336</td>\n",
       "      <td>19.958811</td>\n",
       "      <td>37.081503</td>\n",
       "      <td>5.707357</td>\n",
       "      <td>0.446652</td>\n",
       "    </tr>\n",
       "    <tr>\n",
       "      <th>min</th>\n",
       "      <td>0.000000</td>\n",
       "      <td>1.000000</td>\n",
       "      <td>1.000000</td>\n",
       "      <td>0.000000</td>\n",
       "      <td>0.000000</td>\n",
       "      <td>0.000000</td>\n",
       "      <td>1.000000</td>\n",
       "    </tr>\n",
       "    <tr>\n",
       "      <th>25%</th>\n",
       "      <td>0.000000</td>\n",
       "      <td>4.300000</td>\n",
       "      <td>1.000000</td>\n",
       "      <td>0.000000</td>\n",
       "      <td>33.300000</td>\n",
       "      <td>2.420000</td>\n",
       "      <td>4.700000</td>\n",
       "    </tr>\n",
       "    <tr>\n",
       "      <th>50%</th>\n",
       "      <td>1.000000</td>\n",
       "      <td>4.900000</td>\n",
       "      <td>1.000000</td>\n",
       "      <td>0.000000</td>\n",
       "      <td>66.700000</td>\n",
       "      <td>3.880000</td>\n",
       "      <td>5.000000</td>\n",
       "    </tr>\n",
       "    <tr>\n",
       "      <th>75%</th>\n",
       "      <td>3.000000</td>\n",
       "      <td>5.000000</td>\n",
       "      <td>1.050000</td>\n",
       "      <td>8.600000</td>\n",
       "      <td>100.000000</td>\n",
       "      <td>6.940000</td>\n",
       "      <td>5.000000</td>\n",
       "    </tr>\n",
       "    <tr>\n",
       "      <th>max</th>\n",
       "      <td>125.000000</td>\n",
       "      <td>5.000000</td>\n",
       "      <td>8.000000</td>\n",
       "      <td>100.000000</td>\n",
       "      <td>100.000000</td>\n",
       "      <td>160.960000</td>\n",
       "      <td>5.000000</td>\n",
       "    </tr>\n",
       "  </tbody>\n",
       "</table>\n",
       "</div>"
      ],
      "text/plain": [
       "       trips_in_first_30_days  avg_rating_of_driver     avg_surge  \\\n",
       "count            50000.000000          41878.000000  50000.000000   \n",
       "mean                 2.278200              4.601559      1.074764   \n",
       "std                  3.792684              0.617338      0.222336   \n",
       "min                  0.000000              1.000000      1.000000   \n",
       "25%                  0.000000              4.300000      1.000000   \n",
       "50%                  1.000000              4.900000      1.000000   \n",
       "75%                  3.000000              5.000000      1.050000   \n",
       "max                125.000000              5.000000      8.000000   \n",
       "\n",
       "          surge_pct   weekday_pct      avg_dist  avg_rating_by_driver  \n",
       "count  50000.000000  50000.000000  50000.000000          49799.000000  \n",
       "mean       8.849536     60.926084      5.796827              4.778158  \n",
       "std       19.958811     37.081503      5.707357              0.446652  \n",
       "min        0.000000      0.000000      0.000000              1.000000  \n",
       "25%        0.000000     33.300000      2.420000              4.700000  \n",
       "50%        0.000000     66.700000      3.880000              5.000000  \n",
       "75%        8.600000    100.000000      6.940000              5.000000  \n",
       "max      100.000000    100.000000    160.960000              5.000000  "
      ]
     },
     "execution_count": 12,
     "metadata": {},
     "output_type": "execute_result"
    }
   ],
   "source": [
    "# get summary statistics for all float64 type columns. All other columns will be calculated separately (see below)\n",
    "udc_df.describe()"
   ]
  },
  {
   "cell_type": "code",
   "execution_count": 13,
   "metadata": {},
   "outputs": [
    {
     "data": {
      "text/plain": [
       "count          50000\n",
       "unique             3\n",
       "top       Winterfell\n",
       "freq           23336\n",
       "Name: city, dtype: object"
      ]
     },
     "execution_count": 13,
     "metadata": {},
     "output_type": "execute_result"
    }
   ],
   "source": [
    "udc_df['city'].describe()"
   ]
  },
  {
   "cell_type": "code",
   "execution_count": 14,
   "metadata": {},
   "outputs": [
    {
     "data": {
      "text/plain": [
       "count     50000\n",
       "unique        2\n",
       "top       False\n",
       "freq      31146\n",
       "Name: ultimate_black_user, dtype: object"
      ]
     },
     "execution_count": 14,
     "metadata": {},
     "output_type": "execute_result"
    }
   ],
   "source": [
    "udc_df['ultimate_black_user'].describe()"
   ]
  },
  {
   "cell_type": "code",
   "execution_count": 15,
   "metadata": {},
   "outputs": [
    {
     "data": {
      "text/plain": [
       "count      49604\n",
       "unique         2\n",
       "top       iPhone\n",
       "freq       34582\n",
       "Name: phone, dtype: object"
      ]
     },
     "execution_count": 15,
     "metadata": {},
     "output_type": "execute_result"
    }
   ],
   "source": [
    "udc_df['phone'].describe()"
   ]
  },
  {
   "cell_type": "code",
   "execution_count": 16,
   "metadata": {},
   "outputs": [
    {
     "data": {
      "text/plain": [
       "count                   50000\n",
       "unique                     31\n",
       "top       2014-01-18 00:00:00\n",
       "freq                     2948\n",
       "first     2014-01-01 00:00:00\n",
       "last      2014-01-31 00:00:00\n",
       "Name: signup_date, dtype: object"
      ]
     },
     "execution_count": 16,
     "metadata": {},
     "output_type": "execute_result"
    }
   ],
   "source": [
    "udc_df['signup_date'] = pd.to_datetime(udc_df['signup_date'])\n",
    "udc_df['signup_date'].describe()"
   ]
  },
  {
   "cell_type": "code",
   "execution_count": 17,
   "metadata": {},
   "outputs": [
    {
     "data": {
      "text/plain": [
       "count                   50000\n",
       "unique                    182\n",
       "top       2014-06-29 00:00:00\n",
       "freq                     2036\n",
       "first     2014-01-01 00:00:00\n",
       "last      2014-07-01 00:00:00\n",
       "Name: last_trip_date, dtype: object"
      ]
     },
     "execution_count": 17,
     "metadata": {},
     "output_type": "execute_result"
    }
   ],
   "source": [
    "udc_df['last_trip_date'] = pd.to_datetime(udc_df['last_trip_date'])\n",
    "udc_df['last_trip_date'].describe()"
   ]
  },
  {
   "cell_type": "markdown",
   "metadata": {},
   "source": [
    "Using the describe() and info() methods on the dataframe, it appears that most of the data is non-null (only 3 columns have null values: 'avg_rating_of_driver', 'phone', and 'avg_rating_of_driver' with 0.4%, 0.8%, and 16% of values missing respectively) and have plausible ranges of values with few outliers.\n",
    "\n",
    "The small percent of missing values may be imputed with the median value for their respective categories."
   ]
  },
  {
   "cell_type": "code",
   "execution_count": 18,
   "metadata": {},
   "outputs": [],
   "source": [
    "# impute missing values with median (only for float types, 'phone' missing values will be imputed separately next)\n",
    "udc_df_imputed = udc_df.fillna(udc_df.median())"
   ]
  },
  {
   "cell_type": "code",
   "execution_count": 19,
   "metadata": {},
   "outputs": [
    {
     "name": "stderr",
     "output_type": "stream",
     "text": [
      "C:\\Users\\Niv\\Anaconda3\\envs\\tf_keras_gpu\\lib\\site-packages\\pandas\\core\\indexing.py:671: SettingWithCopyWarning: \n",
      "A value is trying to be set on a copy of a slice from a DataFrame\n",
      "\n",
      "See the caveats in the documentation: https://pandas.pydata.org/pandas-docs/stable/user_guide/indexing.html#returning-a-view-versus-a-copy\n",
      "  self._setitem_with_indexer(indexer, value)\n"
     ]
    }
   ],
   "source": [
    "# it makes sense to use the most frequent phone type by city to impute the \"phone\" missing values.\n",
    "\n",
    "for index, row in udc_df_imputed.iterrows():\n",
    "    if (udc_df_imputed['phone'].iloc[index] == None):\n",
    "        city = udc_df_imputed.city[index]\n",
    "        phone_by_city = udc_df_imputed.phone[udc_df_imputed.city == city].value_counts().idxmax()\n",
    "        udc_df_imputed['phone'].iloc[index] = phone_by_city"
   ]
  },
  {
   "cell_type": "code",
   "execution_count": 20,
   "metadata": {},
   "outputs": [],
   "source": [
    "# check imputed dataframe now contains no null values.\n",
    "assert(udc_df_imputed.isnull().sum().sum() == 0)"
   ]
  },
  {
   "cell_type": "markdown",
   "metadata": {},
   "source": [
    "There are now no missing values in the dataset. Now the fraction of retained users will be calculated."
   ]
  },
  {
   "cell_type": "code",
   "execution_count": 21,
   "metadata": {},
   "outputs": [
    {
     "data": {
      "text/plain": [
       "count                      50000\n",
       "mean     92 days 18:57:44.640000\n",
       "std      62 days 03:06:56.580842\n",
       "min              0 days 00:00:00\n",
       "25%             27 days 00:00:00\n",
       "50%            110 days 00:00:00\n",
       "75%            150 days 00:00:00\n",
       "max            181 days 00:00:00\n",
       "Name: retention_duration, dtype: object"
      ]
     },
     "execution_count": 21,
     "metadata": {},
     "output_type": "execute_result"
    }
   ],
   "source": [
    "# create a new column of days the user has been \"retained\"\n",
    "udc_df_imputed['retention_duration'] = udc_df_imputed['last_trip_date'] - udc_df_imputed['signup_date']\n",
    "udc_df_imputed['retention_duration'].describe()"
   ]
  },
  {
   "cell_type": "code",
   "execution_count": 22,
   "metadata": {},
   "outputs": [
    {
     "data": {
      "text/plain": [
       "count                      50000\n",
       "mean     72 days 15:57:55.008000\n",
       "std      61 days 17:15:20.288309\n",
       "min              0 days 00:00:00\n",
       "25%             13 days 00:00:00\n",
       "50%             54 days 00:00:00\n",
       "75%            137 days 00:00:00\n",
       "max            181 days 00:00:00\n",
       "Name: days_since_last_trip, dtype: object"
      ]
     },
     "execution_count": 22,
     "metadata": {},
     "output_type": "execute_result"
    }
   ],
   "source": [
    "# create a new column of days since last trip, at the data pull date (assumed to be 2014-07-01)\n",
    "udc_df_imputed['days_since_last_trip'] = udc_df_imputed['last_trip_date'].max() - udc_df_imputed['last_trip_date']\n",
    "udc_df_imputed['days_since_last_trip'].describe()"
   ]
  },
  {
   "cell_type": "code",
   "execution_count": 23,
   "metadata": {},
   "outputs": [
    {
     "name": "stdout",
     "output_type": "stream",
     "text": [
      "The fraction of retained users at the data pull date (assumed to be 2014-07-01) is 0.3662\n"
     ]
    }
   ],
   "source": [
    "# count the number of users that have made a trip in the 30 days prior to the data pull date (assumed to be 2014-07-01)\n",
    "retained_user_count = udc_df_imputed['days_since_last_trip'][udc_df_imputed['days_since_last_trip'] < pd.Timedelta(30,'D')].count()\n",
    "\n",
    "# get the fraction of retained users at the data pull date (assumed to be 2014-07-01)\n",
    "retained_user_fraction = retained_user_count/udc_df_imputed.shape[0]\n",
    "\n",
    "print(\"The fraction of retained users at the data pull date (assumed to be 2014-07-01) is \" + str(retained_user_fraction))"
   ]
  },
  {
   "cell_type": "markdown",
   "metadata": {},
   "source": [
    "__Answer 2__"
   ]
  },
  {
   "cell_type": "markdown",
   "metadata": {},
   "source": [
    "Selecting a model:\n",
    "\n",
    "The problem statement is to create a predictive model for classifying a given customer as 'retained' or 'not retained' 6 months after signing up for the service. This requires a binary classification model and can be implemented using a machine learning algorithm. Since data on the 6-month retention class of each user is available in the dataset at the data pull date (assumed to be 2014-07-01), the model can be supervised (learn from labeled data).\n",
    "\n",
    "Based on the need for interpretability of the predictive model, a traditional machine learning approach would likely be more suitable than a neural network. The low number of features in the data also indicate that methods such as linear or logistic regression or simple decision trees could be effective.\n",
    "\n",
    "Prior to implementing the machine learning model, a Multivariate Analysis of Variance (MANOVA) may be executed to determine the strength of the linear correlation of each of the features to the class label (retained vs. not retained) and to each other. \n",
    "\n",
    "Preprocessing:\n",
    "\n",
    "The datetime features ('signup_date', 'last_trip_date') were used to create 2 new features in the previous section: 'retention_duration', 'days_since_last_trip'. These new features effectively capture the information contained in the original features, but allow it to be numerical (int, number of days) rather than datetime. Therefore the 2 original features will be dropped. The new features are directly correlated to the class, so they will be dropped as well. The feature 'days_since_last_trip' will also be used to generate class labels (since all users in the set joined in January 2014, those who have days_since_last_trip less than 30 days at the data pull date 2014-07-01 will be in the 'retained' class).\n",
    "\n",
    "Then, all categorical features ('city', 'phone') must first be transformed into numerical features. This can be done using the one-hot encoding method, creating a 'dummy' binary (0/1) feature for each possible value in a category. This increases the number of features, but given the limited scope of this dataset (3 cities, 2 phone types), this number of features will still be low enough that the machine learning methods mentioned above can be implemented effectively.\n",
    "\n",
    "Lastly the data will be scaled to the [0,1] range in order to make it appropriate for various traditional machine learning classifiers that are based on Euclidean distance.\n"
   ]
  },
  {
   "cell_type": "code",
   "execution_count": 39,
   "metadata": {},
   "outputs": [
    {
     "data": {
      "text/html": [
       "<div>\n",
       "<style scoped>\n",
       "    .dataframe tbody tr th:only-of-type {\n",
       "        vertical-align: middle;\n",
       "    }\n",
       "\n",
       "    .dataframe tbody tr th {\n",
       "        vertical-align: top;\n",
       "    }\n",
       "\n",
       "    .dataframe thead th {\n",
       "        text-align: right;\n",
       "    }\n",
       "</style>\n",
       "<table border=\"1\" class=\"dataframe\">\n",
       "  <thead>\n",
       "    <tr style=\"text-align: right;\">\n",
       "      <th></th>\n",
       "      <th>city</th>\n",
       "      <th>trips_in_first_30_days</th>\n",
       "      <th>avg_rating_of_driver</th>\n",
       "      <th>avg_surge</th>\n",
       "      <th>phone</th>\n",
       "      <th>surge_pct</th>\n",
       "      <th>ultimate_black_user</th>\n",
       "      <th>weekday_pct</th>\n",
       "      <th>avg_dist</th>\n",
       "      <th>avg_rating_by_driver</th>\n",
       "    </tr>\n",
       "  </thead>\n",
       "  <tbody>\n",
       "    <tr>\n",
       "      <th>0</th>\n",
       "      <td>King's Landing</td>\n",
       "      <td>4</td>\n",
       "      <td>4.7</td>\n",
       "      <td>1.10</td>\n",
       "      <td>iPhone</td>\n",
       "      <td>15.4</td>\n",
       "      <td>1</td>\n",
       "      <td>46.2</td>\n",
       "      <td>3.67</td>\n",
       "      <td>5.0</td>\n",
       "    </tr>\n",
       "    <tr>\n",
       "      <th>1</th>\n",
       "      <td>Astapor</td>\n",
       "      <td>0</td>\n",
       "      <td>5.0</td>\n",
       "      <td>1.00</td>\n",
       "      <td>Android</td>\n",
       "      <td>0.0</td>\n",
       "      <td>0</td>\n",
       "      <td>50.0</td>\n",
       "      <td>8.26</td>\n",
       "      <td>5.0</td>\n",
       "    </tr>\n",
       "    <tr>\n",
       "      <th>2</th>\n",
       "      <td>Astapor</td>\n",
       "      <td>3</td>\n",
       "      <td>4.3</td>\n",
       "      <td>1.00</td>\n",
       "      <td>iPhone</td>\n",
       "      <td>0.0</td>\n",
       "      <td>0</td>\n",
       "      <td>100.0</td>\n",
       "      <td>0.77</td>\n",
       "      <td>5.0</td>\n",
       "    </tr>\n",
       "    <tr>\n",
       "      <th>3</th>\n",
       "      <td>King's Landing</td>\n",
       "      <td>9</td>\n",
       "      <td>4.6</td>\n",
       "      <td>1.14</td>\n",
       "      <td>iPhone</td>\n",
       "      <td>20.0</td>\n",
       "      <td>1</td>\n",
       "      <td>80.0</td>\n",
       "      <td>2.36</td>\n",
       "      <td>4.9</td>\n",
       "    </tr>\n",
       "    <tr>\n",
       "      <th>4</th>\n",
       "      <td>Winterfell</td>\n",
       "      <td>14</td>\n",
       "      <td>4.4</td>\n",
       "      <td>1.19</td>\n",
       "      <td>Android</td>\n",
       "      <td>11.8</td>\n",
       "      <td>0</td>\n",
       "      <td>82.4</td>\n",
       "      <td>3.13</td>\n",
       "      <td>4.9</td>\n",
       "    </tr>\n",
       "  </tbody>\n",
       "</table>\n",
       "</div>"
      ],
      "text/plain": [
       "             city  trips_in_first_30_days  avg_rating_of_driver  avg_surge  \\\n",
       "0  King's Landing                       4                   4.7       1.10   \n",
       "1         Astapor                       0                   5.0       1.00   \n",
       "2         Astapor                       3                   4.3       1.00   \n",
       "3  King's Landing                       9                   4.6       1.14   \n",
       "4      Winterfell                      14                   4.4       1.19   \n",
       "\n",
       "     phone  surge_pct  ultimate_black_user  weekday_pct  avg_dist  \\\n",
       "0   iPhone       15.4                    1         46.2      3.67   \n",
       "1  Android        0.0                    0         50.0      8.26   \n",
       "2   iPhone        0.0                    0        100.0      0.77   \n",
       "3   iPhone       20.0                    1         80.0      2.36   \n",
       "4  Android       11.8                    0         82.4      3.13   \n",
       "\n",
       "   avg_rating_by_driver  \n",
       "0                   5.0  \n",
       "1                   5.0  \n",
       "2                   5.0  \n",
       "3                   4.9  \n",
       "4                   4.9  "
      ]
     },
     "execution_count": 39,
     "metadata": {},
     "output_type": "execute_result"
    }
   ],
   "source": [
    "# class labels column will be used for training/testing later on \n",
    "y_bool = udc_df_imputed['days_since_last_trip'] < pd.Timedelta(30,'D')\n",
    "y = y_bool.astype(int)\n",
    "\n",
    "\n",
    "# drop datetime features, make bool feature int type\n",
    "udc_df_reduced = udc_df_imputed.drop(['signup_date', 'last_trip_date','retention_duration','days_since_last_trip'], axis = 1)\n",
    "udc_df_reduced.ultimate_black_user = udc_df_reduced.ultimate_black_user.astype(int)\n",
    "\n",
    "udc_df_reduced.head()"
   ]
  },
  {
   "cell_type": "code",
   "execution_count": 49,
   "metadata": {},
   "outputs": [
    {
     "name": "stdout",
     "output_type": "stream",
     "text": [
      "<class 'pandas.core.frame.DataFrame'>\n",
      "RangeIndex: 50000 entries, 0 to 49999\n",
      "Data columns (total 11 columns):\n",
      " #   Column                  Non-Null Count  Dtype  \n",
      "---  ------                  --------------  -----  \n",
      " 0   trips_in_first_30_days  50000 non-null  int64  \n",
      " 1   avg_rating_of_driver    50000 non-null  float64\n",
      " 2   avg_surge               50000 non-null  float64\n",
      " 3   surge_pct               50000 non-null  float64\n",
      " 4   ultimate_black_user     50000 non-null  int32  \n",
      " 5   weekday_pct             50000 non-null  float64\n",
      " 6   avg_dist                50000 non-null  float64\n",
      " 7   avg_rating_by_driver    50000 non-null  float64\n",
      " 8   city_Astapor            50000 non-null  uint8  \n",
      " 9   city_Winterfell         50000 non-null  uint8  \n",
      " 10  phone_iPhone            50000 non-null  uint8  \n",
      "dtypes: float64(6), int32(1), int64(1), uint8(3)\n",
      "memory usage: 3.0 MB\n"
     ]
    }
   ],
   "source": [
    "# create dummy variables for categorical features and drop original feature columns\n",
    "udc_df_1cat_enc = udc_df_reduced.drop(['city'], axis=1).join(pd.get_dummies(udc_df_reduced['city'],prefix='city')).drop(\"city_King's Landing\",axis =1 )\n",
    "udc_df_2cat_enc = udc_df_1cat_enc.drop(['phone'], axis=1).join(pd.get_dummies(udc_df_reduced['phone'],prefix='phone',drop_first=True))\n",
    "udc_df_2cat_enc.info()"
   ]
  },
  {
   "cell_type": "markdown",
   "metadata": {},
   "source": [
    "A total of 3 new features were added and 2 were removed in the categorical feature transformation. With the removal of the 2 datetime features, there are now a total of 11 features. All features are now of numeric types acceptable by machine learning algorithms."
   ]
  },
  {
   "cell_type": "code",
   "execution_count": 50,
   "metadata": {},
   "outputs": [
    {
     "data": {
      "text/plain": [
       "(50000, 11)"
      ]
     },
     "execution_count": 50,
     "metadata": {},
     "output_type": "execute_result"
    }
   ],
   "source": [
    "# scale the data to [0,1] range\n",
    "from sklearn.preprocessing import MinMaxScaler\n",
    "\n",
    "scaler = MinMaxScaler()\n",
    "X = scaler.fit_transform(udc_df_2cat_enc)"
   ]
  },
  {
   "cell_type": "code",
   "execution_count": 52,
   "metadata": {},
   "outputs": [
    {
     "data": {
      "text/plain": [
       "<matplotlib.axes._subplots.AxesSubplot at 0x1ad6290e248>"
      ]
     },
     "execution_count": 52,
     "metadata": {},
     "output_type": "execute_result"
    },
    {
     "data": {
      "image/png": "[encoded data removed]",
      "text/plain": [
       "<Figure size 432x288 with 2 Axes>"
      ]
     },
     "metadata": {
      "needs_background": "light"
     },
     "output_type": "display_data"
    }
   ],
   "source": [
    "# calculate correlation matrix and plot heatmaps\n",
    "udc_df_labeled = pd.DataFrame(X, columns=udc_df_2cat_enc.columns)\n",
    "udc_df_labeled['label'] = y\n",
    "\n",
    "corrmat = udc_df_labeled.corr()\n",
    "\n",
    "sns.heatmap(corrmat, vmax=1., square=True, cmap = 'coolwarm')"
   ]
  },
  {
   "cell_type": "code",
   "execution_count": 55,
   "metadata": {},
   "outputs": [
    {
     "name": "stdout",
     "output_type": "stream",
     "text": [
      "                      Multivariate linear model\n",
      "======================================================================\n",
      "                                                                      \n",
      "----------------------------------------------------------------------\n",
      "       Intercept         Value    Num DF   Den DF     F Value   Pr > F\n",
      "----------------------------------------------------------------------\n",
      "          Wilks' lambda   0.0065 11.0000 49988.0000 699436.9812 0.0000\n",
      "         Pillai's trace   0.9935 11.0000 49988.0000 699436.9812 0.0000\n",
      " Hotelling-Lawley trace 153.9131 11.0000 49988.0000 699436.9812 0.0000\n",
      "    Roy's greatest root 153.9131 11.0000 49988.0000 699436.9812 0.0000\n",
      "----------------------------------------------------------------------\n",
      "                                                                      \n",
      "----------------------------------------------------------------------\n",
      "             label          Value   Num DF   Den DF    F Value  Pr > F\n",
      "----------------------------------------------------------------------\n",
      "              Wilks' lambda 0.8004 11.0000 49988.0000 1133.1953 0.0000\n",
      "             Pillai's trace 0.1996 11.0000 49988.0000 1133.1953 0.0000\n",
      "     Hotelling-Lawley trace 0.2494 11.0000 49988.0000 1133.1953 0.0000\n",
      "        Roy's greatest root 0.2494 11.0000 49988.0000 1133.1953 0.0000\n",
      "======================================================================\n",
      "\n"
     ]
    }
   ],
   "source": [
    "from statsmodels.multivariate.manova import MANOVA\n",
    "maov = MANOVA.from_formula(\"trips_in_first_30_days + avg_rating_of_driver + avg_surge + \\\n",
    "                            surge_pct + ultimate_black_user + weekday_pct + \\\n",
    "                            avg_dist + avg_rating_by_driver + city_Astapor + city_Winterfell + \\\n",
    "                            phone_iPhone  ~ label\", data=udc_df_labeled)\n",
    "print(maov.mv_test())"
   ]
  },
  {
   "cell_type": "markdown",
   "metadata": {},
   "source": [
    "The above MANOVA result suggests that the classes are indeed linearly separable (p values << 0.01), making this dataset a good candidate for logistic regression. None of the features appears to have an immediately apparent strong linear correlation coefficient to the class, but the interdependence of the features should become apparent through the logistic regression model."
   ]
  },
  {
   "cell_type": "markdown",
   "metadata": {},
   "source": [
    "Implementing Logistic Regression Model\n",
    "\n",
    "Now the Logistic Regression model may be fit to the data. The data will be split into training and test sets so that model performance may be evaluated after training. Several commonly tuned hyperparameters will be optimized and a 5-fold cross-validation scheme used to subsample the training set to find the best-performing parameter set. \n",
    "\n",
    "Since this is an imbalanced data set (only 36% are of the positive 'retained' class), the F1 score will be used as the primary performance evaluation metric, taking into consideration both the precision and the recall. The train, test sets will be stratified to equally represent the positive class in training and evaluation."
   ]
  },
  {
   "cell_type": "code",
   "execution_count": 66,
   "metadata": {},
   "outputs": [],
   "source": [
    "from sklearn.model_selection import train_test_split\n",
    "X_train, X_test, y_train, y_test = train_test_split(X, y, test_size=0.30, random_state=42, stratify = y)"
   ]
  },
  {
   "cell_type": "code",
   "execution_count": 69,
   "metadata": {
    "scrolled": true
   },
   "outputs": [
    {
     "name": "stdout",
     "output_type": "stream",
     "text": [
      "Fitting 5 folds for each of 72 candidates, totalling 360 fits\n"
     ]
    },
    {
     "name": "stderr",
     "output_type": "stream",
     "text": [
      "[Parallel(n_jobs=-1)]: Using backend LokyBackend with 8 concurrent workers.\n",
      "[Parallel(n_jobs=-1)]: Done  34 tasks      | elapsed:    2.4s\n",
      "[Parallel(n_jobs=-1)]: Done 184 tasks      | elapsed:   13.6s\n"
     ]
    },
    {
     "name": "stdout",
     "output_type": "stream",
     "text": [
      "Best Score (F1): 0.6280\n",
      "Best Params:  {'C': 1000, 'class_weight': {1: 0.7, 0: 0.3}, 'penalty': 'l1', 'solver': 'saga'}\n"
     ]
    },
    {
     "name": "stderr",
     "output_type": "stream",
     "text": [
      "[Parallel(n_jobs=-1)]: Done 360 out of 360 | elapsed:   26.3s finished\n"
     ]
    }
   ],
   "source": [
    "from sklearn.linear_model import LogisticRegression\n",
    "from sklearn.model_selection import GridSearchCV\n",
    "from sklearn import metrics\n",
    "from sklearn.model_selection import StratifiedKFold\n",
    "\n",
    "# define default random state so that all future random actions will be repeatable\n",
    "random_state = np.random.RandomState(0)\n",
    "\n",
    "#initialize a logistic regression model\n",
    "logistic = LogisticRegression(random_state=random_state)\n",
    "\n",
    "# define hyperparameter options\n",
    "penalty = ['l1', 'l2']\n",
    "C = [1, 10, 100, 1000, 10000, 100000]\n",
    "class_weight = [{1:0.3, 0:0.7}, {1:0.5, 0:0.5}, {1:0.7, 0:0.3}]\n",
    "solver = ['liblinear', 'saga']\n",
    "\n",
    "param_grid = dict(penalty=penalty,\n",
    "                  C=C,\n",
    "                  class_weight=class_weight,\n",
    "                  solver=solver)\n",
    "\n",
    "# scoring is F1 = 2 * (precision * recall) / (precision + recall)\n",
    "grid = GridSearchCV(estimator=logistic,\n",
    "                    param_grid=param_grid,\n",
    "                    scoring='f1',\n",
    "                    verbose=1,\n",
    "                    n_jobs=-1,\n",
    "                    cv = StratifiedKFold(n_splits=5, shuffle=True))\n",
    "\n",
    "grid_result = grid.fit(X_train, y_train)\n",
    "\n",
    "print('Best Score (F1): ' '{0:0.4f}'.format(grid_result.best_score_))\n",
    "print('Best Params: ', grid_result.best_params_)"
   ]
  },
  {
   "cell_type": "code",
   "execution_count": 74,
   "metadata": {},
   "outputs": [],
   "source": [
    "from sklearn.metrics import average_precision_score\n",
    "\n",
    "model = grid_result.best_estimator_\n",
    "y_pred = model.predict(X_test)\n",
    "y_proba = model.predict_proba(X_test)"
   ]
  },
  {
   "cell_type": "code",
   "execution_count": 83,
   "metadata": {},
   "outputs": [],
   "source": [
    "# define function for creating labeled confusion matrix for multiclass identification\n",
    "def labeled_confusion_mat(true_vector, pred_vector, labels):\n",
    "    confusion_matrix_labeled = pd.DataFrame(confusion_matrix(true_vector, pred_vector))\n",
    "    confusion_matrix_labeled.columns = list(labels)\n",
    "    confusion_matrix_labeled.index = list(labels)\n",
    "    return confusion_matrix_labeled"
   ]
  },
  {
   "cell_type": "code",
   "execution_count": 122,
   "metadata": {},
   "outputs": [
    {
     "name": "stdout",
     "output_type": "stream",
     "text": [
      "Confusion matrix for LR model evaluation on test set:\n",
      "\n",
      "                   Not Retained 6-mo  Retained 6-mo\n",
      "Not Retained 6-mo               5737           3770\n",
      "Retained 6-mo                   1220           4273\n",
      "\n",
      "Overall error rate is 0.33.\n",
      "False positive rate is 0.4.\n",
      "False negative rate is 0.22.\n",
      "\n",
      "\n",
      "Classification report for LR model evaluation on test set:\n",
      "\n",
      "                   precision    recall  f1-score   support\n",
      "\n",
      "Not Retained 6-mo       0.82      0.60      0.70      9507\n",
      "    Retained 6-mo       0.53      0.78      0.63      5493\n",
      "\n",
      "         accuracy                           0.67     15000\n",
      "        macro avg       0.68      0.69      0.66     15000\n",
      "     weighted avg       0.72      0.67      0.67     15000\n",
      "\n"
     ]
    }
   ],
   "source": [
    "from sklearn.metrics import confusion_matrix\n",
    "from sklearn.metrics import classification_report\n",
    "from sklearn.metrics import accuracy_score\n",
    "\n",
    "accuracy = accuracy_score(y_test, y_pred)\n",
    "error_rate = 1 - accuracy\n",
    "fp_rate = confusion_matrix(y_test, y_pred)[0][1] / (confusion_matrix(y_test, y_pred)[0][0] + confusion_matrix(y_test, y_pred)[0][1])\n",
    "fn_rate = confusion_matrix(y_test, y_pred)[1][0] / (confusion_matrix(y_test, y_pred)[1][0] + confusion_matrix(y_test, y_pred)[1][1])\n",
    "\n",
    "# print confusion matrix and classification report for model performance on test set\n",
    "labels = ['Not Retained 6-mo', 'Retained 6-mo']\n",
    "print('Confusion matrix for LR model evaluation on test set:\\n')\n",
    "print(labeled_confusion_mat(y_test, y_pred, labels))\n",
    "print(f'\\nOverall error rate is {round(error_rate,2)}.')\n",
    "print(f'False positive rate is {round(fp_rate,2)}.')\n",
    "print(f'False negative rate is {round(fn_rate,2)}.')\n",
    "print('\\n\\nClassification report for LR model evaluation on test set:\\n')\n",
    "print(classification_report(y_test, y_pred, target_names=labels))"
   ]
  },
  {
   "cell_type": "code",
   "execution_count": 119,
   "metadata": {},
   "outputs": [
    {
     "data": {
      "text/plain": [
       "1220"
      ]
     },
     "execution_count": 119,
     "metadata": {},
     "output_type": "execute_result"
    }
   ],
   "source": [
    "confusion_matrix(y_test, y_pred)[1][0]"
   ]
  },
  {
   "cell_type": "code",
   "execution_count": 130,
   "metadata": {},
   "outputs": [
    {
     "data": {
      "text/plain": [
       "Text(0, 0.5, 'Precision')"
      ]
     },
     "execution_count": 130,
     "metadata": {},
     "output_type": "execute_result"
    },
    {
     "data": {
      "image/png": "[encoded data removed]",
      "text/plain": [
       "<Figure size 432x288 with 1 Axes>"
      ]
     },
     "metadata": {
      "needs_background": "light"
     },
     "output_type": "display_data"
    }
   ],
   "source": [
    "from sklearn.metrics import plot_precision_recall_curve\n",
    "\n",
    "plot_precision_recall_curve(model, X_test,y_test)\n",
    "plt.title('Precision-Recall Curve LR Model')\n",
    "plt.xlabel('Recall')\n",
    "plt.ylabel('Precision')"
   ]
  },
  {
   "cell_type": "markdown",
   "metadata": {},
   "source": [
    "Using the logistic regression classifier, feature importance can be calculated and used to influence business policy."
   ]
  },
  {
   "cell_type": "code",
   "execution_count": 136,
   "metadata": {},
   "outputs": [
    {
     "name": "stdout",
     "output_type": "stream",
     "text": [
      "Feature: 0, Score: 16.2269, trips_in_first_30_days\n",
      "Feature: 1, Score: -0.5355, avg_rating_of_driver\n",
      "Feature: 2, Score: -1.2976, avg_surge\n",
      "Feature: 3, Score: 0.3172, surge_pct\n",
      "Feature: 4, Score: 0.8747, ultimate_black_user\n",
      "Feature: 5, Score: 0.0800, weekday_pct\n",
      "Feature: 6, Score: -6.1161, avg_dist\n",
      "Feature: 7, Score: -0.7455, avg_rating_by_driver\n",
      "Feature: 8, Score: -1.8115, city_Astapor\n",
      "Feature: 9, Score: -1.2514, city_Winterfell\n",
      "Feature: 10, Score: 1.1183, phone_iPhone\n"
     ]
    },
    {
     "data": {
      "image/png": "[encoded data removed]",
      "text/plain": [
       "<Figure size 432x288 with 1 Axes>"
      ]
     },
     "metadata": {
      "needs_background": "light"
     },
     "output_type": "display_data"
    }
   ],
   "source": [
    "# get importance\n",
    "importance = model.coef_[0]\n",
    "# summarize feature importance\n",
    "for i,v in enumerate(importance):\n",
    "    print('Feature: %0d, Score: %.4f, ' % (i,v) + list(udc_df_2cat_enc.columns)[i])\n",
    "# plot feature importance\n",
    "plt.bar([x for x in range(len(importance))], importance)\n",
    "plt.xticks([x for x in range(len(importance))])\n",
    "plt.xlabel('Feature Number')\n",
    "plt.ylabel('LR Coefficient')\n",
    "plt.title('Feature Importance LR Model')\n",
    "plt.show()"
   ]
  },
  {
   "cell_type": "markdown",
   "metadata": {},
   "source": [
    "Seeing that the performance of the Logistic Regression model is somewhat lacking (large misclassification errors), a decision tree classifier may be attempted as well."
   ]
  },
  {
   "cell_type": "code",
   "execution_count": 89,
   "metadata": {
    "scrolled": true
   },
   "outputs": [
    {
     "name": "stdout",
     "output_type": "stream",
     "text": [
      "Fitting 5 folds for each of 88 candidates, totalling 440 fits\n"
     ]
    },
    {
     "name": "stderr",
     "output_type": "stream",
     "text": [
      "[Parallel(n_jobs=-1)]: Using backend LokyBackend with 8 concurrent workers.\n",
      "[Parallel(n_jobs=-1)]: Done  56 tasks      | elapsed:    0.4s\n"
     ]
    },
    {
     "name": "stdout",
     "output_type": "stream",
     "text": [
      "Best Score (F1): 0.6784\n",
      "Best Params:  {'criterion': 'entropy', 'max_depth': 8, 'max_features': 7}\n"
     ]
    },
    {
     "name": "stderr",
     "output_type": "stream",
     "text": [
      "[Parallel(n_jobs=-1)]: Done 440 out of 440 | elapsed:    3.3s finished\n"
     ]
    }
   ],
   "source": [
    "from sklearn.tree import DecisionTreeClassifier\n",
    "\n",
    "#initialize a logistic regression model\n",
    "clf = DecisionTreeClassifier(random_state=random_state)\n",
    "\n",
    "# define hyperparameter options\n",
    "n_components = list(range(1,X.shape[1]+1,1))\n",
    "\n",
    "# Create lists of parameter for Decision Tree Classifier\n",
    "criterion = ['gini', 'entropy']\n",
    "max_depth = [4,6,8,12]\n",
    "\n",
    "# Create a dictionary of all the parameter options \n",
    "# Note has you can access the parameters of steps of a pipeline by using '__’\n",
    "param_grid = dict(max_features=n_components,\n",
    "                  criterion=criterion,\n",
    "                  max_depth=max_depth)\n",
    "\n",
    "# scoring is F1 = 2 * (precision * recall) / (precision + recall)\n",
    "grid_2 = GridSearchCV(estimator=clf,\n",
    "                    param_grid=param_grid,\n",
    "                    scoring='f1',\n",
    "                    verbose=1,\n",
    "                    n_jobs=-1,\n",
    "                    cv = StratifiedKFold(n_splits=5, shuffle=True))\n",
    "\n",
    "grid_2_result = grid_2.fit(X_train, y_train)\n",
    "\n",
    "print('Best Score (F1): ' '{0:0.4f}'.format(grid_2_result.best_score_))\n",
    "print('Best Params: ', grid_2_result.best_params_)"
   ]
  },
  {
   "cell_type": "code",
   "execution_count": 94,
   "metadata": {},
   "outputs": [],
   "source": [
    "from sklearn.metrics import average_precision_score\n",
    "\n",
    "model_2 = grid_2_result.best_estimator_\n",
    "y_pred_2 = model_2.predict(X_test)\n",
    "y_proba_2 = model_2.predict_proba(X_test)"
   ]
  },
  {
   "cell_type": "code",
   "execution_count": 128,
   "metadata": {},
   "outputs": [
    {
     "name": "stdout",
     "output_type": "stream",
     "text": [
      "Confusion matrix for DTC model evaluation on test set:\n",
      "\n",
      "                   Not Retained 6-mo  Retained 6-mo\n",
      "Not Retained 6-mo               8162           1345\n",
      "Retained 6-mo                   2125           3368\n",
      "\n",
      "Overall error rate is 0.23.\n",
      "False positive rate is 0.14.\n",
      "False negative rate is 0.39.\n",
      "\n",
      "\n",
      "Classification report for DTC model evaluation on test set:\n",
      "\n",
      "                   precision    recall  f1-score   support\n",
      "\n",
      "Not Retained 6-mo       0.79      0.86      0.82      9507\n",
      "    Retained 6-mo       0.71      0.61      0.66      5493\n",
      "\n",
      "         accuracy                           0.77     15000\n",
      "        macro avg       0.75      0.74      0.74     15000\n",
      "     weighted avg       0.76      0.77      0.76     15000\n",
      "\n"
     ]
    }
   ],
   "source": [
    "# calculate error rates\n",
    "accuracy = accuracy_score(y_test, y_pred_2)\n",
    "error_rate = 1 - accuracy\n",
    "fp_rate = confusion_matrix(y_test, y_pred_2)[0][1] / (confusion_matrix(y_test, y_pred_2)[0][0] + confusion_matrix(y_test, y_pred_2)[0][1])\n",
    "fn_rate = confusion_matrix(y_test, y_pred_2)[1][0] / (confusion_matrix(y_test, y_pred_2)[1][0] + confusion_matrix(y_test, y_pred_2)[1][1])\n",
    "\n",
    "# print confusion matrix and classification report for model performance on test set\n",
    "labels = ['Not Retained 6-mo', 'Retained 6-mo']\n",
    "print('Confusion matrix for DTC model evaluation on test set:\\n')\n",
    "print(labeled_confusion_mat(y_test, y_pred_2, labels))\n",
    "print(f'\\nOverall error rate is {round(error_rate,2)}.')\n",
    "print(f'False positive rate is {round(fp_rate,2)}.')\n",
    "print(f'False negative rate is {round(fn_rate,2)}.')\n",
    "print('\\n\\nClassification report for DTC model evaluation on test set:\\n')\n",
    "print(classification_report(y_test, y_pred_2, target_names=labels))"
   ]
  },
  {
   "cell_type": "code",
   "execution_count": 129,
   "metadata": {},
   "outputs": [
    {
     "data": {
      "text/plain": [
       "Text(0, 0.5, 'Precision')"
      ]
     },
     "execution_count": 129,
     "metadata": {},
     "output_type": "execute_result"
    },
    {
     "data": {
      "image/png": "[encoded data removed]",
      "text/plain": [
       "<Figure size 432x288 with 1 Axes>"
      ]
     },
     "metadata": {
      "needs_background": "light"
     },
     "output_type": "display_data"
    }
   ],
   "source": [
    "plot_precision_recall_curve(model_2, X_test,y_test)\n",
    "plt.title('Precision-Recall Curve DTC Model')\n",
    "plt.xlabel('Recall')\n",
    "plt.ylabel('Precision')"
   ]
  },
  {
   "cell_type": "markdown",
   "metadata": {},
   "source": [
    "The decision tree classifier demonstrated better performance on the test set than the logistic regression classifier, with lower error rates across the confusion matrix as well as better precision-recall characteristics (overall better average precision score). Other classification models can be implemented with higher accuracy, but will perhaps be less interpretable. Using the decision tree classifier, feature importance can be calculated and used to influence business policy."
   ]
  },
  {
   "cell_type": "code",
   "execution_count": 137,
   "metadata": {},
   "outputs": [
    {
     "name": "stdout",
     "output_type": "stream",
     "text": [
      "Feature: 0, Score: 0.0310, trips_in_first_30_days\n",
      "Feature: 1, Score: 0.0073, avg_rating_of_driver\n",
      "Feature: 2, Score: 0.0550, avg_surge\n",
      "Feature: 3, Score: 0.0641, surge_pct\n",
      "Feature: 4, Score: 0.0742, ultimate_black_user\n",
      "Feature: 5, Score: 0.0677, weekday_pct\n",
      "Feature: 6, Score: 0.0392, avg_dist\n",
      "Feature: 7, Score: 0.3822, avg_rating_by_driver\n",
      "Feature: 8, Score: 0.0921, city_Astapor\n",
      "Feature: 9, Score: 0.0807, city_Winterfell\n",
      "Feature: 10, Score: 0.1065, phone_iPhone\n"
     ]
    },
    {
     "data": {
      "image/png": "[encoded data removed]",
      "text/plain": [
       "<Figure size 432x288 with 1 Axes>"
      ]
     },
     "metadata": {
      "needs_background": "light"
     },
     "output_type": "display_data"
    }
   ],
   "source": [
    "# get importance\n",
    "importance = model_2.feature_importances_\n",
    "# summarize feature importance\n",
    "for i,v in enumerate(importance):\n",
    "    print('Feature: %0d, Score: %.4f, ' % (i,v) + list(udc_df_2cat_enc.columns)[i])\n",
    "# plot feature importance\n",
    "plt.bar([x for x in range(len(importance))], importance)\n",
    "plt.xticks([x for x in range(len(importance))])\n",
    "plt.xlabel('Feature Number')\n",
    "plt.ylabel('Importance Coefficient')\n",
    "plt.title('Feature Importance DTC Model')\n",
    "plt.show()"
   ]
  },
  {
   "cell_type": "markdown",
   "metadata": {},
   "source": [
    "Interestingly, the DTC model gave very different features of high importance than did the LR model. The take-aways from both models will be discussed in the next section."
   ]
  },
  {
   "cell_type": "markdown",
   "metadata": {},
   "source": [
    "__Answer 3__"
   ]
  },
  {
   "cell_type": "markdown",
   "metadata": {},
   "source": [
    "From the two predictive machine learning classifiers implemented in the previous section, several observations can be made:\n",
    "- Decision tree modeling is an effective classification method for this data, with relatively low misclassification errors compared to logistic regression; if further accuracy in rider retention is desired, rather than interpretability, decision tree ensemble methods may be pursued (Random Forest, XGBoost)\n",
    "- From the LR model, though it lacked in accuracy somewhat, feature importance pointed to \"trips_in_first_30_days\" and \"avg_dist\" features as those most impactful in the classification of rider retention at the 6 month mark. This prioritization make intuitive sense and a business case should be made to focus on these aspects of rider retention.\n",
    "- From the DTC model's feature importance, \"avg_rating_by_driver\" was the feature that stood out the most. This is a surprising result, but could point to an underlying psychological effect that getting feedback from the app/service helps keep ridership engaged and wanting to improve their own \"rider score\". This effect should not be discounted.\n",
    "\n",
    "From these observations, a few business suggestions could be made:\n",
    "- Give incentives/discounts to newly signed riders during their first 30 days. This may \"hook\" riders onto the service and get them to stay longer.\n",
    "- Give incentives/discounts for riders taking longer/shorter rides (not clear from the model which end of the \"avg_dist\" range promotes rider retention). If longer rides promote rider retention, give discounts over X miles traveled. If shorter (more frequent) rides promote retention, give discounts for every Xth ride.\n",
    "- Improve the app's functionality for driver's to promote them giving scores to their riders for every ride (e.g. bonuses for consistently scoring all riders in a given month). Add additional rider feedback mechanisms/prizes to promote rider engagement with the app (e.g. discounted rides/points for high scores)."
   ]
  }
 ],
 "metadata": {
  "kernelspec": {
   "display_name": "tf_keras_gpu",
   "language": "python",
   "name": "tf_keras_gpu"
  },
  "language_info": {
   "codemirror_mode": {
    "name": "ipython",
    "version": 3
   },
   "file_extension": ".py",
   "mimetype": "text/x-python",
   "name": "python",
   "nbconvert_exporter": "python",
   "pygments_lexer": "ipython3",
   "version": "3.7.6"
  }
 },
 "nbformat": 4,
 "nbformat_minor": 2
}
