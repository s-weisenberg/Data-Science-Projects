{
 "cells": [
  {
   "cell_type": "markdown",
   "metadata": {},
   "source": [
    "# __SpringBoard Mini-Project: Take Home Challenge 2__\n",
    "## __Interview Prep__\n",
    "\n",
    "__Written by: Sofy Weisenberg__<br>\n",
    "__Date: 05/03/20__\n"
   ]
  },
  {
   "cell_type": "markdown",
   "metadata": {},
   "source": [
    "__Data Analysis Interview Challenge__\n",
    "\n",
    "The data is available as two attached CSV files:\n",
    "takehome_user_engagement. csv\n",
    "takehome_users . csv\n",
    "The data has the following two tables:<br>\n",
    "\n",
    "__1)__ A user table ( \"takehome_users\" ) with data on 12,000 users who signed up for the product in the last two years. This table includes:\n",
    "- name: the user's name\n",
    "- object_id: the user's id\n",
    "- email: email address\n",
    "- creation_source: how their account was created. This takes on one of 5 values:\n",
    "    - PERSONAL_PROJECTS: invited to join another user'spersonal workspace\n",
    "    - GUEST_INVITE: invited to an organization as a guest (limited permissions)\n",
    "    - ORG_INVITE: invited to an organization (as a full member)\n",
    "    - SIGNUP: signed up via the website\n",
    "    - SIGNUP_GOOGLE_AUTH: signed up using Google Authentication (using a Google email account for their login id)\n",
    "- creation_time: when they created their account\n",
    "- last_session_creation_time: unix timestamp of last login\n",
    "- opted_in_to_mailing_list: whether they have opted into receiving marketing emails\n",
    "- enabled_for_marketing_drip: whether they are on the regular marketing email drip\n",
    "- org_id: the organization (group of users) they belong to\n",
    "- invited_by_user_id: which user invited them to join (if applicable).\n",
    "\n",
    "__2)__ A usage summary table ( \"takehome_user_engagement\" ) that has a row for each day that a user logged into the product. \n",
    "\n",
    "Defining an \"adopted user\" as a user who has logged into the product on three separate days in at least one sevenday period, identify which factors predict future user adoption .\n",
    "\n",
    "We suggest spending 1-2 hours on this, but you're welcome to spend more or less. Please send us a brief writeup of your findings (the more concise, the better no more than one page), along with any summary tables, graphs, code, or queries that can help us understand your approach. Please note any factors you considered or investigation you did, even if they did not pan out. Feel free to identify any further research or data you think would be valuable."
   ]
  },
  {
   "cell_type": "code",
   "execution_count": 1,
   "metadata": {},
   "outputs": [],
   "source": [
    "import numpy as np\n",
    "import pandas as pd\n",
    "import matplotlib.pyplot as plt\n",
    "import seaborn as sns\n",
    "import os\n",
    "import time\n",
    "\n",
    "# Use the current working directory path to navigate to the location of the data\n",
    "cwd_path = os.getcwd()\n",
    "table1_path = os.path.join(cwd_path, 'takehome_users.csv')\n",
    "table2_path = os.path.join(cwd_path, 'takehome_user_engagement.csv')\n",
    "\n",
    "# Throw an assert error if the paths do not exist\n",
    "assert os.path.exists(table1_path)\n",
    "assert os.path.exists(table2_path)"
   ]
  },
  {
   "cell_type": "code",
   "execution_count": 2,
   "metadata": {},
   "outputs": [
    {
     "name": "stdout",
     "output_type": "stream",
     "text": [
      "<class 'pandas.core.frame.DataFrame'>\n",
      "RangeIndex: 12000 entries, 0 to 11999\n",
      "Data columns (total 10 columns):\n",
      " #   Column                      Non-Null Count  Dtype  \n",
      "---  ------                      --------------  -----  \n",
      " 0   object_id                   12000 non-null  int64  \n",
      " 1   creation_time               12000 non-null  object \n",
      " 2   name                        12000 non-null  object \n",
      " 3   email                       12000 non-null  object \n",
      " 4   creation_source             12000 non-null  object \n",
      " 5   last_session_creation_time  8823 non-null   float64\n",
      " 6   opted_in_to_mailing_list    12000 non-null  int64  \n",
      " 7   enabled_for_marketing_drip  12000 non-null  int64  \n",
      " 8   org_id                      12000 non-null  int64  \n",
      " 9   invited_by_user_id          6417 non-null   float64\n",
      "dtypes: float64(2), int64(4), object(4)\n",
      "memory usage: 937.6+ KB\n"
     ]
    }
   ],
   "source": [
    "# get data info summary for table 1\n",
    "table1 = pd.read_csv(table1_path, encoding='latin-1')\n",
    "table1.info()"
   ]
  },
  {
   "cell_type": "code",
   "execution_count": 3,
   "metadata": {},
   "outputs": [
    {
     "data": {
      "text/html": [
       "<div>\n",
       "<style scoped>\n",
       "    .dataframe tbody tr th:only-of-type {\n",
       "        vertical-align: middle;\n",
       "    }\n",
       "\n",
       "    .dataframe tbody tr th {\n",
       "        vertical-align: top;\n",
       "    }\n",
       "\n",
       "    .dataframe thead th {\n",
       "        text-align: right;\n",
       "    }\n",
       "</style>\n",
       "<table border=\"1\" class=\"dataframe\">\n",
       "  <thead>\n",
       "    <tr style=\"text-align: right;\">\n",
       "      <th></th>\n",
       "      <th>object_id</th>\n",
       "      <th>creation_time</th>\n",
       "      <th>name</th>\n",
       "      <th>email</th>\n",
       "      <th>creation_source</th>\n",
       "      <th>last_session_creation_time</th>\n",
       "      <th>opted_in_to_mailing_list</th>\n",
       "      <th>enabled_for_marketing_drip</th>\n",
       "      <th>org_id</th>\n",
       "      <th>invited_by_user_id</th>\n",
       "    </tr>\n",
       "  </thead>\n",
       "  <tbody>\n",
       "    <tr>\n",
       "      <th>0</th>\n",
       "      <td>1</td>\n",
       "      <td>2014-04-22 03:53:30</td>\n",
       "      <td>Clausen August</td>\n",
       "      <td>AugustCClausen@yahoo.com</td>\n",
       "      <td>GUEST_INVITE</td>\n",
       "      <td>1.398139e+09</td>\n",
       "      <td>1</td>\n",
       "      <td>0</td>\n",
       "      <td>11</td>\n",
       "      <td>10803.0</td>\n",
       "    </tr>\n",
       "    <tr>\n",
       "      <th>1</th>\n",
       "      <td>2</td>\n",
       "      <td>2013-11-15 03:45:04</td>\n",
       "      <td>Poole Matthew</td>\n",
       "      <td>MatthewPoole@gustr.com</td>\n",
       "      <td>ORG_INVITE</td>\n",
       "      <td>1.396238e+09</td>\n",
       "      <td>0</td>\n",
       "      <td>0</td>\n",
       "      <td>1</td>\n",
       "      <td>316.0</td>\n",
       "    </tr>\n",
       "    <tr>\n",
       "      <th>2</th>\n",
       "      <td>3</td>\n",
       "      <td>2013-03-19 23:14:52</td>\n",
       "      <td>Bottrill Mitchell</td>\n",
       "      <td>MitchellBottrill@gustr.com</td>\n",
       "      <td>ORG_INVITE</td>\n",
       "      <td>1.363735e+09</td>\n",
       "      <td>0</td>\n",
       "      <td>0</td>\n",
       "      <td>94</td>\n",
       "      <td>1525.0</td>\n",
       "    </tr>\n",
       "    <tr>\n",
       "      <th>3</th>\n",
       "      <td>4</td>\n",
       "      <td>2013-05-21 08:09:28</td>\n",
       "      <td>Clausen Nicklas</td>\n",
       "      <td>NicklasSClausen@yahoo.com</td>\n",
       "      <td>GUEST_INVITE</td>\n",
       "      <td>1.369210e+09</td>\n",
       "      <td>0</td>\n",
       "      <td>0</td>\n",
       "      <td>1</td>\n",
       "      <td>5151.0</td>\n",
       "    </tr>\n",
       "    <tr>\n",
       "      <th>4</th>\n",
       "      <td>5</td>\n",
       "      <td>2013-01-17 10:14:20</td>\n",
       "      <td>Raw Grace</td>\n",
       "      <td>GraceRaw@yahoo.com</td>\n",
       "      <td>GUEST_INVITE</td>\n",
       "      <td>1.358850e+09</td>\n",
       "      <td>0</td>\n",
       "      <td>0</td>\n",
       "      <td>193</td>\n",
       "      <td>5240.0</td>\n",
       "    </tr>\n",
       "  </tbody>\n",
       "</table>\n",
       "</div>"
      ],
      "text/plain": [
       "   object_id        creation_time               name  \\\n",
       "0          1  2014-04-22 03:53:30     Clausen August   \n",
       "1          2  2013-11-15 03:45:04      Poole Matthew   \n",
       "2          3  2013-03-19 23:14:52  Bottrill Mitchell   \n",
       "3          4  2013-05-21 08:09:28    Clausen Nicklas   \n",
       "4          5  2013-01-17 10:14:20          Raw Grace   \n",
       "\n",
       "                        email creation_source  last_session_creation_time  \\\n",
       "0    AugustCClausen@yahoo.com    GUEST_INVITE                1.398139e+09   \n",
       "1      MatthewPoole@gustr.com      ORG_INVITE                1.396238e+09   \n",
       "2  MitchellBottrill@gustr.com      ORG_INVITE                1.363735e+09   \n",
       "3   NicklasSClausen@yahoo.com    GUEST_INVITE                1.369210e+09   \n",
       "4          GraceRaw@yahoo.com    GUEST_INVITE                1.358850e+09   \n",
       "\n",
       "   opted_in_to_mailing_list  enabled_for_marketing_drip  org_id  \\\n",
       "0                         1                           0      11   \n",
       "1                         0                           0       1   \n",
       "2                         0                           0      94   \n",
       "3                         0                           0       1   \n",
       "4                         0                           0     193   \n",
       "\n",
       "   invited_by_user_id  \n",
       "0             10803.0  \n",
       "1               316.0  \n",
       "2              1525.0  \n",
       "3              5151.0  \n",
       "4              5240.0  "
      ]
     },
     "execution_count": 3,
     "metadata": {},
     "output_type": "execute_result"
    }
   ],
   "source": [
    "table1[table1.invited_by_user_id.isnull() == False].head()"
   ]
  },
  {
   "cell_type": "code",
   "execution_count": 4,
   "metadata": {},
   "outputs": [
    {
     "name": "stdout",
     "output_type": "stream",
     "text": [
      "<class 'pandas.core.frame.DataFrame'>\n",
      "RangeIndex: 207917 entries, 0 to 207916\n",
      "Data columns (total 3 columns):\n",
      " #   Column      Non-Null Count   Dtype \n",
      "---  ------      --------------   ----- \n",
      " 0   time_stamp  207917 non-null  object\n",
      " 1   user_id     207917 non-null  int64 \n",
      " 2   visited     207917 non-null  int64 \n",
      "dtypes: int64(2), object(1)\n",
      "memory usage: 4.8+ MB\n"
     ]
    }
   ],
   "source": [
    "# get data info summary for table 2\n",
    "table2 = pd.read_csv(table2_path)\n",
    "table2.info()"
   ]
  },
  {
   "cell_type": "code",
   "execution_count": 5,
   "metadata": {},
   "outputs": [
    {
     "data": {
      "text/html": [
       "<div>\n",
       "<style scoped>\n",
       "    .dataframe tbody tr th:only-of-type {\n",
       "        vertical-align: middle;\n",
       "    }\n",
       "\n",
       "    .dataframe tbody tr th {\n",
       "        vertical-align: top;\n",
       "    }\n",
       "\n",
       "    .dataframe thead th {\n",
       "        text-align: right;\n",
       "    }\n",
       "</style>\n",
       "<table border=\"1\" class=\"dataframe\">\n",
       "  <thead>\n",
       "    <tr style=\"text-align: right;\">\n",
       "      <th></th>\n",
       "      <th>object_id</th>\n",
       "      <th>creation_time</th>\n",
       "      <th>name</th>\n",
       "      <th>email</th>\n",
       "      <th>creation_source</th>\n",
       "      <th>last_session_creation_time</th>\n",
       "      <th>opted_in_to_mailing_list</th>\n",
       "      <th>enabled_for_marketing_drip</th>\n",
       "      <th>org_id</th>\n",
       "      <th>invited_by_user_id</th>\n",
       "    </tr>\n",
       "  </thead>\n",
       "  <tbody>\n",
       "    <tr>\n",
       "      <th>0</th>\n",
       "      <td>1</td>\n",
       "      <td>2014-04-22 03:53:30</td>\n",
       "      <td>Clausen August</td>\n",
       "      <td>AugustCClausen@yahoo.com</td>\n",
       "      <td>GUEST_INVITE</td>\n",
       "      <td>1.398139e+09</td>\n",
       "      <td>1</td>\n",
       "      <td>0</td>\n",
       "      <td>11</td>\n",
       "      <td>10803.0</td>\n",
       "    </tr>\n",
       "    <tr>\n",
       "      <th>1</th>\n",
       "      <td>2</td>\n",
       "      <td>2013-11-15 03:45:04</td>\n",
       "      <td>Poole Matthew</td>\n",
       "      <td>MatthewPoole@gustr.com</td>\n",
       "      <td>ORG_INVITE</td>\n",
       "      <td>1.396238e+09</td>\n",
       "      <td>0</td>\n",
       "      <td>0</td>\n",
       "      <td>1</td>\n",
       "      <td>316.0</td>\n",
       "    </tr>\n",
       "    <tr>\n",
       "      <th>2</th>\n",
       "      <td>3</td>\n",
       "      <td>2013-03-19 23:14:52</td>\n",
       "      <td>Bottrill Mitchell</td>\n",
       "      <td>MitchellBottrill@gustr.com</td>\n",
       "      <td>ORG_INVITE</td>\n",
       "      <td>1.363735e+09</td>\n",
       "      <td>0</td>\n",
       "      <td>0</td>\n",
       "      <td>94</td>\n",
       "      <td>1525.0</td>\n",
       "    </tr>\n",
       "    <tr>\n",
       "      <th>3</th>\n",
       "      <td>4</td>\n",
       "      <td>2013-05-21 08:09:28</td>\n",
       "      <td>Clausen Nicklas</td>\n",
       "      <td>NicklasSClausen@yahoo.com</td>\n",
       "      <td>GUEST_INVITE</td>\n",
       "      <td>1.369210e+09</td>\n",
       "      <td>0</td>\n",
       "      <td>0</td>\n",
       "      <td>1</td>\n",
       "      <td>5151.0</td>\n",
       "    </tr>\n",
       "    <tr>\n",
       "      <th>4</th>\n",
       "      <td>5</td>\n",
       "      <td>2013-01-17 10:14:20</td>\n",
       "      <td>Raw Grace</td>\n",
       "      <td>GraceRaw@yahoo.com</td>\n",
       "      <td>GUEST_INVITE</td>\n",
       "      <td>1.358850e+09</td>\n",
       "      <td>0</td>\n",
       "      <td>0</td>\n",
       "      <td>193</td>\n",
       "      <td>5240.0</td>\n",
       "    </tr>\n",
       "  </tbody>\n",
       "</table>\n",
       "</div>"
      ],
      "text/plain": [
       "   object_id        creation_time               name  \\\n",
       "0          1  2014-04-22 03:53:30     Clausen August   \n",
       "1          2  2013-11-15 03:45:04      Poole Matthew   \n",
       "2          3  2013-03-19 23:14:52  Bottrill Mitchell   \n",
       "3          4  2013-05-21 08:09:28    Clausen Nicklas   \n",
       "4          5  2013-01-17 10:14:20          Raw Grace   \n",
       "\n",
       "                        email creation_source  last_session_creation_time  \\\n",
       "0    AugustCClausen@yahoo.com    GUEST_INVITE                1.398139e+09   \n",
       "1      MatthewPoole@gustr.com      ORG_INVITE                1.396238e+09   \n",
       "2  MitchellBottrill@gustr.com      ORG_INVITE                1.363735e+09   \n",
       "3   NicklasSClausen@yahoo.com    GUEST_INVITE                1.369210e+09   \n",
       "4          GraceRaw@yahoo.com    GUEST_INVITE                1.358850e+09   \n",
       "\n",
       "   opted_in_to_mailing_list  enabled_for_marketing_drip  org_id  \\\n",
       "0                         1                           0      11   \n",
       "1                         0                           0       1   \n",
       "2                         0                           0      94   \n",
       "3                         0                           0       1   \n",
       "4                         0                           0     193   \n",
       "\n",
       "   invited_by_user_id  \n",
       "0             10803.0  \n",
       "1               316.0  \n",
       "2              1525.0  \n",
       "3              5151.0  \n",
       "4              5240.0  "
      ]
     },
     "execution_count": 5,
     "metadata": {},
     "output_type": "execute_result"
    }
   ],
   "source": [
    "table1.head()"
   ]
  },
  {
   "cell_type": "code",
   "execution_count": 6,
   "metadata": {},
   "outputs": [
    {
     "data": {
      "text/html": [
       "<div>\n",
       "<style scoped>\n",
       "    .dataframe tbody tr th:only-of-type {\n",
       "        vertical-align: middle;\n",
       "    }\n",
       "\n",
       "    .dataframe tbody tr th {\n",
       "        vertical-align: top;\n",
       "    }\n",
       "\n",
       "    .dataframe thead th {\n",
       "        text-align: right;\n",
       "    }\n",
       "</style>\n",
       "<table border=\"1\" class=\"dataframe\">\n",
       "  <thead>\n",
       "    <tr style=\"text-align: right;\">\n",
       "      <th></th>\n",
       "      <th>time_stamp</th>\n",
       "      <th>user_id</th>\n",
       "      <th>visited</th>\n",
       "    </tr>\n",
       "  </thead>\n",
       "  <tbody>\n",
       "    <tr>\n",
       "      <th>0</th>\n",
       "      <td>2014-04-22 03:53:30</td>\n",
       "      <td>1</td>\n",
       "      <td>1</td>\n",
       "    </tr>\n",
       "  </tbody>\n",
       "</table>\n",
       "</div>"
      ],
      "text/plain": [
       "            time_stamp  user_id  visited\n",
       "0  2014-04-22 03:53:30        1        1"
      ]
     },
     "execution_count": 6,
     "metadata": {},
     "output_type": "execute_result"
    }
   ],
   "source": [
    "table2[table2.user_id==1]"
   ]
  },
  {
   "cell_type": "code",
   "execution_count": 7,
   "metadata": {},
   "outputs": [
    {
     "name": "stdout",
     "output_type": "stream",
     "text": [
      "<class 'pandas.core.frame.DataFrame'>\n",
      "RangeIndex: 207917 entries, 0 to 207916\n",
      "Data columns (total 3 columns):\n",
      " #   Column      Non-Null Count   Dtype         \n",
      "---  ------      --------------   -----         \n",
      " 0   time_stamp  207917 non-null  datetime64[ns]\n",
      " 1   user_id     207917 non-null  int64         \n",
      " 2   visited     207917 non-null  int64         \n",
      "dtypes: datetime64[ns](1), int64(2)\n",
      "memory usage: 4.8 MB\n"
     ]
    }
   ],
   "source": [
    "# convert time_stamp data into datetime format so that differences may be calculated\n",
    "table2.time_stamp = pd.to_datetime(table2.time_stamp)\n",
    "table2.info()"
   ]
  },
  {
   "cell_type": "code",
   "execution_count": 8,
   "metadata": {},
   "outputs": [],
   "source": [
    "# get a list of all \"adopted users\" by looping through each user id and finding which logged in 3 times in 7 days, at least once\n",
    "adopted_users = []\n",
    "\n",
    "for idx, value in table1.iterrows():\n",
    "    user_logins = table2[table2.user_id == table1.object_id[idx]].reset_index()\n",
    "    if len(user_logins) > 2:\n",
    "        for i in range(0, len(user_logins)-2):\n",
    "             if user_logins.time_stamp[i+2] - user_logins.time_stamp[i] <= pd.Timedelta(7,'D'):\n",
    "                adopted_users.append(table1.object_id[idx])\n",
    "                break\n",
    "            "
   ]
  },
  {
   "cell_type": "code",
   "execution_count": 9,
   "metadata": {},
   "outputs": [
    {
     "data": {
      "text/plain": [
       "0.138"
      ]
     },
     "execution_count": 9,
     "metadata": {},
     "output_type": "execute_result"
    }
   ],
   "source": [
    "# table1: add a bool [0/1] column for adopted users (this can be the class label/dependent variable for model/analysis)\n",
    "\n",
    "table1['adopted_user'] = 1 * (table1['object_id'].isin(adopted_users))\n",
    "adoption_ratio_overall = table1.adopted_user[table1.adopted_user == 1].count()/table1.adopted_user.count()\n",
    "adoption_ratio_overall"
   ]
  },
  {
   "cell_type": "code",
   "execution_count": 10,
   "metadata": {},
   "outputs": [
    {
     "name": "stdout",
     "output_type": "stream",
     "text": [
      "<class 'pandas.core.frame.DataFrame'>\n",
      "RangeIndex: 12000 entries, 0 to 11999\n",
      "Data columns (total 11 columns):\n",
      " #   Column                      Non-Null Count  Dtype         \n",
      "---  ------                      --------------  -----         \n",
      " 0   object_id                   12000 non-null  int64         \n",
      " 1   creation_time               12000 non-null  datetime64[ns]\n",
      " 2   name                        12000 non-null  object        \n",
      " 3   email                       12000 non-null  object        \n",
      " 4   creation_source             12000 non-null  object        \n",
      " 5   last_session_creation_time  8823 non-null   datetime64[ns]\n",
      " 6   opted_in_to_mailing_list    12000 non-null  int64         \n",
      " 7   enabled_for_marketing_drip  12000 non-null  int64         \n",
      " 8   org_id                      12000 non-null  int64         \n",
      " 9   invited_by_user_id          6417 non-null   float64       \n",
      " 10  adopted_user                12000 non-null  int32         \n",
      "dtypes: datetime64[ns](2), float64(1), int32(1), int64(4), object(3)\n",
      "memory usage: 984.5+ KB\n"
     ]
    }
   ],
   "source": [
    "# continue building table1 as the full feature/label table which can later be split for X, y\n",
    "# create additional columns of interest: change 2 cols to datetime, make creation_source one hot encoded, \n",
    "import datetime\n",
    "\n",
    "table1.creation_time = pd.to_datetime(table1.creation_time)\n",
    "table1.last_session_creation_time = pd.to_datetime(table1.last_session_creation_time,unit='s')\n",
    "table1.info()"
   ]
  },
  {
   "cell_type": "code",
   "execution_count": 11,
   "metadata": {},
   "outputs": [
    {
     "name": "stderr",
     "output_type": "stream",
     "text": [
      "C:\\Users\\Niv\\Anaconda3\\envs\\tf_keras_gpu\\lib\\site-packages\\pandas\\core\\indexing.py:671: SettingWithCopyWarning: \n",
      "A value is trying to be set on a copy of a slice from a DataFrame\n",
      "\n",
      "See the caveats in the documentation: https://pandas.pydata.org/pandas-docs/stable/user_guide/indexing.html#returning-a-view-versus-a-copy\n",
      "  self._setitem_with_indexer(indexer, value)\n"
     ]
    }
   ],
   "source": [
    "# calculate for users with more than 1 login, how long it took for the second login and for the third login and NaN otherwise\n",
    "table1['time_to_second_login'] = np.nan\n",
    "table1['time_to_third_login'] = np.nan\n",
    "\n",
    "for idx, value in table1.iterrows():\n",
    "    user_logins = table2[table2.user_id == table1.object_id[idx]].reset_index()\n",
    "    if len(user_logins) > 0:\n",
    "        # for some, the creation time is written as the second login as well, but should not register \"0 days\" between logins\n",
    "        if user_logins.iloc[0][1] == table1.creation_time.iloc[idx]:\n",
    "            table1['time_to_second_login'].iloc[idx] = np.nan\n",
    "        else:\n",
    "            table1['time_to_second_login'].iloc[idx] = pd.Timedelta(user_logins.iloc[0][1]-table1.creation_time.iloc[idx],'D').days\n",
    "    if len(user_logins) > 1:\n",
    "        if user_logins.iloc[0][1] == table1.creation_time.iloc[idx]:\n",
    "            table1['time_to_second_login'].iloc[idx] = pd.Timedelta(user_logins.iloc[1][1]-user_logins.iloc[0][1],'D').days\n",
    "        else:\n",
    "            table1['time_to_third_login'].iloc[idx] = pd.Timedelta(user_logins.iloc[1][1]-user_logins.iloc[0][1],'D').days"
   ]
  },
  {
   "cell_type": "code",
   "execution_count": 28,
   "metadata": {},
   "outputs": [],
   "source": [
    "# create feature matrix X from Table 1 without columns: object_id, creation_time, name, email, last_session_creation_time, org_id, invited_by_user_id, adopted_user\n",
    "\n",
    "X = table1.drop(['object_id', 'creation_time', 'name', 'email', 'last_session_creation_time', 'org_id', 'invited_by_user_id', 'adopted_user'], axis=1)\n",
    "X = X.join(pd.get_dummies(X['creation_source'],prefix='creation',drop_first=True)).drop(['creation_source'], axis=1)\n",
    "\n",
    "# create label vector y from adopted_user\n",
    "y = table1.adopted_user"
   ]
  },
  {
   "cell_type": "code",
   "execution_count": 29,
   "metadata": {},
   "outputs": [
    {
     "data": {
      "text/html": [
       "<div>\n",
       "<style scoped>\n",
       "    .dataframe tbody tr th:only-of-type {\n",
       "        vertical-align: middle;\n",
       "    }\n",
       "\n",
       "    .dataframe tbody tr th {\n",
       "        vertical-align: top;\n",
       "    }\n",
       "\n",
       "    .dataframe thead th {\n",
       "        text-align: right;\n",
       "    }\n",
       "</style>\n",
       "<table border=\"1\" class=\"dataframe\">\n",
       "  <thead>\n",
       "    <tr style=\"text-align: right;\">\n",
       "      <th></th>\n",
       "      <th>opted_in_to_mailing_list</th>\n",
       "      <th>enabled_for_marketing_drip</th>\n",
       "      <th>time_to_second_login</th>\n",
       "      <th>time_to_third_login</th>\n",
       "      <th>creation_ORG_INVITE</th>\n",
       "      <th>creation_PERSONAL_PROJECTS</th>\n",
       "      <th>creation_SIGNUP</th>\n",
       "      <th>creation_SIGNUP_GOOGLE_AUTH</th>\n",
       "    </tr>\n",
       "  </thead>\n",
       "  <tbody>\n",
       "    <tr>\n",
       "      <th>0</th>\n",
       "      <td>1</td>\n",
       "      <td>0</td>\n",
       "      <td>NaN</td>\n",
       "      <td>NaN</td>\n",
       "      <td>0</td>\n",
       "      <td>0</td>\n",
       "      <td>0</td>\n",
       "      <td>0</td>\n",
       "    </tr>\n",
       "    <tr>\n",
       "      <th>1</th>\n",
       "      <td>0</td>\n",
       "      <td>0</td>\n",
       "      <td>14.0</td>\n",
       "      <td>NaN</td>\n",
       "      <td>1</td>\n",
       "      <td>0</td>\n",
       "      <td>0</td>\n",
       "      <td>0</td>\n",
       "    </tr>\n",
       "    <tr>\n",
       "      <th>2</th>\n",
       "      <td>0</td>\n",
       "      <td>0</td>\n",
       "      <td>NaN</td>\n",
       "      <td>NaN</td>\n",
       "      <td>1</td>\n",
       "      <td>0</td>\n",
       "      <td>0</td>\n",
       "      <td>0</td>\n",
       "    </tr>\n",
       "    <tr>\n",
       "      <th>3</th>\n",
       "      <td>0</td>\n",
       "      <td>0</td>\n",
       "      <td>1.0</td>\n",
       "      <td>NaN</td>\n",
       "      <td>0</td>\n",
       "      <td>0</td>\n",
       "      <td>0</td>\n",
       "      <td>0</td>\n",
       "    </tr>\n",
       "    <tr>\n",
       "      <th>4</th>\n",
       "      <td>0</td>\n",
       "      <td>0</td>\n",
       "      <td>5.0</td>\n",
       "      <td>NaN</td>\n",
       "      <td>0</td>\n",
       "      <td>0</td>\n",
       "      <td>0</td>\n",
       "      <td>0</td>\n",
       "    </tr>\n",
       "  </tbody>\n",
       "</table>\n",
       "</div>"
      ],
      "text/plain": [
       "   opted_in_to_mailing_list  enabled_for_marketing_drip  time_to_second_login  \\\n",
       "0                         1                           0                   NaN   \n",
       "1                         0                           0                  14.0   \n",
       "2                         0                           0                   NaN   \n",
       "3                         0                           0                   1.0   \n",
       "4                         0                           0                   5.0   \n",
       "\n",
       "   time_to_third_login  creation_ORG_INVITE  creation_PERSONAL_PROJECTS  \\\n",
       "0                  NaN                    0                           0   \n",
       "1                  NaN                    1                           0   \n",
       "2                  NaN                    1                           0   \n",
       "3                  NaN                    0                           0   \n",
       "4                  NaN                    0                           0   \n",
       "\n",
       "   creation_SIGNUP  creation_SIGNUP_GOOGLE_AUTH  \n",
       "0                0                            0  \n",
       "1                0                            0  \n",
       "2                0                            0  \n",
       "3                0                            0  \n",
       "4                0                            0  "
      ]
     },
     "execution_count": 29,
     "metadata": {},
     "output_type": "execute_result"
    }
   ],
   "source": [
    "X.head()"
   ]
  },
  {
   "cell_type": "code",
   "execution_count": 30,
   "metadata": {},
   "outputs": [
    {
     "data": {
      "text/plain": [
       "(0.29, 0.63)"
      ]
     },
     "execution_count": 30,
     "metadata": {},
     "output_type": "execute_result"
    }
   ],
   "source": [
    "#calculate the ratio of adopted users from the subgroups with at least 2 logins and with at least 3 logins\n",
    "table1_sub = table1[table1.time_to_third_login > 0]\n",
    "adoption_ratio_3_logins = table1_sub.time_to_third_login[table1_sub.adopted_user == 1].count()/table1_sub.time_to_third_login.count()\n",
    "table2_sub = table1[table1.time_to_second_login > 0]\n",
    "adoption_ratio_2_logins = table2_sub.time_to_second_login[table2_sub.adopted_user == 1].count()/table2_sub.time_to_second_login.count()\n",
    "round(adoption_ratio_2_logins,2), round(adoption_ratio_3_logins,2)"
   ]
  },
  {
   "cell_type": "markdown",
   "metadata": {},
   "source": [
    "Compared to the overall user group, the ratio of adoption doubles among users with 2 or more logins and increases a factor of 6 among users with 3 or more logins."
   ]
  },
  {
   "cell_type": "code",
   "execution_count": 31,
   "metadata": {},
   "outputs": [
    {
     "data": {
      "image/png": "[encoded data removed]",
      "text/plain": [
       "<Figure size 432x288 with 1 Axes>"
      ]
     },
     "metadata": {
      "needs_background": "light"
     },
     "output_type": "display_data"
    }
   ],
   "source": [
    "fig, ax = plt.subplots()\n",
    "\n",
    "scatter = ax.scatter(table1_sub.time_to_second_login[table1_sub.adopted_user == 0],table1_sub.time_to_third_login[table1_sub.adopted_user == 0], label='non adopted users', alpha = 0.3)\n",
    "scatter = ax.scatter(table1_sub.time_to_second_login[table1_sub.adopted_user == 1],table1_sub.time_to_third_login[table1_sub.adopted_user == 1], label='adopted users', alpha = 0.3)\n",
    "ax.set_xlabel('Time to Second Login [Days]')\n",
    "ax.set_ylabel('Time to Third Login [Days]')\n",
    "ax.set_title('Adoption for Users with >2 Logins')\n",
    "legend1 = ax.legend(loc=\"upper right\")"
   ]
  },
  {
   "cell_type": "code",
   "execution_count": 32,
   "metadata": {},
   "outputs": [
    {
     "data": {
      "text/plain": [
       "<matplotlib.axes._subplots.AxesSubplot at 0x192faf79e88>"
      ]
     },
     "execution_count": 32,
     "metadata": {},
     "output_type": "execute_result"
    },
    {
     "data": {
      "image/png": "[encoded data removed]",
      "text/plain": [
       "<Figure size 432x288 with 2 Axes>"
      ]
     },
     "metadata": {
      "needs_background": "light"
     },
     "output_type": "display_data"
    }
   ],
   "source": [
    "# calculate correlation matrix and plot heatmaps\n",
    "X_labeled = X.join(table1.adopted_user)\n",
    "corrmat = X_labeled.corr()\n",
    "\n",
    "sns.heatmap(corrmat, vmax=1., square=True, cmap = 'coolwarm')"
   ]
  },
  {
   "cell_type": "markdown",
   "metadata": {},
   "source": [
    "Now let's try to use a logistic regression classifier to create a predictive model for user adoption. Let's focus on the group with at least 3 logins (1265 users)."
   ]
  },
  {
   "cell_type": "code",
   "execution_count": 33,
   "metadata": {},
   "outputs": [
    {
     "name": "stdout",
     "output_type": "stream",
     "text": [
      "<class 'pandas.core.frame.DataFrame'>\n",
      "RangeIndex: 12000 entries, 0 to 11999\n",
      "Data columns (total 8 columns):\n",
      " #   Column                       Non-Null Count  Dtype  \n",
      "---  ------                       --------------  -----  \n",
      " 0   opted_in_to_mailing_list     12000 non-null  int64  \n",
      " 1   enabled_for_marketing_drip   12000 non-null  int64  \n",
      " 2   time_to_second_login         5796 non-null   float64\n",
      " 3   time_to_third_login          1265 non-null   float64\n",
      " 4   creation_ORG_INVITE          12000 non-null  uint8  \n",
      " 5   creation_PERSONAL_PROJECTS   12000 non-null  uint8  \n",
      " 6   creation_SIGNUP              12000 non-null  uint8  \n",
      " 7   creation_SIGNUP_GOOGLE_AUTH  12000 non-null  uint8  \n",
      "dtypes: float64(2), int64(2), uint8(4)\n",
      "memory usage: 422.0 KB\n"
     ]
    }
   ],
   "source": [
    "X.info()"
   ]
  },
  {
   "cell_type": "code",
   "execution_count": 35,
   "metadata": {},
   "outputs": [
    {
     "name": "stdout",
     "output_type": "stream",
     "text": [
      "<class 'pandas.core.frame.DataFrame'>\n",
      "RangeIndex: 12000 entries, 0 to 11999\n",
      "Data columns (total 6 columns):\n",
      " #   Column                       Non-Null Count  Dtype\n",
      "---  ------                       --------------  -----\n",
      " 0   opted_in_to_mailing_list     12000 non-null  int64\n",
      " 1   enabled_for_marketing_drip   12000 non-null  int64\n",
      " 2   creation_ORG_INVITE          12000 non-null  uint8\n",
      " 3   creation_PERSONAL_PROJECTS   12000 non-null  uint8\n",
      " 4   creation_SIGNUP              12000 non-null  uint8\n",
      " 5   creation_SIGNUP_GOOGLE_AUTH  12000 non-null  uint8\n",
      "dtypes: int64(2), uint8(4)\n",
      "memory usage: 234.5 KB\n"
     ]
    }
   ],
   "source": [
    "#X = X[X.time_to_third_login.isnull() == False].drop('time_to_third_login', 'time_to_second_login', 'label',axis=1)\n",
    "X = X.drop(['time_to_third_login', 'time_to_second_login'],axis=1)\n",
    "X.info()\n",
    "\n",
    "#y = table1.adopted_user[table1.time_to_third_login.isnull() == False]\n"
   ]
  },
  {
   "cell_type": "code",
   "execution_count": 46,
   "metadata": {},
   "outputs": [],
   "source": [
    "from sklearn.model_selection import train_test_split\n",
    "X_train, X_test, y_train, y_test = train_test_split(X, y, test_size=0.25, random_state=42, stratify = y)"
   ]
  },
  {
   "cell_type": "code",
   "execution_count": 62,
   "metadata": {},
   "outputs": [
    {
     "name": "stdout",
     "output_type": "stream",
     "text": [
      "Fitting 5 folds for each of 16 candidates, totalling 80 fits\n"
     ]
    },
    {
     "name": "stderr",
     "output_type": "stream",
     "text": [
      "[Parallel(n_jobs=-1)]: Using backend LokyBackend with 8 concurrent workers.\n"
     ]
    },
    {
     "name": "stdout",
     "output_type": "stream",
     "text": [
      "Best Score: 0.8620\n",
      "Best Params:  {'C': 1e-10, 'penalty': 'l1', 'solver': 'liblinear'}\n"
     ]
    },
    {
     "name": "stderr",
     "output_type": "stream",
     "text": [
      "[Parallel(n_jobs=-1)]: Done  80 out of  80 | elapsed:    0.3s finished\n"
     ]
    }
   ],
   "source": [
    "from sklearn.linear_model import LogisticRegression\n",
    "from sklearn.model_selection import GridSearchCV\n",
    "from sklearn import metrics\n",
    "from sklearn.model_selection import StratifiedKFold\n",
    "\n",
    "# define default random state so that all future random actions will be repeatable\n",
    "random_state = np.random.RandomState(0)\n",
    "\n",
    "#initialize a logistic regression model\n",
    "logistic = LogisticRegression(random_state=random_state)\n",
    "\n",
    "# define hyperparameter options\n",
    "penalty = ['l1', 'l2']\n",
    "C = [0.0000000001, 0.00001, 0.01, 1]\n",
    "#class_weight = [{1:0.3, 0:0.7}, {1:0.5, 0:0.5}, {1:0.7, 0:0.3}]\n",
    "solver = ['liblinear', 'saga']\n",
    "\n",
    "param_grid = dict(penalty=penalty,\n",
    "                  C=C,\n",
    "                  #class_weight=class_weight,\n",
    "                  solver=solver)\n",
    "\n",
    "# scoring is F1 = 2 * (precision * recall) / (precision + recall)\n",
    "grid = GridSearchCV(estimator=logistic,\n",
    "                    param_grid=param_grid,\n",
    "                    scoring='accuracy',\n",
    "                    verbose=1,\n",
    "                    n_jobs=-1,\n",
    "                    cv = StratifiedKFold(n_splits=5, shuffle=True))\n",
    "\n",
    "grid_result = grid.fit(X_train, y_train)\n",
    "\n",
    "print('Best Score: ' '{0:0.4f}'.format(grid_result.best_score_))\n",
    "print('Best Params: ', grid_result.best_params_)"
   ]
  },
  {
   "cell_type": "code",
   "execution_count": 57,
   "metadata": {},
   "outputs": [],
   "source": [
    "from sklearn.metrics import average_precision_score\n",
    "\n",
    "model = grid_result.best_estimator_\n",
    "y_pred = model.predict(X_test)\n",
    "y_proba = model.predict_proba(X_test)"
   ]
  },
  {
   "cell_type": "code",
   "execution_count": 58,
   "metadata": {},
   "outputs": [],
   "source": [
    "# define function for creating labeled confusion matrix for multiclass identification\n",
    "def labeled_confusion_mat(true_vector, pred_vector, labels):\n",
    "    confusion_matrix_labeled = pd.DataFrame(confusion_matrix(true_vector, pred_vector))\n",
    "    confusion_matrix_labeled.columns = list(labels)\n",
    "    confusion_matrix_labeled.index = list(labels)\n",
    "    return confusion_matrix_labeled"
   ]
  },
  {
   "cell_type": "code",
   "execution_count": 59,
   "metadata": {},
   "outputs": [
    {
     "name": "stdout",
     "output_type": "stream",
     "text": [
      "Confusion matrix for LR model evaluation on test set:\n",
      "\n",
      "             Not Adopted  Adopted\n",
      "Not Adopted         2586        0\n",
      "Adopted              414        0\n",
      "\n",
      "Overall error rate is 0.14.\n",
      "False positive rate is 0.0.\n",
      "False negative rate is 1.0.\n",
      "\n",
      "\n",
      "Classification report for LR model evaluation on test set:\n",
      "\n",
      "              precision    recall  f1-score   support\n",
      "\n",
      " Not Adopted       0.86      1.00      0.93      2586\n",
      "     Adopted       0.00      0.00      0.00       414\n",
      "\n",
      "    accuracy                           0.86      3000\n",
      "   macro avg       0.43      0.50      0.46      3000\n",
      "weighted avg       0.74      0.86      0.80      3000\n",
      "\n"
     ]
    },
    {
     "name": "stderr",
     "output_type": "stream",
     "text": [
      "C:\\Users\\Niv\\Anaconda3\\envs\\tf_keras_gpu\\lib\\site-packages\\sklearn\\metrics\\_classification.py:1272: UndefinedMetricWarning: Precision and F-score are ill-defined and being set to 0.0 in labels with no predicted samples. Use `zero_division` parameter to control this behavior.\n",
      "  _warn_prf(average, modifier, msg_start, len(result))\n"
     ]
    }
   ],
   "source": [
    "from sklearn.metrics import confusion_matrix\n",
    "from sklearn.metrics import classification_report\n",
    "from sklearn.metrics import accuracy_score\n",
    "\n",
    "accuracy = accuracy_score(y_test, y_pred)\n",
    "error_rate = 1 - accuracy\n",
    "fp_rate = confusion_matrix(y_test, y_pred)[0][1] / (confusion_matrix(y_test, y_pred)[0][0] + confusion_matrix(y_test, y_pred)[0][1])\n",
    "fn_rate = confusion_matrix(y_test, y_pred)[1][0] / (confusion_matrix(y_test, y_pred)[1][0] + confusion_matrix(y_test, y_pred)[1][1])\n",
    "\n",
    "# print confusion matrix and classification report for model performance on test set\n",
    "labels = ['Not Adopted', 'Adopted']\n",
    "print('Confusion matrix for LR model evaluation on test set:\\n')\n",
    "print(labeled_confusion_mat(y_test, y_pred, labels))\n",
    "print(f'\\nOverall error rate is {round(error_rate,2)}.')\n",
    "print(f'False positive rate is {round(fp_rate,2)}.')\n",
    "print(f'False negative rate is {round(fn_rate,2)}.')\n",
    "print('\\n\\nClassification report for LR model evaluation on test set:\\n')\n",
    "print(classification_report(y_test, y_pred, target_names=labels))"
   ]
  },
  {
   "cell_type": "code",
   "execution_count": 51,
   "metadata": {},
   "outputs": [
    {
     "name": "stdout",
     "output_type": "stream",
     "text": [
      "Feature: 0, Score: 0.0525, opted_in_to_mailing_list\n",
      "Feature: 1, Score: -0.0156, enabled_for_marketing_drip\n",
      "Feature: 2, Score: -0.2531, creation_ORG_INVITE\n",
      "Feature: 3, Score: -0.8196, creation_PERSONAL_PROJECTS\n",
      "Feature: 4, Score: -0.2018, creation_SIGNUP\n",
      "Feature: 5, Score: 0.0000, creation_SIGNUP_GOOGLE_AUTH\n"
     ]
    },
    {
     "data": {
      "image/png": "[encoded data removed]",
      "text/plain": [
       "<Figure size 432x288 with 1 Axes>"
      ]
     },
     "metadata": {
      "needs_background": "light"
     },
     "output_type": "display_data"
    }
   ],
   "source": [
    "# get importance\n",
    "importance = model.coef_[0]\n",
    "# summarize feature importance\n",
    "for i,v in enumerate(importance):\n",
    "    print('Feature: %0d, Score: %.4f, ' % (i,v) + list(X.columns)[i])\n",
    "# plot feature importance\n",
    "plt.bar([x for x in range(len(importance))], importance)\n",
    "plt.xticks([x for x in range(len(importance))])\n",
    "plt.xlabel('Feature Number')\n",
    "plt.ylabel('LR Coefficient')\n",
    "plt.title('Feature Importance LR Model')\n",
    "plt.show()"
   ]
  },
  {
   "cell_type": "markdown",
   "metadata": {},
   "source": [
    "Although the above model only predicts the trivial case (no adopted users) and is therefore not effective as a classifier in itself, it does provide some idea of feature importance. The positive scores indicate a feature that predicts class 1 (adopted_user), whereas the negative scores indicate a feature that predicts class 0 (non-adopted user).\n",
    "\n",
    "It appears that the mailing list and marketing drip are far less important factors than the creation_source. Those with accounts created through the PERSONAL_PROJECTS source appeared to be the least likely to be adopted. This can be further confirmed by grouping the adopted users by creation_source and looking at the adopted users ratio (see below)."
   ]
  },
  {
   "cell_type": "code",
   "execution_count": 71,
   "metadata": {},
   "outputs": [
    {
     "name": "stdout",
     "output_type": "stream",
     "text": [
      "Adopted user ratio by creation source:\n"
     ]
    },
    {
     "data": {
      "text/plain": [
       "creation_source\n",
       "GUEST_INVITE          0.170596\n",
       "ORG_INVITE            0.134932\n",
       "PERSONAL_PROJECTS     0.081478\n",
       "SIGNUP                0.144705\n",
       "SIGNUP_GOOGLE_AUTH    0.172563\n",
       "Name: object_id, dtype: float64"
      ]
     },
     "execution_count": 71,
     "metadata": {},
     "output_type": "execute_result"
    }
   ],
   "source": [
    "# ratio of adopted users by creation_source\n",
    "print('Adopted user ratio by creation source:')\n",
    "table1[table1.adopted_user == 1].groupby('creation_source').object_id.count()/table1.groupby('creation_source').object_id.count()"
   ]
  },
  {
   "cell_type": "code",
   "execution_count": 84,
   "metadata": {},
   "outputs": [
    {
     "name": "stdout",
     "output_type": "stream",
     "text": [
      "Adopted user ratio for users opted in to mailing list: 0.04\n",
      "\n",
      "Adopted user ratio for users opted out of mailing list: 0.1\n"
     ]
    }
   ],
   "source": [
    "# ratio of adopted users by mailing list opted in or out\n",
    "ratio_opted_in = table1[(table1.adopted_user == 1) & (table1.opted_in_to_mailing_list == 1)].object_id.count()/table1.object_id.count()\n",
    "ratio_opted_out = table1[(table1.adopted_user == 1) & (table1.opted_in_to_mailing_list == 0)].object_id.count()/table1.object_id.count()\n",
    "print(f'Adopted user ratio for users opted in to mailing list: {round(ratio_opted_in,2)}')\n",
    "print(f'\\nAdopted user ratio for users opted out of mailing list: {round(ratio_opted_out,2)}')\n"
   ]
  },
  {
   "cell_type": "code",
   "execution_count": 85,
   "metadata": {},
   "outputs": [
    {
     "name": "stdout",
     "output_type": "stream",
     "text": [
      "Adopted user ratio for users enabled_for_marketing_drip: 0.02\n",
      "\n",
      "Adopted user ratio for users not enabled_for_marketing_drip: 0.12\n"
     ]
    }
   ],
   "source": [
    "# ratio of adopted users by enabled_for_marketing_drip\n",
    "ratio_enabled_marketing = table1[(table1.adopted_user == 1) & (table1.enabled_for_marketing_drip == 1)].object_id.count()/table1.object_id.count()\n",
    "ratio_not_enabled_marketing = table1[(table1.adopted_user == 1) & (table1.enabled_for_marketing_drip == 0)].object_id.count()/table1.object_id.count()\n",
    "print(f'Adopted user ratio for users enabled_for_marketing_drip: {round(ratio_enabled_marketing,2)}')\n",
    "print(f'\\nAdopted user ratio for users not enabled_for_marketing_drip: {round(ratio_not_enabled_marketing,2)}')"
   ]
  },
  {
   "cell_type": "code",
   "execution_count": 86,
   "metadata": {},
   "outputs": [
    {
     "name": "stdout",
     "output_type": "stream",
     "text": [
      "Adopted user ratio for users with second login who logged in 1 day or less after account creation: 0.08\n",
      "\n",
      "Adopted user ratio for users with second login who logged in > 1 days after account creation: 0.2\n"
     ]
    }
   ],
   "source": [
    "# ratio of adopted users who logged in for the second time 1 day or less after account creation\n",
    "ratio_1_day_second_login = table1[(table1.adopted_user == 1) & (table1.time_to_second_login <= 1)].object_id.count()/table1[table1.time_to_second_login > 0].object_id.count()\n",
    "ratio_not_1_day_second_login = table1[(table1.adopted_user == 1) & (table1.time_to_second_login > 1)].object_id.count()/table1[table1.time_to_second_login > 0].object_id.count()\n",
    "print(f'Adopted user ratio for users with second login who logged in 1 day or less after account creation: {round(ratio_1_day_second_login,2)}')\n",
    "print(f'\\nAdopted user ratio for users with second login who logged in > 1 days after account creation: {round(ratio_not_1_day_second_login,2)}')"
   ]
  },
  {
   "cell_type": "code",
   "execution_count": 87,
   "metadata": {},
   "outputs": [
    {
     "name": "stdout",
     "output_type": "stream",
     "text": [
      "Adopted user ratio for users with third login who logged in 1 day or less after second login: 0.05\n",
      "\n",
      "Adopted user ratio for users with third login who logged in > 1 days after second login: 0.58\n"
     ]
    }
   ],
   "source": [
    "# ratio of adopted users who logged in for the third time 1 day or less after second login\n",
    "ratio_1_day_second_login = table1[(table1.adopted_user == 1) & (table1.time_to_third_login <= 1)].object_id.count()/table1[table1.time_to_third_login > 0].object_id.count()\n",
    "ratio_not_1_day_second_login = table1[(table1.adopted_user == 1) & (table1.time_to_third_login > 1)].object_id.count()/table1[table1.time_to_third_login > 0].object_id.count()\n",
    "print(f'Adopted user ratio for users with third login who logged in 1 day or less after second login: {round(ratio_1_day_second_login,2)}')\n",
    "print(f'\\nAdopted user ratio for users with third login who logged in > 1 days after second login: {round(ratio_not_1_day_second_login,2)}')"
   ]
  },
  {
   "cell_type": "markdown",
   "metadata": {},
   "source": [
    "__Conclusions__\n",
    "\n",
    "Through some exploratory data analysis and basic modeling techniques, several observations about user adoption (3+ logins in any 7 day period) can be made:\n",
    "\n",
    "- Users logged into the mailing list and marketing drip are actually less likely to become adopted users. These avenues of customer retention should be rethought to be made more effective and/or less annoying to the users.\n",
    "- Users with accounts created through personal projects are those least likely to become adopted. \n",
    "- Adopted users were not very likely to login very quickly (1 day or less) after account creation or for the third time as well. Looks like adopted users are actually not necessarily those who have multiple logins the first few days after account creation. This may mean that assessing user adoption early on might not be the best strategy."
   ]
  }
 ],
 "metadata": {
  "kernelspec": {
   "display_name": "tf_keras_gpu",
   "language": "python",
   "name": "tf_keras_gpu"
  },
  "language_info": {
   "codemirror_mode": {
    "name": "ipython",
    "version": 3
   },
   "file_extension": ".py",
   "mimetype": "text/x-python",
   "name": "python",
   "nbconvert_exporter": "python",
   "pygments_lexer": "ipython3",
   "version": "3.7.6"
  }
 },
 "nbformat": 4,
 "nbformat_minor": 2
}
