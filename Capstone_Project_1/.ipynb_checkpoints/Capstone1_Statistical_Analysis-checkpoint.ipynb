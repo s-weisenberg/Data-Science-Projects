{
 "cells": [
  {
   "cell_type": "markdown",
   "metadata": {},
   "source": [
    "# __SpringBoard Capstone Project 1: Statistical Analysis__\n",
    "## __(Cervical Cancer Dataset)__\n",
    "\n",
    "__Written by: Sofy Weisenberg__<br>\n",
    "__Date: 01/13/19__\n"
   ]
  },
  {
   "cell_type": "markdown",
   "metadata": {},
   "source": [
    "__Step 1: Importing the Dataset and Data Preparation__<br>\n",
    "Import the original dataset and perform data wrangling steps to prepare data for analysis (for details on these steps, see: https://github.com/s-weisenberg/Springboard/blob/master/Capstone_Project_1/Capstone1_Data_Wrangling.ipynb)"
   ]
  },
  {
   "cell_type": "code",
   "execution_count": 1,
   "metadata": {},
   "outputs": [
    {
     "data": {
      "text/html": [
       "<div>\n",
       "<style scoped>\n",
       "    .dataframe tbody tr th:only-of-type {\n",
       "        vertical-align: middle;\n",
       "    }\n",
       "\n",
       "    .dataframe tbody tr th {\n",
       "        vertical-align: top;\n",
       "    }\n",
       "\n",
       "    .dataframe thead th {\n",
       "        text-align: right;\n",
       "    }\n",
       "</style>\n",
       "<table border=\"1\" class=\"dataframe\">\n",
       "  <thead>\n",
       "    <tr style=\"text-align: right;\">\n",
       "      <th></th>\n",
       "      <th>Age</th>\n",
       "      <th>Number of sexual partners</th>\n",
       "      <th>First sexual intercourse</th>\n",
       "      <th>Num of pregnancies</th>\n",
       "      <th>Smokes</th>\n",
       "      <th>Smokes (years)</th>\n",
       "      <th>Smokes (packs/year)</th>\n",
       "      <th>Hormonal Contraceptives</th>\n",
       "      <th>Hormonal Contraceptives (years)</th>\n",
       "      <th>IUD</th>\n",
       "      <th>...</th>\n",
       "      <th>STDs:HPV</th>\n",
       "      <th>STDs: Number of diagnosis</th>\n",
       "      <th>Dx:Cancer</th>\n",
       "      <th>Dx:CIN</th>\n",
       "      <th>Dx:HPV</th>\n",
       "      <th>Dx</th>\n",
       "      <th>Hinselmann</th>\n",
       "      <th>Schiller</th>\n",
       "      <th>Citology</th>\n",
       "      <th>Biopsy</th>\n",
       "    </tr>\n",
       "  </thead>\n",
       "  <tbody>\n",
       "    <tr>\n",
       "      <td>0</td>\n",
       "      <td>18</td>\n",
       "      <td>4.0</td>\n",
       "      <td>15.0</td>\n",
       "      <td>1.0</td>\n",
       "      <td>0.0</td>\n",
       "      <td>0.0</td>\n",
       "      <td>0.0</td>\n",
       "      <td>0.0</td>\n",
       "      <td>0.0</td>\n",
       "      <td>0.0</td>\n",
       "      <td>...</td>\n",
       "      <td>0.0</td>\n",
       "      <td>0</td>\n",
       "      <td>0</td>\n",
       "      <td>0</td>\n",
       "      <td>0</td>\n",
       "      <td>0</td>\n",
       "      <td>0</td>\n",
       "      <td>0</td>\n",
       "      <td>0</td>\n",
       "      <td>0</td>\n",
       "    </tr>\n",
       "    <tr>\n",
       "      <td>1</td>\n",
       "      <td>15</td>\n",
       "      <td>1.0</td>\n",
       "      <td>14.0</td>\n",
       "      <td>1.0</td>\n",
       "      <td>0.0</td>\n",
       "      <td>0.0</td>\n",
       "      <td>0.0</td>\n",
       "      <td>0.0</td>\n",
       "      <td>0.0</td>\n",
       "      <td>0.0</td>\n",
       "      <td>...</td>\n",
       "      <td>0.0</td>\n",
       "      <td>0</td>\n",
       "      <td>0</td>\n",
       "      <td>0</td>\n",
       "      <td>0</td>\n",
       "      <td>0</td>\n",
       "      <td>0</td>\n",
       "      <td>0</td>\n",
       "      <td>0</td>\n",
       "      <td>0</td>\n",
       "    </tr>\n",
       "    <tr>\n",
       "      <td>2</td>\n",
       "      <td>34</td>\n",
       "      <td>1.0</td>\n",
       "      <td>17.0</td>\n",
       "      <td>1.0</td>\n",
       "      <td>0.0</td>\n",
       "      <td>0.0</td>\n",
       "      <td>0.0</td>\n",
       "      <td>0.0</td>\n",
       "      <td>0.0</td>\n",
       "      <td>0.0</td>\n",
       "      <td>...</td>\n",
       "      <td>0.0</td>\n",
       "      <td>0</td>\n",
       "      <td>0</td>\n",
       "      <td>0</td>\n",
       "      <td>0</td>\n",
       "      <td>0</td>\n",
       "      <td>0</td>\n",
       "      <td>0</td>\n",
       "      <td>0</td>\n",
       "      <td>0</td>\n",
       "    </tr>\n",
       "    <tr>\n",
       "      <td>3</td>\n",
       "      <td>52</td>\n",
       "      <td>5.0</td>\n",
       "      <td>16.0</td>\n",
       "      <td>4.0</td>\n",
       "      <td>1.0</td>\n",
       "      <td>37.0</td>\n",
       "      <td>37.0</td>\n",
       "      <td>1.0</td>\n",
       "      <td>3.0</td>\n",
       "      <td>0.0</td>\n",
       "      <td>...</td>\n",
       "      <td>0.0</td>\n",
       "      <td>0</td>\n",
       "      <td>1</td>\n",
       "      <td>0</td>\n",
       "      <td>1</td>\n",
       "      <td>0</td>\n",
       "      <td>0</td>\n",
       "      <td>0</td>\n",
       "      <td>0</td>\n",
       "      <td>0</td>\n",
       "    </tr>\n",
       "    <tr>\n",
       "      <td>4</td>\n",
       "      <td>46</td>\n",
       "      <td>3.0</td>\n",
       "      <td>21.0</td>\n",
       "      <td>4.0</td>\n",
       "      <td>0.0</td>\n",
       "      <td>0.0</td>\n",
       "      <td>0.0</td>\n",
       "      <td>1.0</td>\n",
       "      <td>15.0</td>\n",
       "      <td>0.0</td>\n",
       "      <td>...</td>\n",
       "      <td>0.0</td>\n",
       "      <td>0</td>\n",
       "      <td>0</td>\n",
       "      <td>0</td>\n",
       "      <td>0</td>\n",
       "      <td>0</td>\n",
       "      <td>0</td>\n",
       "      <td>0</td>\n",
       "      <td>0</td>\n",
       "      <td>0</td>\n",
       "    </tr>\n",
       "  </tbody>\n",
       "</table>\n",
       "<p>5 rows × 34 columns</p>\n",
       "</div>"
      ],
      "text/plain": [
       "   Age  Number of sexual partners  First sexual intercourse  \\\n",
       "0   18                        4.0                      15.0   \n",
       "1   15                        1.0                      14.0   \n",
       "2   34                        1.0                      17.0   \n",
       "3   52                        5.0                      16.0   \n",
       "4   46                        3.0                      21.0   \n",
       "\n",
       "   Num of pregnancies  Smokes  Smokes (years)  Smokes (packs/year)  \\\n",
       "0                 1.0     0.0             0.0                  0.0   \n",
       "1                 1.0     0.0             0.0                  0.0   \n",
       "2                 1.0     0.0             0.0                  0.0   \n",
       "3                 4.0     1.0            37.0                 37.0   \n",
       "4                 4.0     0.0             0.0                  0.0   \n",
       "\n",
       "   Hormonal Contraceptives  Hormonal Contraceptives (years)  IUD  ...  \\\n",
       "0                      0.0                              0.0  0.0  ...   \n",
       "1                      0.0                              0.0  0.0  ...   \n",
       "2                      0.0                              0.0  0.0  ...   \n",
       "3                      1.0                              3.0  0.0  ...   \n",
       "4                      1.0                             15.0  0.0  ...   \n",
       "\n",
       "   STDs:HPV  STDs: Number of diagnosis  Dx:Cancer  Dx:CIN  Dx:HPV  Dx  \\\n",
       "0       0.0                          0          0       0       0   0   \n",
       "1       0.0                          0          0       0       0   0   \n",
       "2       0.0                          0          0       0       0   0   \n",
       "3       0.0                          0          1       0       1   0   \n",
       "4       0.0                          0          0       0       0   0   \n",
       "\n",
       "   Hinselmann  Schiller  Citology  Biopsy  \n",
       "0           0         0         0       0  \n",
       "1           0         0         0       0  \n",
       "2           0         0         0       0  \n",
       "3           0         0         0       0  \n",
       "4           0         0         0       0  \n",
       "\n",
       "[5 rows x 34 columns]"
      ]
     },
     "execution_count": 1,
     "metadata": {},
     "output_type": "execute_result"
    }
   ],
   "source": [
    "import numpy as np\n",
    "import pandas as pd\n",
    "import matplotlib.pyplot as plt\n",
    "import seaborn as sns\n",
    "import pymc3 as pm\n",
    "import theano.tensor as tt\n",
    "\n",
    "df = pd.read_csv('kag_risk_factors_cervical_cancer.csv')\n",
    "df = df.replace('?', np.nan)\n",
    "for column, values in df.iteritems():\n",
    "        df[column] = pd.to_numeric(df[column], errors='coerce')\n",
    "df = df.drop(['STDs: Time since first diagnosis','STDs: Time since last diagnosis'], axis=1)\n",
    "df = df.fillna(df.median())\n",
    "df.head()"
   ]
  },
  {
   "cell_type": "markdown",
   "metadata": {},
   "source": [
    "__Step 2: Statistical Hypothesis Testing__<br>\n",
    "Each of the 4 target variables is binary, and therefore its probabilistic relationship to other of the explanatory variables can be investigated (these may be either binary or continuous). One possible route of investigation splits the data into two subgroups and tests whether the proportion of positive target values is statistically significantly different in the two groups by using statistical hypothesis testing. For example:\n",
    "\n",
    "Is there a statistically significant difference between the proportion of positive target values in the following subgroups:\n",
    "\n",
    "- Hormonal contraceptives used < 5 years vs. Hormonal contraceptives used > 5 years\n",
    "- IUD used < 1 years vs. IUD used > 1 years\n",
    "- No history of STDs (STDs (number) = 0) vs. History of STDs (STDs (number) > 0)\n",
    "- Smoker vs. Non-smoker\n"
   ]
  },
  {
   "cell_type": "code",
   "execution_count": 2,
   "metadata": {},
   "outputs": [
    {
     "data": {
      "text/plain": [
       "(710, 114)"
      ]
     },
     "execution_count": 2,
     "metadata": {},
     "output_type": "execute_result"
    }
   ],
   "source": [
    "# for example, using the criterion [hormonal contraceptives used < 5 years vs. > 5 years] to split the data\n",
    "\n",
    "group_a = df.loc[df['Hormonal Contraceptives (years)'] < 5]\n",
    "group_b = df.loc[df['Hormonal Contraceptives (years)'] > 5]\n",
    "\n",
    "# split the group into the following sample sizes\n",
    "n_a = len(group_a)\n",
    "n_b = len(group_b)\n",
    "\n",
    "n_a, n_b"
   ]
  },
  {
   "cell_type": "code",
   "execution_count": 3,
   "metadata": {},
   "outputs": [
    {
     "data": {
      "text/plain": [
       "(0.059154929577464786, 0.11403508771929824)"
      ]
     },
     "execution_count": 3,
     "metadata": {},
     "output_type": "execute_result"
    }
   ],
   "source": [
    "p_a = group_a.loc[df['Biopsy'] == 1].shape[0]/group_a.shape[0]\n",
    "p_b = group_b.loc[df['Biopsy'] == 1].shape[0]/group_b.shape[0]\n",
    "\n",
    "# calculate the proportion of positive target values in the each subgroup\n",
    "p_a, p_b"
   ]
  },
  {
   "cell_type": "markdown",
   "metadata": {},
   "source": [
    "Defining the following hypothesis test:\n",
    "\n",
    "Ho: p(Biopsy=1|B) - p(Biopsy=1|A) = 0 \n",
    "Ha: p(Biopsy=1|B) - p(Biopsy=1|A) > 0\n",
    "\n",
    "Level of significance to be tested alpha = 0.05 (95% confidence).\n",
    "\n",
    "Assumptions for a two-proportion z-test (https://stattrek.com/hypothesis-test/difference-in-proportions.aspx):\n",
    "- The sampling method for each population is simple random sampling.\n",
    "- The samples are independent.\n",
    "- Each sample includes at least 10 successes and 10 failures.\n",
    "- Each population is at least 20 times as big as its sample."
   ]
  },
  {
   "cell_type": "code",
   "execution_count": 4,
   "metadata": {},
   "outputs": [
    {
     "data": {
      "text/plain": [
       "0.014654875941824632"
      ]
     },
     "execution_count": 4,
     "metadata": {},
     "output_type": "execute_result"
    }
   ],
   "source": [
    "# perform a two-proportion z-test (one-tailed)\n",
    "import scipy.stats as st\n",
    "\n",
    "p = (p_a * n_a + p_b * n_b)/(n_a + n_b)\n",
    "SE = np.sqrt(p*(1 - p)*(1/n_a + 1/n_b))\n",
    "z_score = (p_a - p_b)/SE\n",
    "\n",
    "p_value = st.norm.sf(abs(z_score))\n",
    "p_value"
   ]
  },
  {
   "cell_type": "markdown",
   "metadata": {},
   "source": [
    "Since p_value < 0.05, the null hypothesis may be rejected with 95% confidence. This means that the proportions of positive Biopsy are statistically significantly different in the groups hormonal contraceptives used < 5 years vs. > 5 years."
   ]
  },
  {
   "cell_type": "code",
   "execution_count": 5,
   "metadata": {},
   "outputs": [
    {
     "data": {
      "text/plain": [
       "(0.018013328518323952, 786, 64, 0.058524173027989825, 0.125)"
      ]
     },
     "execution_count": 5,
     "metadata": {},
     "output_type": "execute_result"
    }
   ],
   "source": [
    "# for comparison, using the criterion [IUD used < 1 years vs. > 1 years] to split the data\n",
    "\n",
    "group_a = df.loc[df['IUD (years)'] < 1]\n",
    "group_b = df.loc[df['IUD (years)'] > 1]\n",
    "\n",
    "# split the group into the following sample sizes\n",
    "n_a = len(group_a)\n",
    "n_b = len(group_b)\n",
    "\n",
    "p_a = group_a.loc[df['Biopsy'] == 1].shape[0]/group_a.shape[0]\n",
    "p_b = group_b.loc[df['Biopsy'] == 1].shape[0]/group_b.shape[0]\n",
    "\n",
    "p = (p_a * n_a + p_b * n_b)/(n_a + n_b)\n",
    "SE = np.sqrt(p*(1 - p)*(1/n_a + 1/n_b))\n",
    "z_score = (p_a - p_b)/SE\n",
    "\n",
    "p_value = st.norm.sf(abs(z_score))\n",
    "p_value, n_a, n_b, p_a, p_b"
   ]
  },
  {
   "cell_type": "markdown",
   "metadata": {},
   "source": [
    "Since p_value < 0.05, the null hypothesis may be rejected with 95% confidence. This means that the proportions of positive Biopsy are statistically significantly different in the groups IUD used < 1 year vs. > 1 year."
   ]
  },
  {
   "cell_type": "code",
   "execution_count": 6,
   "metadata": {},
   "outputs": [
    {
     "data": {
      "text/plain": [
       "(0.0004135186729015781, 779, 79, 0.055198973042362, 0.1518987341772152)"
      ]
     },
     "execution_count": 6,
     "metadata": {},
     "output_type": "execute_result"
    }
   ],
   "source": [
    "# using the criterion [STDs (number) = 0 vs. >0] to split the data\n",
    "\n",
    "group_a = df.loc[df['STDs (number)'] == 0]\n",
    "group_b = df.loc[df['STDs (number)'] > 0]\n",
    "\n",
    "# split the group into the following sample sizes\n",
    "n_a = len(group_a)\n",
    "n_b = len(group_b)\n",
    "\n",
    "p_a = group_a.loc[df['Biopsy'] == 1].shape[0]/group_a.shape[0]\n",
    "p_b = group_b.loc[df['Biopsy'] == 1].shape[0]/group_b.shape[0]\n",
    "\n",
    "p = (p_a * n_a + p_b * n_b)/(n_a + n_b)\n",
    "SE = np.sqrt(p*(1 - p)*(1/n_a + 1/n_b))\n",
    "z_score = (p_a - p_b)/SE\n",
    "\n",
    "p_value = st.norm.sf(abs(z_score))\n",
    "p_value, n_a, n_b, p_a, p_b"
   ]
  },
  {
   "cell_type": "code",
   "execution_count": 7,
   "metadata": {},
   "outputs": [
    {
     "data": {
      "text/plain": [
       "(0.200071478187896, 735, 123, 0.061224489795918366, 0.08130081300813008)"
      ]
     },
     "execution_count": 7,
     "metadata": {},
     "output_type": "execute_result"
    }
   ],
   "source": [
    "# using the criterion [Smokes vs. Does not smoke] to split the data\n",
    "\n",
    "group_a = df.loc[df['Smokes'] == 0]\n",
    "group_b = df.loc[df['Smokes'] == 1]\n",
    "\n",
    "# split the group into the following sample sizes\n",
    "n_a = len(group_a)\n",
    "n_b = len(group_b)\n",
    "\n",
    "p_a = group_a.loc[df['Biopsy'] == 1].shape[0]/group_a.shape[0]\n",
    "p_b = group_b.loc[df['Biopsy'] == 1].shape[0]/group_b.shape[0]\n",
    "\n",
    "p = (p_a * n_a + p_b * n_b)/(n_a + n_b)\n",
    "SE = np.sqrt(p*(1 - p)*(1/n_a + 1/n_b))\n",
    "z_score = (p_a - p_b)/SE\n",
    "\n",
    "p_value = st.norm.sf(abs(z_score))\n",
    "p_value, n_a, n_b, p_a, p_b"
   ]
  },
  {
   "cell_type": "markdown",
   "metadata": {},
   "source": [
    "Another test for testing dependence between 2 variables is the chi-squared test. First we must build a contingency table between two variables, for example Biopsy and Dx:Cancer:"
   ]
  },
  {
   "cell_type": "code",
   "execution_count": 8,
   "metadata": {},
   "outputs": [
    {
     "data": {
      "text/html": [
       "<div>\n",
       "<style scoped>\n",
       "    .dataframe tbody tr th:only-of-type {\n",
       "        vertical-align: middle;\n",
       "    }\n",
       "\n",
       "    .dataframe tbody tr th {\n",
       "        vertical-align: top;\n",
       "    }\n",
       "\n",
       "    .dataframe thead th {\n",
       "        text-align: right;\n",
       "    }\n",
       "</style>\n",
       "<table border=\"1\" class=\"dataframe\">\n",
       "  <thead>\n",
       "    <tr style=\"text-align: right;\">\n",
       "      <th>Biopsy</th>\n",
       "      <th>0</th>\n",
       "      <th>1</th>\n",
       "    </tr>\n",
       "    <tr>\n",
       "      <th>Dx:Cancer</th>\n",
       "      <th></th>\n",
       "      <th></th>\n",
       "    </tr>\n",
       "  </thead>\n",
       "  <tbody>\n",
       "    <tr>\n",
       "      <td>0</td>\n",
       "      <td>791</td>\n",
       "      <td>49</td>\n",
       "    </tr>\n",
       "    <tr>\n",
       "      <td>1</td>\n",
       "      <td>12</td>\n",
       "      <td>6</td>\n",
       "    </tr>\n",
       "  </tbody>\n",
       "</table>\n",
       "</div>"
      ],
      "text/plain": [
       "Biopsy       0   1\n",
       "Dx:Cancer         \n",
       "0          791  49\n",
       "1           12   6"
      ]
     },
     "execution_count": 8,
     "metadata": {},
     "output_type": "execute_result"
    }
   ],
   "source": [
    "pd.crosstab(df['Dx:Cancer'],df['Biopsy'])"
   ]
  },
  {
   "cell_type": "code",
   "execution_count": 9,
   "metadata": {},
   "outputs": [
    {
     "name": "stdout",
     "output_type": "stream",
     "text": [
      "Chi-squared stat=17.867, p=0.000\n",
      "Probably dependent\n"
     ]
    }
   ],
   "source": [
    "# Example of the Chi-Squared Test\n",
    "from scipy.stats import chi2_contingency\n",
    "table = pd.crosstab(df['Dx:Cancer'],df['Biopsy'])\n",
    "stat, p, dof, expected = chi2_contingency(table)\n",
    "print('Chi-squared stat=%.3f, p=%.3f' % (stat, p))\n",
    "if p > 0.05:\n",
    "    print('Probably independent')\n",
    "else:\n",
    "    print('Probably dependent')"
   ]
  },
  {
   "cell_type": "markdown",
   "metadata": {},
   "source": [
    "__Step 3: Statistical Inference for Continuous Variable__\n",
    "\n",
    "Can a statistical inference model be applied to any of the explanatory variables?\n",
    "- for example, given number of years of hormonal contraceptive use, what is the target variable probability of being positive?\n",
    "\n",
    "see example of credible interval prediction (Bayesian inference) along a continuous variable for predicting a binary outcome:\n",
    "https://nbviewer.jupyter.org/github/CamDavidsonPilon/Probabilistic-Programming-and-Bayesian-Methods-for-Hackers/blob/master/Chapter2_MorePyMC/Ch2_MorePyMC_PyMC3.ipynb\n",
    "\n",
    "First, let's see the scatter plots for these binary target variables and select one to use as an example for building a Bayesian inference model."
   ]
  },
  {
   "cell_type": "code",
   "execution_count": 10,
   "metadata": {},
   "outputs": [
    {
     "data": {
      "image/png": "[encoded data removed]",
      "text/plain": [
       "<Figure size 1080x864 with 4 Axes>"
      ]
     },
     "metadata": {
      "needs_background": "light"
     },
     "output_type": "display_data"
    }
   ],
   "source": [
    "fig, ax = plt.subplots(figsize=(15,12))\n",
    "ax = plt.subplots_adjust(wspace = 0.5, hspace = 0.5)\n",
    "ax = plt.subplot(2,2,1)\n",
    "ax = plt.scatter(df['Hormonal Contraceptives (years)'], df['Biopsy'], alpha = 0.3)\n",
    "ax = plt.xlabel(\"Hormonal Contraceptives (years)\")\n",
    "ax = plt.ylabel(\"Biopsy\")\n",
    "\n",
    "ax = plt.subplot(2,2,2)\n",
    "ax = plt.scatter(df['Hormonal Contraceptives (years)'], df['Schiller'], alpha = 0.3)\n",
    "ax = plt.xlabel(\"Hormonal Contraceptives (years)\")\n",
    "ax = plt.ylabel(\"Schiller\")\n",
    "\n",
    "ax = plt.subplot(2,2,3)\n",
    "ax = plt.scatter(df['Hormonal Contraceptives (years)'], df['Hinselmann'], alpha = 0.3)\n",
    "ax = plt.xlabel(\"Hormonal Contraceptives (years)\")\n",
    "ax = plt.ylabel(\"Hinselmann\")\n",
    "\n",
    "ax = plt.subplot(2,2,4)\n",
    "ax = plt.scatter(df['Hormonal Contraceptives (years)'], df['Citology'], alpha = 0.3)\n",
    "ax = plt.xlabel(\"Hormonal Contraceptives (years)\")\n",
    "ax = plt.ylabel(\"Citology\")\n"
   ]
  },
  {
   "cell_type": "code",
   "execution_count": 11,
   "metadata": {},
   "outputs": [
    {
     "name": "stderr",
     "output_type": "stream",
     "text": [
      "C:\\Users\\Niv\\Anaconda3\\lib\\site-packages\\pymc3\\tuning\\starting.py:61: UserWarning: find_MAP should not be used to initialize the NUTS sampler, simply call pymc3.sample() and it will automatically initialize NUTS in a better way.\n",
      "  warnings.warn('find_MAP should not be used to initialize the NUTS sampler, simply call pymc3.sample() and it will automatically initialize NUTS in a better way.')\n",
      "logp = -210.08, ||grad|| = 1.5965: 100%|█████████████████████████████████████████████| 16/16 [00:00<00:00, 1608.13it/s]\n",
      "Multiprocess sampling (4 chains in 4 jobs)\n",
      "CompoundStep\n",
      ">Metropolis: [alpha]\n",
      ">Metropolis: [beta]\n",
      "Sampling 4 chains: 100%|██████████████████████████████████████████████████| 482000/482000 [03:20<00:00, 2404.42draws/s]\n",
      "The number of effective samples is smaller than 10% for some parameters.\n"
     ]
    }
   ],
   "source": [
    "# for example, selecting the Biopsy target variable\n",
    "x_data = df['Hormonal Contraceptives (years)']\n",
    "y_data = df['Biopsy'] \n",
    "\n",
    "with pm.Model() as model:\n",
    "    beta = pm.Normal(\"beta\", mu=0, tau=0.001, testval=0)\n",
    "    alpha = pm.Normal(\"alpha\", mu=0, tau=0.001, testval=0)\n",
    "    p = pm.Deterministic(\"p\", 1.0/(1. + tt.exp(beta*x_data + alpha)))\n",
    "    observed = pm.Bernoulli(\"bernoulli_obs\", p, observed=y_data)\n",
    "    \n",
    "    start = pm.find_MAP()\n",
    "    step = pm.Metropolis()\n",
    "    trace = pm.sample(120000, step=step, start=start)\n",
    "    burned_trace = trace[100000::2]"
   ]
  },
  {
   "cell_type": "code",
   "execution_count": 12,
   "metadata": {},
   "outputs": [
    {
     "data": {
      "image/png": "[encoded data removed]",
      "text/plain": [
       "<Figure size 432x288 with 2 Axes>"
      ]
     },
     "metadata": {
      "needs_background": "light"
     },
     "output_type": "display_data"
    }
   ],
   "source": [
    "alpha_samples = burned_trace[\"alpha\"][:, None]  # best to make them 1d\n",
    "beta_samples = burned_trace[\"beta\"][:, None]\n",
    "\n",
    "# histogram of the samples:\n",
    "plt.subplot(211)\n",
    "plt.title(r\"Posterior distributions of the variables $\\alpha, \\beta$\")\n",
    "plt.hist(beta_samples, histtype='stepfilled', bins=35, alpha=0.85,\n",
    "         label=r\"posterior of $\\beta$\", color=\"#7A68A6\", density=True)\n",
    "plt.legend()\n",
    "\n",
    "plt.subplot(212)\n",
    "plt.hist(alpha_samples, histtype='stepfilled', bins=35, alpha=0.85,\n",
    "         label=r\"posterior of $\\alpha$\", color=\"#A60628\", density=True)\n",
    "plt.legend();"
   ]
  },
  {
   "cell_type": "code",
   "execution_count": 13,
   "metadata": {},
   "outputs": [],
   "source": [
    "def logistic(x, beta, alpha=0):\n",
    "    return 1.0 / (1.0 + np.exp(np.dot(beta, x) + alpha))\n",
    "\n",
    "t = np.linspace(0, x_data.max()+5, 50)[:, None]\n",
    "p_t = logistic(t.T, beta_samples, alpha_samples)\n",
    "\n",
    "mean_prob_t = p_t.mean(axis=0)"
   ]
  },
  {
   "cell_type": "code",
   "execution_count": 14,
   "metadata": {},
   "outputs": [
    {
     "data": {
      "text/plain": [
       "Text(0.5, 1.0, 'Posterior probability estimates given Hormonal Contracptives [years]')"
      ]
     },
     "execution_count": 14,
     "metadata": {},
     "output_type": "execute_result"
    },
    {
     "data": {
      "image/png": "[encoded data removed]",
      "text/plain": [
       "<Figure size 432x288 with 1 Axes>"
      ]
     },
     "metadata": {
      "needs_background": "light"
     },
     "output_type": "display_data"
    }
   ],
   "source": [
    "from scipy.stats.mstats import mquantiles\n",
    "\n",
    "# vectorized bottom and top 2.5% quantiles for \"credible interval\"\n",
    "qs = mquantiles(p_t, [0.025, 0.975], axis=0)\n",
    "plt.fill_between(t[:, 0], *qs, alpha=0.7,\n",
    "                 color=\"#7A68A6\")\n",
    "\n",
    "plt.plot(t[:, 0], qs[0], label=\"95% Credible Interval\", color=\"#7A68A6\", alpha=0.7)\n",
    "\n",
    "plt.plot(t, mean_prob_t, lw=1, ls=\"--\", color=\"k\",\n",
    "         label=\"average posterior \\nprobability of positive Biopsy\")\n",
    "\n",
    "plt.xlim(t.min(), t.max())\n",
    "plt.ylim(-0.02, 1.02)\n",
    "plt.legend(loc=\"upper right\")\n",
    "plt.scatter(x_data, y_data, color=\"k\", s=50, alpha=0.5)\n",
    "plt.xlabel(\"Hormonal Contracptives [years]\")\n",
    "plt.ylabel(\"Biopsy: Probability estimate\")\n",
    "plt.title(\"Posterior probability estimates given Hormonal Contracptives [years]\")"
   ]
  },
  {
   "cell_type": "markdown",
   "metadata": {},
   "source": [
    "Unfortunately, this does not appear to be a very useful model for this data. It does not give much insight into if there exists an inflection point for which hormonal contraceptive use significantly increases the risk for positive Biopsy. Perhaps another model would be more useful to find such a point?\n",
    "\n",
    "Also, at some point the credible interval becomes so wide that the predictive power of the model is really insignificant."
   ]
  }
 ],
 "metadata": {
  "kernelspec": {
   "display_name": "Python 3",
   "language": "python",
   "name": "python3"
  },
  "language_info": {
   "codemirror_mode": {
    "name": "ipython",
    "version": 3
   },
   "file_extension": ".py",
   "mimetype": "text/x-python",
   "name": "python",
   "nbconvert_exporter": "python",
   "pygments_lexer": "ipython3",
   "version": "3.7.4"
  }
 },
 "nbformat": 4,
 "nbformat_minor": 2
}
