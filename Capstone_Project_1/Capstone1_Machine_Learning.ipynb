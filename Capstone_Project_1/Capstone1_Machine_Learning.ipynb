{
 "cells": [
  {
   "cell_type": "markdown",
   "metadata": {},
   "source": [
    "# __SpringBoard Capstone Project 1: Machine Learning__\n",
    "## __(Cervical Cancer Dataset)__\n",
    "\n",
    "__Written by: Sofy Weisenberg__<br>\n",
    "__Date: 02/18/20__\n"
   ]
  },
  {
   "cell_type": "markdown",
   "metadata": {},
   "source": [
    "__Step 1: Importing the Dataset and Data Preparation__<br>\n",
    "Import the original dataset and perform data wrangling steps to prepare data for analysis (for details on these steps, see: https://github.com/s-weisenberg/Springboard/blob/master/Capstone_Project_1/Capstone1_Data_Wrangling.ipynb)"
   ]
  },
  {
   "cell_type": "code",
   "execution_count": 1,
   "metadata": {},
   "outputs": [
    {
     "data": {
      "text/html": [
       "<div>\n",
       "<style scoped>\n",
       "    .dataframe tbody tr th:only-of-type {\n",
       "        vertical-align: middle;\n",
       "    }\n",
       "\n",
       "    .dataframe tbody tr th {\n",
       "        vertical-align: top;\n",
       "    }\n",
       "\n",
       "    .dataframe thead th {\n",
       "        text-align: right;\n",
       "    }\n",
       "</style>\n",
       "<table border=\"1\" class=\"dataframe\">\n",
       "  <thead>\n",
       "    <tr style=\"text-align: right;\">\n",
       "      <th></th>\n",
       "      <th>Age</th>\n",
       "      <th>Number of sexual partners</th>\n",
       "      <th>First sexual intercourse</th>\n",
       "      <th>Num of pregnancies</th>\n",
       "      <th>Smokes</th>\n",
       "      <th>Smokes (years)</th>\n",
       "      <th>Smokes (packs/year)</th>\n",
       "      <th>Hormonal Contraceptives</th>\n",
       "      <th>Hormonal Contraceptives (years)</th>\n",
       "      <th>IUD</th>\n",
       "      <th>...</th>\n",
       "      <th>STDs:HPV</th>\n",
       "      <th>STDs: Number of diagnosis</th>\n",
       "      <th>Dx:Cancer</th>\n",
       "      <th>Dx:CIN</th>\n",
       "      <th>Dx:HPV</th>\n",
       "      <th>Dx</th>\n",
       "      <th>Hinselmann</th>\n",
       "      <th>Schiller</th>\n",
       "      <th>Citology</th>\n",
       "      <th>Biopsy</th>\n",
       "    </tr>\n",
       "  </thead>\n",
       "  <tbody>\n",
       "    <tr>\n",
       "      <th>0</th>\n",
       "      <td>18</td>\n",
       "      <td>4.0</td>\n",
       "      <td>15.0</td>\n",
       "      <td>1.0</td>\n",
       "      <td>0.0</td>\n",
       "      <td>0.0</td>\n",
       "      <td>0.0</td>\n",
       "      <td>0.0</td>\n",
       "      <td>0.0</td>\n",
       "      <td>0.0</td>\n",
       "      <td>...</td>\n",
       "      <td>0.0</td>\n",
       "      <td>0</td>\n",
       "      <td>0</td>\n",
       "      <td>0</td>\n",
       "      <td>0</td>\n",
       "      <td>0</td>\n",
       "      <td>0</td>\n",
       "      <td>0</td>\n",
       "      <td>0</td>\n",
       "      <td>0</td>\n",
       "    </tr>\n",
       "    <tr>\n",
       "      <th>1</th>\n",
       "      <td>15</td>\n",
       "      <td>1.0</td>\n",
       "      <td>14.0</td>\n",
       "      <td>1.0</td>\n",
       "      <td>0.0</td>\n",
       "      <td>0.0</td>\n",
       "      <td>0.0</td>\n",
       "      <td>0.0</td>\n",
       "      <td>0.0</td>\n",
       "      <td>0.0</td>\n",
       "      <td>...</td>\n",
       "      <td>0.0</td>\n",
       "      <td>0</td>\n",
       "      <td>0</td>\n",
       "      <td>0</td>\n",
       "      <td>0</td>\n",
       "      <td>0</td>\n",
       "      <td>0</td>\n",
       "      <td>0</td>\n",
       "      <td>0</td>\n",
       "      <td>0</td>\n",
       "    </tr>\n",
       "    <tr>\n",
       "      <th>2</th>\n",
       "      <td>34</td>\n",
       "      <td>1.0</td>\n",
       "      <td>17.0</td>\n",
       "      <td>1.0</td>\n",
       "      <td>0.0</td>\n",
       "      <td>0.0</td>\n",
       "      <td>0.0</td>\n",
       "      <td>0.0</td>\n",
       "      <td>0.0</td>\n",
       "      <td>0.0</td>\n",
       "      <td>...</td>\n",
       "      <td>0.0</td>\n",
       "      <td>0</td>\n",
       "      <td>0</td>\n",
       "      <td>0</td>\n",
       "      <td>0</td>\n",
       "      <td>0</td>\n",
       "      <td>0</td>\n",
       "      <td>0</td>\n",
       "      <td>0</td>\n",
       "      <td>0</td>\n",
       "    </tr>\n",
       "    <tr>\n",
       "      <th>3</th>\n",
       "      <td>52</td>\n",
       "      <td>5.0</td>\n",
       "      <td>16.0</td>\n",
       "      <td>4.0</td>\n",
       "      <td>1.0</td>\n",
       "      <td>37.0</td>\n",
       "      <td>37.0</td>\n",
       "      <td>1.0</td>\n",
       "      <td>3.0</td>\n",
       "      <td>0.0</td>\n",
       "      <td>...</td>\n",
       "      <td>0.0</td>\n",
       "      <td>0</td>\n",
       "      <td>1</td>\n",
       "      <td>0</td>\n",
       "      <td>1</td>\n",
       "      <td>0</td>\n",
       "      <td>0</td>\n",
       "      <td>0</td>\n",
       "      <td>0</td>\n",
       "      <td>0</td>\n",
       "    </tr>\n",
       "    <tr>\n",
       "      <th>4</th>\n",
       "      <td>46</td>\n",
       "      <td>3.0</td>\n",
       "      <td>21.0</td>\n",
       "      <td>4.0</td>\n",
       "      <td>0.0</td>\n",
       "      <td>0.0</td>\n",
       "      <td>0.0</td>\n",
       "      <td>1.0</td>\n",
       "      <td>15.0</td>\n",
       "      <td>0.0</td>\n",
       "      <td>...</td>\n",
       "      <td>0.0</td>\n",
       "      <td>0</td>\n",
       "      <td>0</td>\n",
       "      <td>0</td>\n",
       "      <td>0</td>\n",
       "      <td>0</td>\n",
       "      <td>0</td>\n",
       "      <td>0</td>\n",
       "      <td>0</td>\n",
       "      <td>0</td>\n",
       "    </tr>\n",
       "  </tbody>\n",
       "</table>\n",
       "<p>5 rows × 34 columns</p>\n",
       "</div>"
      ],
      "text/plain": [
       "   Age  Number of sexual partners  First sexual intercourse  \\\n",
       "0   18                        4.0                      15.0   \n",
       "1   15                        1.0                      14.0   \n",
       "2   34                        1.0                      17.0   \n",
       "3   52                        5.0                      16.0   \n",
       "4   46                        3.0                      21.0   \n",
       "\n",
       "   Num of pregnancies  Smokes  Smokes (years)  Smokes (packs/year)  \\\n",
       "0                 1.0     0.0             0.0                  0.0   \n",
       "1                 1.0     0.0             0.0                  0.0   \n",
       "2                 1.0     0.0             0.0                  0.0   \n",
       "3                 4.0     1.0            37.0                 37.0   \n",
       "4                 4.0     0.0             0.0                  0.0   \n",
       "\n",
       "   Hormonal Contraceptives  Hormonal Contraceptives (years)  IUD  ...  \\\n",
       "0                      0.0                              0.0  0.0  ...   \n",
       "1                      0.0                              0.0  0.0  ...   \n",
       "2                      0.0                              0.0  0.0  ...   \n",
       "3                      1.0                              3.0  0.0  ...   \n",
       "4                      1.0                             15.0  0.0  ...   \n",
       "\n",
       "   STDs:HPV  STDs: Number of diagnosis  Dx:Cancer  Dx:CIN  Dx:HPV  Dx  \\\n",
       "0       0.0                          0          0       0       0   0   \n",
       "1       0.0                          0          0       0       0   0   \n",
       "2       0.0                          0          0       0       0   0   \n",
       "3       0.0                          0          1       0       1   0   \n",
       "4       0.0                          0          0       0       0   0   \n",
       "\n",
       "   Hinselmann  Schiller  Citology  Biopsy  \n",
       "0           0         0         0       0  \n",
       "1           0         0         0       0  \n",
       "2           0         0         0       0  \n",
       "3           0         0         0       0  \n",
       "4           0         0         0       0  \n",
       "\n",
       "[5 rows x 34 columns]"
      ]
     },
     "execution_count": 1,
     "metadata": {},
     "output_type": "execute_result"
    }
   ],
   "source": [
    "import numpy as np\n",
    "import pandas as pd\n",
    "import matplotlib.pyplot as plt\n",
    "\n",
    "df = pd.read_csv('kag_risk_factors_cervical_cancer.csv')\n",
    "df = df.replace('?', np.nan)\n",
    "for column, values in df.iteritems():\n",
    "        df[column] = pd.to_numeric(df[column], errors='coerce')\n",
    "df = df.drop(['STDs: Time since first diagnosis','STDs: Time since last diagnosis'], axis=1)\n",
    "df = df.fillna(df.median())\n",
    "df.head()"
   ]
  },
  {
   "cell_type": "markdown",
   "metadata": {},
   "source": [
    "__Step 2: Normalizing and Splitting the Data__<br>\n",
    "For many of the machine learning algorithms to be implemented here, scaling the data is an important preprocessing step. Many of the variables, including the target y, are already in the [0,1] range. However, several require normalization to this range. This helps improve classification decisions that are based on the Euclidean distance between observations.\n",
    "\n",
    "The dataframe also needs to be split into the feature and target data and some data must be set aside for model validation."
   ]
  },
  {
   "cell_type": "code",
   "execution_count": 2,
   "metadata": {},
   "outputs": [],
   "source": [
    "from sklearn.model_selection import train_test_split\n",
    "from sklearn.preprocessing import MinMaxScaler\n",
    "\n",
    "# define default random state so that all future random actions will be repeatable\n",
    "random_state = np.random.RandomState(0)\n",
    "\n",
    "# define scaler, default feature_range=(0, 1)\n",
    "scaler = MinMaxScaler()\n",
    "\n",
    "# split the data into features and target \n",
    "X = df.drop(['Biopsy'],axis=1)\n",
    "y = df['Biopsy']\n",
    "\n",
    "# fit and transform scaler in one step for X, y is already normalized\n",
    "X_normalized = scaler.fit_transform(X)\n",
    "\n",
    "# perform stratified test-train split to hold off 25% of normalized data for model validation\n",
    "X_train, X_test, y_train, y_test = train_test_split(X_normalized, y, test_size=0.25, stratify=y, random_state=random_state)"
   ]
  },
  {
   "cell_type": "code",
   "execution_count": 3,
   "metadata": {},
   "outputs": [
    {
     "data": {
      "text/html": [
       "<div>\n",
       "<style scoped>\n",
       "    .dataframe tbody tr th:only-of-type {\n",
       "        vertical-align: middle;\n",
       "    }\n",
       "\n",
       "    .dataframe tbody tr th {\n",
       "        vertical-align: top;\n",
       "    }\n",
       "\n",
       "    .dataframe thead th {\n",
       "        text-align: right;\n",
       "    }\n",
       "</style>\n",
       "<table border=\"1\" class=\"dataframe\">\n",
       "  <thead>\n",
       "    <tr style=\"text-align: right;\">\n",
       "      <th></th>\n",
       "      <th>0</th>\n",
       "      <th>1</th>\n",
       "      <th>2</th>\n",
       "      <th>3</th>\n",
       "      <th>4</th>\n",
       "      <th>5</th>\n",
       "      <th>6</th>\n",
       "      <th>7</th>\n",
       "      <th>8</th>\n",
       "      <th>9</th>\n",
       "      <th>...</th>\n",
       "      <th>23</th>\n",
       "      <th>24</th>\n",
       "      <th>25</th>\n",
       "      <th>26</th>\n",
       "      <th>27</th>\n",
       "      <th>28</th>\n",
       "      <th>29</th>\n",
       "      <th>30</th>\n",
       "      <th>31</th>\n",
       "      <th>32</th>\n",
       "    </tr>\n",
       "  </thead>\n",
       "  <tbody>\n",
       "    <tr>\n",
       "      <th>count</th>\n",
       "      <td>858.000000</td>\n",
       "      <td>858.000000</td>\n",
       "      <td>858.000000</td>\n",
       "      <td>858.000000</td>\n",
       "      <td>858.000000</td>\n",
       "      <td>858.000000</td>\n",
       "      <td>858.000000</td>\n",
       "      <td>858.000000</td>\n",
       "      <td>858.000000</td>\n",
       "      <td>858.000000</td>\n",
       "      <td>...</td>\n",
       "      <td>858.000000</td>\n",
       "      <td>858.000000</td>\n",
       "      <td>858.000000</td>\n",
       "      <td>858.000000</td>\n",
       "      <td>858.000000</td>\n",
       "      <td>858.000000</td>\n",
       "      <td>858.000000</td>\n",
       "      <td>858.000000</td>\n",
       "      <td>858.000000</td>\n",
       "      <td>858.000000</td>\n",
       "    </tr>\n",
       "    <tr>\n",
       "      <th>mean</th>\n",
       "      <td>0.194655</td>\n",
       "      <td>0.055987</td>\n",
       "      <td>0.317970</td>\n",
       "      <td>0.205234</td>\n",
       "      <td>0.143357</td>\n",
       "      <td>0.032466</td>\n",
       "      <td>0.012062</td>\n",
       "      <td>0.686480</td>\n",
       "      <td>0.067844</td>\n",
       "      <td>0.096737</td>\n",
       "      <td>...</td>\n",
       "      <td>0.001166</td>\n",
       "      <td>0.002331</td>\n",
       "      <td>0.029138</td>\n",
       "      <td>0.020979</td>\n",
       "      <td>0.010490</td>\n",
       "      <td>0.020979</td>\n",
       "      <td>0.027972</td>\n",
       "      <td>0.040793</td>\n",
       "      <td>0.086247</td>\n",
       "      <td>0.051282</td>\n",
       "    </tr>\n",
       "    <tr>\n",
       "      <th>std</th>\n",
       "      <td>0.119689</td>\n",
       "      <td>0.060917</td>\n",
       "      <td>0.126904</td>\n",
       "      <td>0.127362</td>\n",
       "      <td>0.350641</td>\n",
       "      <td>0.109747</td>\n",
       "      <td>0.059739</td>\n",
       "      <td>0.464194</td>\n",
       "      <td>0.118901</td>\n",
       "      <td>0.295771</td>\n",
       "      <td>...</td>\n",
       "      <td>0.034139</td>\n",
       "      <td>0.048252</td>\n",
       "      <td>0.100848</td>\n",
       "      <td>0.143398</td>\n",
       "      <td>0.101939</td>\n",
       "      <td>0.143398</td>\n",
       "      <td>0.164989</td>\n",
       "      <td>0.197925</td>\n",
       "      <td>0.280892</td>\n",
       "      <td>0.220701</td>\n",
       "    </tr>\n",
       "    <tr>\n",
       "      <th>min</th>\n",
       "      <td>0.000000</td>\n",
       "      <td>0.000000</td>\n",
       "      <td>0.000000</td>\n",
       "      <td>0.000000</td>\n",
       "      <td>0.000000</td>\n",
       "      <td>0.000000</td>\n",
       "      <td>0.000000</td>\n",
       "      <td>0.000000</td>\n",
       "      <td>0.000000</td>\n",
       "      <td>0.000000</td>\n",
       "      <td>...</td>\n",
       "      <td>0.000000</td>\n",
       "      <td>0.000000</td>\n",
       "      <td>0.000000</td>\n",
       "      <td>0.000000</td>\n",
       "      <td>0.000000</td>\n",
       "      <td>0.000000</td>\n",
       "      <td>0.000000</td>\n",
       "      <td>0.000000</td>\n",
       "      <td>0.000000</td>\n",
       "      <td>0.000000</td>\n",
       "    </tr>\n",
       "    <tr>\n",
       "      <th>25%</th>\n",
       "      <td>0.098592</td>\n",
       "      <td>0.037037</td>\n",
       "      <td>0.227273</td>\n",
       "      <td>0.090909</td>\n",
       "      <td>0.000000</td>\n",
       "      <td>0.000000</td>\n",
       "      <td>0.000000</td>\n",
       "      <td>0.000000</td>\n",
       "      <td>0.000000</td>\n",
       "      <td>0.000000</td>\n",
       "      <td>...</td>\n",
       "      <td>0.000000</td>\n",
       "      <td>0.000000</td>\n",
       "      <td>0.000000</td>\n",
       "      <td>0.000000</td>\n",
       "      <td>0.000000</td>\n",
       "      <td>0.000000</td>\n",
       "      <td>0.000000</td>\n",
       "      <td>0.000000</td>\n",
       "      <td>0.000000</td>\n",
       "      <td>0.000000</td>\n",
       "    </tr>\n",
       "    <tr>\n",
       "      <th>50%</th>\n",
       "      <td>0.169014</td>\n",
       "      <td>0.037037</td>\n",
       "      <td>0.318182</td>\n",
       "      <td>0.181818</td>\n",
       "      <td>0.000000</td>\n",
       "      <td>0.000000</td>\n",
       "      <td>0.000000</td>\n",
       "      <td>1.000000</td>\n",
       "      <td>0.016667</td>\n",
       "      <td>0.000000</td>\n",
       "      <td>...</td>\n",
       "      <td>0.000000</td>\n",
       "      <td>0.000000</td>\n",
       "      <td>0.000000</td>\n",
       "      <td>0.000000</td>\n",
       "      <td>0.000000</td>\n",
       "      <td>0.000000</td>\n",
       "      <td>0.000000</td>\n",
       "      <td>0.000000</td>\n",
       "      <td>0.000000</td>\n",
       "      <td>0.000000</td>\n",
       "    </tr>\n",
       "    <tr>\n",
       "      <th>75%</th>\n",
       "      <td>0.267606</td>\n",
       "      <td>0.074074</td>\n",
       "      <td>0.363636</td>\n",
       "      <td>0.272727</td>\n",
       "      <td>0.000000</td>\n",
       "      <td>0.000000</td>\n",
       "      <td>0.000000</td>\n",
       "      <td>1.000000</td>\n",
       "      <td>0.066667</td>\n",
       "      <td>0.000000</td>\n",
       "      <td>...</td>\n",
       "      <td>0.000000</td>\n",
       "      <td>0.000000</td>\n",
       "      <td>0.000000</td>\n",
       "      <td>0.000000</td>\n",
       "      <td>0.000000</td>\n",
       "      <td>0.000000</td>\n",
       "      <td>0.000000</td>\n",
       "      <td>0.000000</td>\n",
       "      <td>0.000000</td>\n",
       "      <td>0.000000</td>\n",
       "    </tr>\n",
       "    <tr>\n",
       "      <th>max</th>\n",
       "      <td>1.000000</td>\n",
       "      <td>1.000000</td>\n",
       "      <td>1.000000</td>\n",
       "      <td>1.000000</td>\n",
       "      <td>1.000000</td>\n",
       "      <td>1.000000</td>\n",
       "      <td>1.000000</td>\n",
       "      <td>1.000000</td>\n",
       "      <td>1.000000</td>\n",
       "      <td>1.000000</td>\n",
       "      <td>...</td>\n",
       "      <td>1.000000</td>\n",
       "      <td>1.000000</td>\n",
       "      <td>1.000000</td>\n",
       "      <td>1.000000</td>\n",
       "      <td>1.000000</td>\n",
       "      <td>1.000000</td>\n",
       "      <td>1.000000</td>\n",
       "      <td>1.000000</td>\n",
       "      <td>1.000000</td>\n",
       "      <td>1.000000</td>\n",
       "    </tr>\n",
       "  </tbody>\n",
       "</table>\n",
       "<p>8 rows × 33 columns</p>\n",
       "</div>"
      ],
      "text/plain": [
       "               0           1           2           3           4           5   \\\n",
       "count  858.000000  858.000000  858.000000  858.000000  858.000000  858.000000   \n",
       "mean     0.194655    0.055987    0.317970    0.205234    0.143357    0.032466   \n",
       "std      0.119689    0.060917    0.126904    0.127362    0.350641    0.109747   \n",
       "min      0.000000    0.000000    0.000000    0.000000    0.000000    0.000000   \n",
       "25%      0.098592    0.037037    0.227273    0.090909    0.000000    0.000000   \n",
       "50%      0.169014    0.037037    0.318182    0.181818    0.000000    0.000000   \n",
       "75%      0.267606    0.074074    0.363636    0.272727    0.000000    0.000000   \n",
       "max      1.000000    1.000000    1.000000    1.000000    1.000000    1.000000   \n",
       "\n",
       "               6           7           8           9   ...          23  \\\n",
       "count  858.000000  858.000000  858.000000  858.000000  ...  858.000000   \n",
       "mean     0.012062    0.686480    0.067844    0.096737  ...    0.001166   \n",
       "std      0.059739    0.464194    0.118901    0.295771  ...    0.034139   \n",
       "min      0.000000    0.000000    0.000000    0.000000  ...    0.000000   \n",
       "25%      0.000000    0.000000    0.000000    0.000000  ...    0.000000   \n",
       "50%      0.000000    1.000000    0.016667    0.000000  ...    0.000000   \n",
       "75%      0.000000    1.000000    0.066667    0.000000  ...    0.000000   \n",
       "max      1.000000    1.000000    1.000000    1.000000  ...    1.000000   \n",
       "\n",
       "               24          25          26          27          28          29  \\\n",
       "count  858.000000  858.000000  858.000000  858.000000  858.000000  858.000000   \n",
       "mean     0.002331    0.029138    0.020979    0.010490    0.020979    0.027972   \n",
       "std      0.048252    0.100848    0.143398    0.101939    0.143398    0.164989   \n",
       "min      0.000000    0.000000    0.000000    0.000000    0.000000    0.000000   \n",
       "25%      0.000000    0.000000    0.000000    0.000000    0.000000    0.000000   \n",
       "50%      0.000000    0.000000    0.000000    0.000000    0.000000    0.000000   \n",
       "75%      0.000000    0.000000    0.000000    0.000000    0.000000    0.000000   \n",
       "max      1.000000    1.000000    1.000000    1.000000    1.000000    1.000000   \n",
       "\n",
       "               30          31          32  \n",
       "count  858.000000  858.000000  858.000000  \n",
       "mean     0.040793    0.086247    0.051282  \n",
       "std      0.197925    0.280892    0.220701  \n",
       "min      0.000000    0.000000    0.000000  \n",
       "25%      0.000000    0.000000    0.000000  \n",
       "50%      0.000000    0.000000    0.000000  \n",
       "75%      0.000000    0.000000    0.000000  \n",
       "max      1.000000    1.000000    1.000000  \n",
       "\n",
       "[8 rows x 33 columns]"
      ]
     },
     "execution_count": 3,
     "metadata": {},
     "output_type": "execute_result"
    }
   ],
   "source": [
    "pd.DataFrame(X_normalized).describe()"
   ]
  },
  {
   "cell_type": "markdown",
   "metadata": {},
   "source": [
    "__Step 3: Fitting a ML model__<br>\n",
    "As a start, a few traditional ML models will be fit to the data. Later, a deep learning model will be implemented for comparison. To start off, a logistic regression model will be fit to the data.\n",
    "\n",
    "Hyperparameter tuning is be accomplished via grid search coupled with 5-fold cross-validation. Several hyperparameters are considered, and the parameters' performance is evaluated using the F1 score, which takes into account both precision and recall. Though the F1 score assumes equal weight for precision and recall (when in reality recall/sensitivity is of higher priority), since no other weighting scheme is known a priori, it is an acceptable default. As a note: other classifier scoring metrics (e.g. log loss, Brier score loss, ROC AUC) were also tried and gave very similar hyperparameter optimizations. "
   ]
  },
  {
   "cell_type": "code",
   "execution_count": 4,
   "metadata": {},
   "outputs": [
    {
     "name": "stdout",
     "output_type": "stream",
     "text": [
      "Fitting 5 folds for each of 128 candidates, totalling 640 fits\n"
     ]
    },
    {
     "name": "stderr",
     "output_type": "stream",
     "text": [
      "[Parallel(n_jobs=-1)]: Using backend LokyBackend with 8 concurrent workers.\n",
      "[Parallel(n_jobs=-1)]: Done  34 tasks      | elapsed:    1.4s\n"
     ]
    },
    {
     "name": "stdout",
     "output_type": "stream",
     "text": [
      "Best Score (F1): 0.7545\n",
      "Best Params:  {'C': 10, 'class_weight': {1: 0.7, 0: 0.3}, 'penalty': 'l1', 'solver': 'liblinear'}\n"
     ]
    },
    {
     "name": "stderr",
     "output_type": "stream",
     "text": [
      "[Parallel(n_jobs=-1)]: Done 600 tasks      | elapsed:    2.6s\n",
      "[Parallel(n_jobs=-1)]: Done 640 out of 640 | elapsed:    2.7s finished\n"
     ]
    }
   ],
   "source": [
    "from sklearn.linear_model import LogisticRegression\n",
    "from sklearn.model_selection import GridSearchCV\n",
    "from sklearn import metrics\n",
    "from sklearn.model_selection import StratifiedKFold\n",
    "\n",
    "logistic = LogisticRegression(random_state=random_state)\n",
    "\n",
    "# define hyperparameter options\n",
    "penalty = ['l1', 'l2']\n",
    "C = [0.0001, 0.001, 0.01, 0.1, 1, 10, 100, 1000]\n",
    "#class_weight = [{1:0.5, 0:0.5}, {1:0.4, 0:0.6}, {1:0.6, 0:0.4}, {1:0.7, 0:0.3}]\n",
    "class_weight = [{1:0.7, 0:0.3}, {1:0.8, 0:0.2}, {1:0.9, 0:0.1}, {1:0.95, 0:0.05}]\n",
    "solver = ['liblinear', 'saga']\n",
    "\n",
    "param_grid = dict(penalty=penalty,\n",
    "                  C=C,\n",
    "                  class_weight=class_weight,\n",
    "                  solver=solver)\n",
    "\n",
    "# scoring is F1 = 2 * (precision * recall) / (precision + recall)\n",
    "grid = GridSearchCV(estimator=logistic,\n",
    "                    param_grid=param_grid,\n",
    "                    scoring='f1',\n",
    "                    verbose=1,\n",
    "                    n_jobs=-1,\n",
    "                    cv = StratifiedKFold(n_splits=5, shuffle=True))\n",
    "\n",
    "grid_result = grid.fit(X_train, y_train)\n",
    "\n",
    "print('Best Score (F1): ' '{0:0.4f}'.format(grid_result.best_score_))\n",
    "print('Best Params: ', grid_result.best_params_)"
   ]
  },
  {
   "cell_type": "markdown",
   "metadata": {},
   "source": [
    "\n",
    "Note: Trying 'recall' as the scoring method, which could be justified as we wish to reduce false negatives, gives a perplexing optimization. It reaches a recall score of 1 (perhaps for some trivial combination of hyperparameters?). The resulting combination does not generalize well at all to the test set, so perhaps a case of overfitting?."
   ]
  },
  {
   "cell_type": "markdown",
   "metadata": {},
   "source": [
    "__Step 4: Selecting Final Model Evaluation Criteria__<br>\n",
    "\n",
    "From https://machinelearningmastery.com/roc-curves-and-precision-recall-curves-for-classification-in-python/:\n",
    "\n",
    "Reviewing both precision and recall is useful in classification problems where there is an imbalance in the observations between the two classes (see https://journals.plos.org/plosone/article?id=10.1371/journal.pone.0118432). Specifically, there are many examples of no event (class 0) and only a few examples of an event (class 1). This is indeed the case for this dataset.\n",
    "\n",
    "The reason for this is that typically the large number of class 0 examples means we are less interested in the skill of the model at predicting class 0 correctly, e.g. high true negatives. Key to the calculation of precision and recall is that the calculations do not make use of the true negatives. It is only concerned with the correct prediction of the minority class, class 1.\n",
    "\n",
    "Therefore, the precision-recall performance as well as the log loss, another common classifier performance metric, will be examined for the final logistic regression model. These metrics can later be used to compare various ML models."
   ]
  },
  {
   "cell_type": "code",
   "execution_count": 6,
   "metadata": {},
   "outputs": [
    {
     "name": "stdout",
     "output_type": "stream",
     "text": [
      "Average precision-recall score: 0.61\n",
      "Log loss: 0.09\n"
     ]
    }
   ],
   "source": [
    "from sklearn.metrics import average_precision_score\n",
    "from sklearn.metrics import log_loss\n",
    "\n",
    "model = grid_result.best_estimator_\n",
    "y_pred = model.predict(X_test)\n",
    "y_proba = model.predict_proba(X_test)\n",
    "average_precision = average_precision_score(y_test, y_pred)\n",
    "log_loss_model = log_loss(y_test, y_proba)\n",
    "print('Average precision-recall score: {0:0.2f}'.format(average_precision))\n",
    "print('Log loss: {0:0.2f}'.format(log_loss_model))"
   ]
  },
  {
   "cell_type": "code",
   "execution_count": 7,
   "metadata": {},
   "outputs": [
    {
     "name": "stdout",
     "output_type": "stream",
     "text": [
      "              precision    recall  f1-score   support\n",
      "\n",
      "  Biopsy = 0       0.99      0.97      0.98       201\n",
      "  Biopsy = 1       0.65      0.93      0.76        14\n",
      "\n",
      "    accuracy                           0.96       215\n",
      "   macro avg       0.82      0.95      0.87       215\n",
      "weighted avg       0.97      0.96      0.97       215\n",
      "\n"
     ]
    }
   ],
   "source": [
    "from sklearn.metrics import classification_report\n",
    "\n",
    "target_names = ['Biopsy = 0', 'Biopsy = 1']\n",
    "print(classification_report(y_test, y_pred, target_names=target_names))"
   ]
  },
  {
   "cell_type": "code",
   "execution_count": 8,
   "metadata": {},
   "outputs": [
    {
     "data": {
      "text/plain": [
       "Text(0, 0.5, 'Precision')"
      ]
     },
     "execution_count": 8,
     "metadata": {},
     "output_type": "execute_result"
    },
    {
     "data": {
      "image/png": "[encoded data removed]",
      "text/plain": [
       "<Figure size 432x288 with 1 Axes>"
      ]
     },
     "metadata": {
      "needs_background": "light"
     },
     "output_type": "display_data"
    }
   ],
   "source": [
    "from sklearn.metrics import precision_recall_curve\n",
    "\n",
    "precision, recall, thresholds = precision_recall_curve(y_test, y_proba[:,1])\n",
    "\n",
    "plt.plot(precision, recall)\n",
    "plt.title('Precision-Recall curve (Logistic Regression): '\n",
    "                   'AP={0:0.2f}'.format(average_precision))\n",
    "plt.xlabel('Recall')\n",
    "plt.ylabel('Precision')\n"
   ]
  },
  {
   "cell_type": "markdown",
   "metadata": {},
   "source": [
    "__Step 5: Evaluating Additional ML Models__<br>\n",
    "\n",
    "Additional traditional ML classifier models may be fit to the data:\n",
    "- Support Vector Classifier (SVC) - an application of support vector machine (SVM)\n",
    "- Random Forest Classifier - decision tree ensemble method using bootstrapping\n",
    "- k Nearest Neighbors Classifier (k-NN)\n",
    "- A deep learning (neural network) model using Keras will also be implemented and compared."
   ]
  },
  {
   "cell_type": "markdown",
   "metadata": {},
   "source": [
    "__Support Vector Classifier (SVC)__<br>"
   ]
  },
  {
   "cell_type": "code",
   "execution_count": 9,
   "metadata": {},
   "outputs": [
    {
     "name": "stdout",
     "output_type": "stream",
     "text": [
      "Fitting 5 folds for each of 25 candidates, totalling 125 fits\n"
     ]
    },
    {
     "name": "stderr",
     "output_type": "stream",
     "text": [
      "[Parallel(n_jobs=-1)]: Using backend LokyBackend with 8 concurrent workers.\n",
      "[Parallel(n_jobs=-1)]: Done  56 tasks      | elapsed:    0.2s\n",
      "[Parallel(n_jobs=-1)]: Done 110 out of 125 | elapsed:    0.3s remaining:    0.0s\n",
      "[Parallel(n_jobs=-1)]: Done 125 out of 125 | elapsed:    0.4s finished\n"
     ]
    },
    {
     "name": "stdout",
     "output_type": "stream",
     "text": [
      "Best Score (F1): 0.6763\n",
      "Best Params:  {'C': 1000, 'gamma': 0.0001, 'kernel': 'rbf'}\n"
     ]
    }
   ],
   "source": [
    "from sklearn.svm import SVC\n",
    "\n",
    "svc = SVC(probability = True, random_state=random_state)\n",
    "\n",
    "# define hyperparameter options\n",
    "param_grid = {'C': [0.1, 1, 100, 1000, 10000],\n",
    "              'gamma': [1, 0.1, 0.01, 0.0001, 0.00001],\n",
    "              'kernel': ['rbf']} \n",
    "\n",
    "# scoring is F1 = 2 * (precision * recall) / (precision + recall)\n",
    "grid = GridSearchCV(estimator=svc,\n",
    "                    param_grid=param_grid,\n",
    "                    scoring='f1',\n",
    "                    verbose=1,\n",
    "                    n_jobs=-1,\n",
    "                    cv = StratifiedKFold(n_splits=5, shuffle=True))\n",
    "\n",
    "grid_result = grid.fit(X_train, y_train)\n",
    "\n",
    "print('Best Score (F1): ' '{0:0.4f}'.format(grid_result.best_score_))\n",
    "print('Best Params: ', grid_result.best_params_)"
   ]
  },
  {
   "cell_type": "code",
   "execution_count": 11,
   "metadata": {},
   "outputs": [
    {
     "name": "stdout",
     "output_type": "stream",
     "text": [
      "Average precision-recall score: 0.61\n",
      "Log loss: 0.10\n"
     ]
    }
   ],
   "source": [
    "from sklearn.metrics import average_precision_score\n",
    "from sklearn.metrics import log_loss\n",
    "\n",
    "model = grid_result.best_estimator_\n",
    "y_pred = model.predict(X_test)\n",
    "y_proba = model.predict_proba(X_test)\n",
    "average_precision = average_precision_score(y_test, y_pred)\n",
    "log_loss_model = log_loss(y_test, y_proba)\n",
    "print('Average precision-recall score: {0:0.2f}'.format(average_precision))\n",
    "print('Log loss: {0:0.2f}'.format(log_loss_model))"
   ]
  },
  {
   "cell_type": "code",
   "execution_count": 12,
   "metadata": {},
   "outputs": [
    {
     "name": "stdout",
     "output_type": "stream",
     "text": [
      "              precision    recall  f1-score   support\n",
      "\n",
      "  Biopsy = 0       0.99      0.97      0.98       201\n",
      "  Biopsy = 1       0.65      0.93      0.76        14\n",
      "\n",
      "    accuracy                           0.96       215\n",
      "   macro avg       0.82      0.95      0.87       215\n",
      "weighted avg       0.97      0.96      0.97       215\n",
      "\n"
     ]
    }
   ],
   "source": [
    "from sklearn.metrics import classification_report\n",
    "\n",
    "target_names = ['Biopsy = 0', 'Biopsy = 1']\n",
    "print(classification_report(y_test, y_pred, target_names=target_names))"
   ]
  },
  {
   "cell_type": "code",
   "execution_count": 13,
   "metadata": {},
   "outputs": [
    {
     "data": {
      "text/plain": [
       "Text(0, 0.5, 'Precision')"
      ]
     },
     "execution_count": 13,
     "metadata": {},
     "output_type": "execute_result"
    },
    {
     "data": {
      "image/png": "[encoded data removed]",
      "text/plain": [
       "<Figure size 432x288 with 1 Axes>"
      ]
     },
     "metadata": {
      "needs_background": "light"
     },
     "output_type": "display_data"
    }
   ],
   "source": [
    "from sklearn.metrics import precision_recall_curve\n",
    "\n",
    "precision, recall, thresholds = precision_recall_curve(y_test, y_proba[:,1])\n",
    "\n",
    "plt.plot(precision, recall)\n",
    "plt.title('Precision-Recall Curve (SVC): '\n",
    "                   'AP={0:0.2f}'.format(average_precision))\n",
    "plt.xlabel('Recall')\n",
    "plt.ylabel('Precision')\n"
   ]
  },
  {
   "cell_type": "markdown",
   "metadata": {},
   "source": [
    "__Random Forest Classifier__<br>"
   ]
  },
  {
   "cell_type": "code",
   "execution_count": 14,
   "metadata": {},
   "outputs": [
    {
     "name": "stdout",
     "output_type": "stream",
     "text": [
      "Fitting 5 folds for each of 72 candidates, totalling 360 fits\n"
     ]
    },
    {
     "name": "stderr",
     "output_type": "stream",
     "text": [
      "[Parallel(n_jobs=-1)]: Using backend LokyBackend with 8 concurrent workers.\n",
      "[Parallel(n_jobs=-1)]: Done  34 tasks      | elapsed:    4.5s\n",
      "[Parallel(n_jobs=-1)]: Done 184 tasks      | elapsed:   24.8s\n",
      "[Parallel(n_jobs=-1)]: Done 360 out of 360 | elapsed:   49.5s finished\n"
     ]
    },
    {
     "name": "stdout",
     "output_type": "stream",
     "text": [
      "Best Score (F1): 0.6352\n",
      "Best Params:  {'criterion': 'entropy', 'max_depth': 10, 'max_features': 'auto', 'n_estimators': 500}\n"
     ]
    }
   ],
   "source": [
    "from sklearn.ensemble import RandomForestClassifier\n",
    "\n",
    "rfc = RandomForestClassifier(random_state=random_state)\n",
    "\n",
    "# define hyperparameter options\n",
    "param_grid = {'n_estimators': [200, 500, 1000],\n",
    "              'max_features': ['auto', 'sqrt', 'log2'],\n",
    "              'max_depth' : [4, 6, 8, 10],\n",
    "              'criterion' :['gini', 'entropy']\n",
    "}\n",
    "\n",
    "# scoring is F1 = 2 * (precision * recall) / (precision + recall)\n",
    "grid = GridSearchCV(estimator=rfc,\n",
    "                    param_grid=param_grid,\n",
    "                    scoring='f1',\n",
    "                    verbose=1,\n",
    "                    n_jobs=-1,\n",
    "                    cv = StratifiedKFold(n_splits=5, shuffle=True))\n",
    "\n",
    "grid_result = grid.fit(X_train, y_train)\n",
    "\n",
    "print('Best Score (F1): ' '{0:0.4f}'.format(grid_result.best_score_))\n",
    "print('Best Params: ', grid_result.best_params_)"
   ]
  },
  {
   "cell_type": "code",
   "execution_count": 15,
   "metadata": {},
   "outputs": [
    {
     "name": "stdout",
     "output_type": "stream",
     "text": [
      "Average precision-recall score: 0.35\n",
      "Log loss: 0.10\n"
     ]
    }
   ],
   "source": [
    "from sklearn.metrics import average_precision_score\n",
    "from sklearn.metrics import log_loss\n",
    "\n",
    "model = grid_result.best_estimator_\n",
    "y_pred = model.predict(X_test)\n",
    "y_proba = model.predict_proba(X_test)\n",
    "average_precision = average_precision_score(y_test, y_pred)\n",
    "log_loss_model = log_loss(y_test, y_proba)\n",
    "print('Average precision-recall score: {0:0.2f}'.format(average_precision))\n",
    "print('Log loss: {0:0.2f}'.format(log_loss_model))"
   ]
  },
  {
   "cell_type": "code",
   "execution_count": 16,
   "metadata": {},
   "outputs": [
    {
     "name": "stdout",
     "output_type": "stream",
     "text": [
      "              precision    recall  f1-score   support\n",
      "\n",
      "  Biopsy = 0       0.97      0.98      0.97       201\n",
      "  Biopsy = 1       0.64      0.50      0.56        14\n",
      "\n",
      "    accuracy                           0.95       215\n",
      "   macro avg       0.80      0.74      0.77       215\n",
      "weighted avg       0.94      0.95      0.95       215\n",
      "\n"
     ]
    }
   ],
   "source": [
    "from sklearn.metrics import classification_report\n",
    "\n",
    "target_names = ['Biopsy = 0', 'Biopsy = 1']\n",
    "print(classification_report(y_test, y_pred, target_names=target_names))"
   ]
  },
  {
   "cell_type": "code",
   "execution_count": 17,
   "metadata": {},
   "outputs": [
    {
     "data": {
      "text/plain": [
       "Text(0, 0.5, 'Precision')"
      ]
     },
     "execution_count": 17,
     "metadata": {},
     "output_type": "execute_result"
    },
    {
     "data": {
      "image/png": "[encoded data removed]",
      "text/plain": [
       "<Figure size 432x288 with 1 Axes>"
      ]
     },
     "metadata": {
      "needs_background": "light"
     },
     "output_type": "display_data"
    }
   ],
   "source": [
    "from sklearn.metrics import precision_recall_curve\n",
    "\n",
    "precision, recall, thresholds = precision_recall_curve(y_test, y_proba[:,1])\n",
    "\n",
    "plt.plot(precision, recall)\n",
    "plt.title('Precision-Recall Curve (Random Forest): '\n",
    "                   'AP={0:0.2f}'.format(average_precision))\n",
    "plt.xlabel('Recall')\n",
    "plt.ylabel('Precision')\n"
   ]
  },
  {
   "cell_type": "markdown",
   "metadata": {},
   "source": [
    "__K Nearest Neighbors Classifier (k-NN)__<br>"
   ]
  },
  {
   "cell_type": "code",
   "execution_count": 18,
   "metadata": {},
   "outputs": [
    {
     "name": "stdout",
     "output_type": "stream",
     "text": [
      "Fitting 5 folds for each of 29 candidates, totalling 145 fits\n"
     ]
    },
    {
     "name": "stderr",
     "output_type": "stream",
     "text": [
      "[Parallel(n_jobs=-1)]: Using backend LokyBackend with 8 concurrent workers.\n",
      "[Parallel(n_jobs=-1)]: Done  56 tasks      | elapsed:    0.1s\n"
     ]
    },
    {
     "name": "stdout",
     "output_type": "stream",
     "text": [
      "Best Score (F1): 0.5327\n",
      "Best Params:  {'n_neighbors': 3}\n"
     ]
    },
    {
     "name": "stderr",
     "output_type": "stream",
     "text": [
      "[Parallel(n_jobs=-1)]: Done 145 out of 145 | elapsed:    0.2s finished\n"
     ]
    }
   ],
   "source": [
    "from sklearn.neighbors import KNeighborsClassifier\n",
    "\n",
    "k_nn = KNeighborsClassifier()\n",
    "\n",
    "# define hyperparameter options\n",
    "k_range = list(range(1, 30))\n",
    "param_grid = dict(n_neighbors=k_range)\n",
    "\n",
    "# scoring is F1 = 2 * (precision * recall) / (precision + recall)\n",
    "grid = GridSearchCV(estimator=k_nn,\n",
    "                    param_grid=param_grid,\n",
    "                    scoring='f1',\n",
    "                    verbose=1,\n",
    "                    n_jobs=-1,\n",
    "                    cv = StratifiedKFold(n_splits=5, shuffle=True))\n",
    "\n",
    "grid_result = grid.fit(X_train, y_train)\n",
    "\n",
    "print('Best Score (F1): ' '{0:0.4f}'.format(grid_result.best_score_))\n",
    "print('Best Params: ', grid_result.best_params_)"
   ]
  },
  {
   "cell_type": "code",
   "execution_count": 19,
   "metadata": {},
   "outputs": [
    {
     "name": "stdout",
     "output_type": "stream",
     "text": [
      "Average precision-recall score: 0.27\n",
      "Log loss: 0.86\n"
     ]
    }
   ],
   "source": [
    "model = grid_result.best_estimator_\n",
    "#model = KNeighborsClassifier(n_neighbors=1).fit(X_train,y_train)\n",
    "y_pred = model.predict(X_test)\n",
    "y_proba = model.predict_proba(X_test)\n",
    "average_precision = average_precision_score(y_test, y_pred)\n",
    "log_loss_model = log_loss(y_test, y_proba)\n",
    "print('Average precision-recall score: {0:0.2f}'.format(average_precision))\n",
    "print('Log loss: {0:0.2f}'.format(log_loss_model))"
   ]
  },
  {
   "cell_type": "code",
   "execution_count": 20,
   "metadata": {},
   "outputs": [
    {
     "name": "stdout",
     "output_type": "stream",
     "text": [
      "              precision    recall  f1-score   support\n",
      "\n",
      "  Biopsy = 0       0.96      0.98      0.97       201\n",
      "  Biopsy = 1       0.55      0.43      0.48        14\n",
      "\n",
      "    accuracy                           0.94       215\n",
      "   macro avg       0.75      0.70      0.72       215\n",
      "weighted avg       0.93      0.94      0.94       215\n",
      "\n"
     ]
    }
   ],
   "source": [
    "from sklearn.metrics import classification_report\n",
    "\n",
    "target_names = ['Biopsy = 0', 'Biopsy = 1']\n",
    "print(classification_report(y_test, y_pred, target_names=target_names))"
   ]
  },
  {
   "cell_type": "code",
   "execution_count": 21,
   "metadata": {},
   "outputs": [
    {
     "data": {
      "text/plain": [
       "Text(0, 0.5, 'Precision')"
      ]
     },
     "execution_count": 21,
     "metadata": {},
     "output_type": "execute_result"
    },
    {
     "data": {
      "image/png": "[encoded data removed]",
      "text/plain": [
       "<Figure size 432x288 with 1 Axes>"
      ]
     },
     "metadata": {
      "needs_background": "light"
     },
     "output_type": "display_data"
    }
   ],
   "source": [
    "precision, recall, thresholds = precision_recall_curve(y_test, y_proba[:,1])\n",
    "\n",
    "plt.plot(precision, recall)\n",
    "plt.title('Precision-Recall Curve (k-NN): '\n",
    "                   'AP={0:0.2f}'.format(average_precision))\n",
    "plt.xlabel('Recall')\n",
    "plt.ylabel('Precision')"
   ]
  },
  {
   "cell_type": "markdown",
   "metadata": {},
   "source": [
    "__XG Boost__"
   ]
  },
  {
   "cell_type": "code",
   "execution_count": 22,
   "metadata": {},
   "outputs": [
    {
     "name": "stdout",
     "output_type": "stream",
     "text": [
      "Fitting 5 folds for each of 96 candidates, totalling 480 fits\n"
     ]
    },
    {
     "name": "stderr",
     "output_type": "stream",
     "text": [
      "[Parallel(n_jobs=-1)]: Using backend LokyBackend with 8 concurrent workers.\n",
      "[Parallel(n_jobs=-1)]: Done  52 tasks      | elapsed:    1.0s\n",
      "[Parallel(n_jobs=-1)]: Done 352 tasks      | elapsed:    6.9s\n"
     ]
    },
    {
     "name": "stdout",
     "output_type": "stream",
     "text": [
      "Best Score (F1): 0.6997\n",
      "Best Params:  {'learning_rate': 0.05, 'max_depth': 2, 'n_estimators': 60}\n"
     ]
    },
    {
     "name": "stderr",
     "output_type": "stream",
     "text": [
      "[Parallel(n_jobs=-1)]: Done 480 out of 480 | elapsed:    9.8s finished\n"
     ]
    }
   ],
   "source": [
    "from xgboost import XGBClassifier\n",
    "\n",
    "xgb = XGBClassifier()\n",
    "\n",
    "# define hyperparameter options\n",
    "param_grid = {'max_depth': range (2, 10, 1),\n",
    "              'n_estimators': range(60, 220, 40),\n",
    "              'learning_rate': [0.1, 0.01, 0.05]\n",
    "}\n",
    "\n",
    "# scoring is F1 = 2 * (precision * recall) / (precision + recall)\n",
    "grid = GridSearchCV(estimator=xgb,\n",
    "                    param_grid=param_grid,\n",
    "                    scoring='f1',\n",
    "                    verbose=1,\n",
    "                    n_jobs=-1,\n",
    "                    cv = StratifiedKFold(n_splits=5, shuffle=True))\n",
    "\n",
    "grid_result = grid.fit(X_train, y_train)\n",
    "\n",
    "print('Best Score (F1): ' '{0:0.4f}'.format(grid_result.best_score_))\n",
    "print('Best Params: ', grid_result.best_params_)"
   ]
  },
  {
   "cell_type": "code",
   "execution_count": 23,
   "metadata": {},
   "outputs": [
    {
     "name": "stdout",
     "output_type": "stream",
     "text": [
      "Average precision-recall score: 0.61\n",
      "Log loss: 1.29\n"
     ]
    }
   ],
   "source": [
    "model = grid_result.best_estimator_\n",
    "#model = xgb.fit(X_train,y_train)\n",
    "y_pred = model.predict(X_test)\n",
    "y_proba = model.predict_proba(X_test)\n",
    "average_precision = average_precision_score(y_test, y_pred)\n",
    "log_loss_model = log_loss(y_test, y_pred)\n",
    "print('Average precision-recall score: {0:0.2f}'.format(average_precision))\n",
    "print('Log loss: {0:0.2f}'.format(log_loss_model))"
   ]
  },
  {
   "cell_type": "code",
   "execution_count": 24,
   "metadata": {},
   "outputs": [
    {
     "name": "stdout",
     "output_type": "stream",
     "text": [
      "              precision    recall  f1-score   support\n",
      "\n",
      "  Biopsy = 0       0.99      0.97      0.98       201\n",
      "  Biopsy = 1       0.65      0.93      0.76        14\n",
      "\n",
      "    accuracy                           0.96       215\n",
      "   macro avg       0.82      0.95      0.87       215\n",
      "weighted avg       0.97      0.96      0.97       215\n",
      "\n"
     ]
    }
   ],
   "source": [
    "from sklearn.metrics import classification_report\n",
    "\n",
    "target_names = ['Biopsy = 0', 'Biopsy = 1']\n",
    "print(classification_report(y_test, y_pred, target_names=target_names))"
   ]
  },
  {
   "cell_type": "code",
   "execution_count": 25,
   "metadata": {},
   "outputs": [
    {
     "data": {
      "text/plain": [
       "Text(0, 0.5, 'Precision')"
      ]
     },
     "execution_count": 25,
     "metadata": {},
     "output_type": "execute_result"
    },
    {
     "data": {
      "image/png": "[encoded data removed]",
      "text/plain": [
       "<Figure size 432x288 with 1 Axes>"
      ]
     },
     "metadata": {
      "needs_background": "light"
     },
     "output_type": "display_data"
    }
   ],
   "source": [
    "precision, recall, thresholds = precision_recall_curve(y_test, y_proba[:,1])\n",
    "\n",
    "plt.plot(precision, recall)\n",
    "plt.title('Precision-Recall Curve (XGBoost): '\n",
    "                   'AP={0:0.2f}'.format(average_precision))\n",
    "plt.xlabel('Recall')\n",
    "plt.ylabel('Precision')"
   ]
  },
  {
   "cell_type": "markdown",
   "metadata": {},
   "source": [
    "__XG Boost (with Missing Values)__"
   ]
  },
  {
   "cell_type": "code",
   "execution_count": 26,
   "metadata": {},
   "outputs": [],
   "source": [
    "# for this model, we will keep all NaN values intact\n",
    "df_NaN = pd.read_csv('kag_risk_factors_cervical_cancer.csv')\n",
    "df_NaN = df_NaN.replace('?', np.nan)\n",
    "for column, values in df_NaN.iteritems():\n",
    "        df_NaN[column] = pd.to_numeric(df_NaN[column], errors='coerce')\n",
    "#df = df.drop(['STDs: Time since first diagnosis','STDs: Time since last diagnosis'], axis=1)\n",
    "#df = df.fillna(df.median())\n",
    "\n",
    "# define default random state so that all future random actions will be repeatable\n",
    "random_state = np.random.RandomState(0)\n",
    "\n",
    "# define scaler, default feature_range=(0, 1)\n",
    "scaler = MinMaxScaler()\n",
    "\n",
    "# split the data into features and target \n",
    "X_NaN = df_NaN.drop(['Biopsy'],axis=1)\n",
    "y_NaN = df_NaN['Biopsy']\n",
    "\n",
    "# fit and transform scaler in one step for X, y is already normalized\n",
    "X_NaN_normalized = scaler.fit_transform(X)\n",
    "\n",
    "# perform stratified test-train split to hold off 25% of normalized data for model validation\n",
    "X_NaN_train, X_NaN_test, y_NaN_train, y_NaN_test = train_test_split(X_NaN_normalized, y_NaN, test_size=0.25, stratify=y_NaN, random_state=random_state)"
   ]
  },
  {
   "cell_type": "code",
   "execution_count": 27,
   "metadata": {},
   "outputs": [
    {
     "name": "stdout",
     "output_type": "stream",
     "text": [
      "Fitting 5 folds for each of 96 candidates, totalling 480 fits\n"
     ]
    },
    {
     "name": "stderr",
     "output_type": "stream",
     "text": [
      "[Parallel(n_jobs=-1)]: Using backend LokyBackend with 8 concurrent workers.\n",
      "[Parallel(n_jobs=-1)]: Done  52 tasks      | elapsed:    0.9s\n",
      "[Parallel(n_jobs=-1)]: Done 352 tasks      | elapsed:    6.9s\n"
     ]
    },
    {
     "name": "stdout",
     "output_type": "stream",
     "text": [
      "Best Score (F1): 0.7357\n",
      "Best Params:  {'learning_rate': 0.01, 'max_depth': 3, 'n_estimators': 140}\n"
     ]
    },
    {
     "name": "stderr",
     "output_type": "stream",
     "text": [
      "[Parallel(n_jobs=-1)]: Done 480 out of 480 | elapsed:    9.7s finished\n"
     ]
    }
   ],
   "source": [
    "from xgboost import XGBClassifier\n",
    "\n",
    "xgb = XGBClassifier()\n",
    "\n",
    "# define hyperparameter options\n",
    "param_grid = {'max_depth': range (2, 10, 1),\n",
    "              'n_estimators': range(60, 220, 40),\n",
    "              'learning_rate': [0.1, 0.01, 0.05]\n",
    "}\n",
    "\n",
    "# scoring is F1 = 2 * (precision * recall) / (precision + recall)\n",
    "grid = GridSearchCV(estimator=xgb,\n",
    "                    param_grid=param_grid,\n",
    "                    scoring='f1',\n",
    "                    verbose=1,\n",
    "                    n_jobs=-1,\n",
    "                    cv = StratifiedKFold(n_splits=5, shuffle=True))\n",
    "\n",
    "grid_result = grid.fit(X_NaN_train, y_NaN_train)\n",
    "\n",
    "print('Best Score (F1): ' '{0:0.4f}'.format(grid_result.best_score_))\n",
    "print('Best Params: ', grid_result.best_params_)"
   ]
  },
  {
   "cell_type": "code",
   "execution_count": 28,
   "metadata": {},
   "outputs": [
    {
     "name": "stdout",
     "output_type": "stream",
     "text": [
      "Average precision-recall score: 0.52\n",
      "Log loss: 1.29\n"
     ]
    }
   ],
   "source": [
    "model = grid_result.best_estimator_\n",
    "#model = xgb.fit(X_train,y_train)\n",
    "y_NaN_pred = model.predict(X_NaN_test)\n",
    "y_NaN_proba = model.predict_proba(X_NaN_test)\n",
    "average_precision = average_precision_score(y_NaN_test, y_NaN_pred)\n",
    "log_loss_model = log_loss(y_test, y_pred)\n",
    "print('Average precision-recall score: {0:0.2f}'.format(average_precision))\n",
    "print('Log loss: {0:0.2f}'.format(log_loss_model))"
   ]
  },
  {
   "cell_type": "code",
   "execution_count": 29,
   "metadata": {},
   "outputs": [
    {
     "name": "stdout",
     "output_type": "stream",
     "text": [
      "              precision    recall  f1-score   support\n",
      "\n",
      "  Biopsy = 0       0.98      0.97      0.98       201\n",
      "  Biopsy = 1       0.65      0.79      0.71        14\n",
      "\n",
      "    accuracy                           0.96       215\n",
      "   macro avg       0.82      0.88      0.84       215\n",
      "weighted avg       0.96      0.96      0.96       215\n",
      "\n"
     ]
    }
   ],
   "source": [
    "from sklearn.metrics import classification_report\n",
    "\n",
    "target_names = ['Biopsy = 0', 'Biopsy = 1']\n",
    "print(classification_report(y_NaN_test, y_NaN_pred, target_names=target_names))"
   ]
  },
  {
   "cell_type": "code",
   "execution_count": 30,
   "metadata": {},
   "outputs": [
    {
     "data": {
      "text/plain": [
       "Text(0, 0.5, 'Precision')"
      ]
     },
     "execution_count": 30,
     "metadata": {},
     "output_type": "execute_result"
    },
    {
     "data": {
      "image/png": "[encoded data removed]",
      "text/plain": [
       "<Figure size 432x288 with 1 Axes>"
      ]
     },
     "metadata": {
      "needs_background": "light"
     },
     "output_type": "display_data"
    }
   ],
   "source": [
    "precision, recall, thresholds = precision_recall_curve(y_NaN_test, y_NaN_proba[:,1])\n",
    "\n",
    "plt.plot(precision, recall)\n",
    "plt.title('Precision-Recall Curve (XGBoost w/NaN): '\n",
    "                   'AP={0:0.2f}'.format(average_precision))\n",
    "plt.xlabel('Recall')\n",
    "plt.ylabel('Precision')"
   ]
  },
  {
   "cell_type": "markdown",
   "metadata": {},
   "source": [
    "__Building a DeepLearning Model with Keras__"
   ]
  },
  {
   "cell_type": "code",
   "execution_count": 40,
   "metadata": {},
   "outputs": [
    {
     "name": "stdout",
     "output_type": "stream",
     "text": [
      "Epoch 00109: early stopping\n",
      "Best: 0.962657 using {'batch_size': 64, 'dropout': 0.5, 'neurons': 40}\n",
      "0.948680 (0.014400) with: {'batch_size': 32, 'dropout': 0.1, 'neurons': 20}\n",
      "0.950242 (0.011630) with: {'batch_size': 32, 'dropout': 0.1, 'neurons': 40}\n",
      "0.944029 (0.010244) with: {'batch_size': 32, 'dropout': 0.1, 'neurons': 100}\n",
      "0.953319 (0.017848) with: {'batch_size': 32, 'dropout': 0.3, 'neurons': 20}\n",
      "0.953319 (0.014812) with: {'batch_size': 32, 'dropout': 0.3, 'neurons': 40}\n",
      "0.950230 (0.010569) with: {'batch_size': 32, 'dropout': 0.3, 'neurons': 100}\n",
      "0.948643 (0.018291) with: {'batch_size': 32, 'dropout': 0.5, 'neurons': 20}\n",
      "0.951768 (0.015153) with: {'batch_size': 32, 'dropout': 0.5, 'neurons': 40}\n",
      "0.945567 (0.013031) with: {'batch_size': 32, 'dropout': 0.5, 'neurons': 100}\n",
      "0.951744 (0.018140) with: {'batch_size': 64, 'dropout': 0.1, 'neurons': 20}\n",
      "0.947154 (0.019193) with: {'batch_size': 64, 'dropout': 0.1, 'neurons': 40}\n",
      "0.950254 (0.010468) with: {'batch_size': 64, 'dropout': 0.1, 'neurons': 100}\n",
      "0.950206 (0.020169) with: {'batch_size': 64, 'dropout': 0.3, 'neurons': 20}\n",
      "0.954893 (0.009088) with: {'batch_size': 64, 'dropout': 0.3, 'neurons': 40}\n",
      "0.945579 (0.016974) with: {'batch_size': 64, 'dropout': 0.3, 'neurons': 100}\n",
      "0.959569 (0.005803) with: {'batch_size': 64, 'dropout': 0.5, 'neurons': 20}\n",
      "0.962657 (0.009168) with: {'batch_size': 64, 'dropout': 0.5, 'neurons': 40}\n",
      "0.951768 (0.011552) with: {'batch_size': 64, 'dropout': 0.5, 'neurons': 100}\n",
      "0.957994 (0.016111) with: {'batch_size': 128, 'dropout': 0.1, 'neurons': 20}\n",
      "0.956444 (0.016827) with: {'batch_size': 128, 'dropout': 0.1, 'neurons': 40}\n",
      "0.945591 (0.016963) with: {'batch_size': 128, 'dropout': 0.1, 'neurons': 100}\n",
      "0.956456 (0.013596) with: {'batch_size': 128, 'dropout': 0.3, 'neurons': 20}\n",
      "0.954881 (0.010409) with: {'batch_size': 128, 'dropout': 0.3, 'neurons': 40}\n",
      "0.950242 (0.012621) with: {'batch_size': 128, 'dropout': 0.3, 'neurons': 100}\n",
      "0.948668 (0.028120) with: {'batch_size': 128, 'dropout': 0.5, 'neurons': 20}\n",
      "0.945555 (0.016377) with: {'batch_size': 128, 'dropout': 0.5, 'neurons': 40}\n",
      "0.953331 (0.014831) with: {'batch_size': 128, 'dropout': 0.5, 'neurons': 100}\n"
     ]
    }
   ],
   "source": [
    "# Use scikit-learn to grid search the learning rate and momentum\n",
    "\n",
    "from keras.models import Sequential\n",
    "from keras.layers import Dense, Dropout\n",
    "from keras.wrappers.scikit_learn import KerasClassifier\n",
    "from keras.callbacks import EarlyStopping\n",
    "\n",
    "# Function to create model, required for KerasClassifier\n",
    "\n",
    "def create_model(neurons=20, dropout=0.3):\n",
    "    # create model\n",
    "    \n",
    "    neurons_2 = int(neurons/2)\n",
    "    \n",
    "    model = Sequential()\n",
    "    model.add(Dense(neurons, input_dim=X_train.shape[1], activation='relu'))\n",
    "    model.add(Dropout(dropout))\n",
    "    model.add(Dense(neurons_2, activation='relu'))\n",
    "    model.add(Dropout(dropout))\n",
    "    model.add(Dense(1, activation='sigmoid'))\n",
    "    \n",
    "    # Compile model\n",
    "    model.compile(loss='binary_crossentropy', optimizer='adam', metrics=['accuracy'])\n",
    "    return model\n",
    "\n",
    "# create model\n",
    "n_epochs = 300\n",
    "model = KerasClassifier(build_fn=create_model, verbose=0, epochs=n_epochs)\n",
    "es = EarlyStopping(monitor='loss', mode='min', verbose=1, patience=20)\n",
    "\n",
    "# define the grid search parameters\n",
    "neurons = [20, 40, 100]\n",
    "dropout = [0.1,0.3,0.5]\n",
    "batch_size = [32, 64, 128]\n",
    "param_grid = dict(neurons=neurons, \n",
    "                  dropout=dropout, \n",
    "                  batch_size=batch_size) \n",
    "                  #epochs=epochs)\n",
    "\n",
    "grid = GridSearchCV(estimator=model, param_grid=param_grid, n_jobs=-1, cv=5)\n",
    "grid_result = grid.fit(X_train, y_train, callbacks=[es])\n",
    "\n",
    "# summarize results\n",
    "print(\"Best: %f using %s\" % (grid_result.best_score_, grid_result.best_params_))\n",
    "means = grid_result.cv_results_['mean_test_score']\n",
    "stds = grid_result.cv_results_['std_test_score']\n",
    "params = grid_result.cv_results_['params']\n",
    "for mean, stdev, param in zip(means, stds, params):\n",
    "    print(\"%f (%f) with: %r\" % (mean, stdev, param))"
   ]
  },
  {
   "cell_type": "code",
   "execution_count": 41,
   "metadata": {},
   "outputs": [],
   "source": [
    "def show_train_history(train_history,n_epochs,train,validation):\n",
    "    plt.plot(train_history.history[train])\n",
    "    plt.plot(train_history.history[validation])\n",
    "    plt.title('Train History: %i epochs' % n_epochs)\n",
    "    plt.ylabel(train)\n",
    "    plt.xlabel('Epoch')\n",
    "    plt.xticks(np.arange(0, n_epochs, step=round(n_epochs/10)))\n",
    "    plt.legend(['train', 'validation'], loc='best')\n",
    "    plt.show()"
   ]
  },
  {
   "cell_type": "code",
   "execution_count": 42,
   "metadata": {},
   "outputs": [
    {
     "name": "stdout",
     "output_type": "stream",
     "text": [
      "Train on 482 samples, validate on 161 samples\n",
      "Epoch 1/300\n",
      " - 0s - loss: 0.7503 - accuracy: 0.4315 - val_loss: 0.7186 - val_accuracy: 0.3168\n",
      "Epoch 2/300\n",
      " - 0s - loss: 0.6810 - accuracy: 0.6515 - val_loss: 0.6618 - val_accuracy: 0.8696\n",
      "Epoch 3/300\n",
      " - 0s - loss: 0.6381 - accuracy: 0.7303 - val_loss: 0.6080 - val_accuracy: 0.8944\n",
      "Epoch 4/300\n",
      " - 0s - loss: 0.5830 - accuracy: 0.8568 - val_loss: 0.5537 - val_accuracy: 0.9379\n",
      "Epoch 5/300\n",
      " - 0s - loss: 0.5298 - accuracy: 0.9025 - val_loss: 0.5011 - val_accuracy: 0.9379\n",
      "Epoch 6/300\n",
      " - 0s - loss: 0.4826 - accuracy: 0.9191 - val_loss: 0.4507 - val_accuracy: 0.9379\n",
      "Epoch 7/300\n",
      " - 0s - loss: 0.4472 - accuracy: 0.9274 - val_loss: 0.4035 - val_accuracy: 0.9379\n",
      "Epoch 8/300\n",
      " - 0s - loss: 0.4184 - accuracy: 0.9295 - val_loss: 0.3628 - val_accuracy: 0.9379\n",
      "Epoch 9/300\n",
      " - 0s - loss: 0.3752 - accuracy: 0.9315 - val_loss: 0.3288 - val_accuracy: 0.9379\n",
      "Epoch 10/300\n",
      " - 0s - loss: 0.3497 - accuracy: 0.9336 - val_loss: 0.3004 - val_accuracy: 0.9379\n",
      "Epoch 11/300\n",
      " - 0s - loss: 0.3208 - accuracy: 0.9336 - val_loss: 0.2785 - val_accuracy: 0.9379\n",
      "Epoch 12/300\n",
      " - 0s - loss: 0.3004 - accuracy: 0.9357 - val_loss: 0.2614 - val_accuracy: 0.9379\n",
      "Epoch 13/300\n",
      " - 0s - loss: 0.2871 - accuracy: 0.9357 - val_loss: 0.2476 - val_accuracy: 0.9379\n",
      "Epoch 14/300\n",
      " - 0s - loss: 0.2818 - accuracy: 0.9357 - val_loss: 0.2362 - val_accuracy: 0.9379\n",
      "Epoch 15/300\n",
      " - 0s - loss: 0.2807 - accuracy: 0.9378 - val_loss: 0.2267 - val_accuracy: 0.9379\n",
      "Epoch 16/300\n",
      " - 0s - loss: 0.2676 - accuracy: 0.9336 - val_loss: 0.2187 - val_accuracy: 0.9379\n",
      "Epoch 17/300\n",
      " - 0s - loss: 0.2278 - accuracy: 0.9378 - val_loss: 0.2106 - val_accuracy: 0.9379\n",
      "Epoch 18/300\n",
      " - 0s - loss: 0.2407 - accuracy: 0.9336 - val_loss: 0.2023 - val_accuracy: 0.9379\n",
      "Epoch 19/300\n",
      " - 0s - loss: 0.2450 - accuracy: 0.9357 - val_loss: 0.1939 - val_accuracy: 0.9379\n",
      "Epoch 20/300\n",
      " - 0s - loss: 0.2585 - accuracy: 0.9357 - val_loss: 0.1870 - val_accuracy: 0.9379\n",
      "Epoch 21/300\n",
      " - 0s - loss: 0.1914 - accuracy: 0.9419 - val_loss: 0.1803 - val_accuracy: 0.9379\n",
      "Epoch 22/300\n",
      " - 0s - loss: 0.1915 - accuracy: 0.9357 - val_loss: 0.1737 - val_accuracy: 0.9379\n",
      "Epoch 23/300\n",
      " - 0s - loss: 0.1798 - accuracy: 0.9378 - val_loss: 0.1687 - val_accuracy: 0.9379\n",
      "Epoch 24/300\n",
      " - 0s - loss: 0.1660 - accuracy: 0.9502 - val_loss: 0.1646 - val_accuracy: 0.9379\n",
      "Epoch 25/300\n",
      " - 0s - loss: 0.1842 - accuracy: 0.9419 - val_loss: 0.1607 - val_accuracy: 0.9441\n",
      "Epoch 26/300\n",
      " - 0s - loss: 0.1578 - accuracy: 0.9481 - val_loss: 0.1561 - val_accuracy: 0.9379\n",
      "Epoch 27/300\n",
      " - 0s - loss: 0.1883 - accuracy: 0.9336 - val_loss: 0.1515 - val_accuracy: 0.9379\n",
      "Epoch 28/300\n",
      " - 0s - loss: 0.1534 - accuracy: 0.9502 - val_loss: 0.1485 - val_accuracy: 0.9441\n",
      "Epoch 29/300\n",
      " - 0s - loss: 0.1533 - accuracy: 0.9419 - val_loss: 0.1458 - val_accuracy: 0.9441\n",
      "Epoch 30/300\n",
      " - 0s - loss: 0.1696 - accuracy: 0.9419 - val_loss: 0.1425 - val_accuracy: 0.9441\n",
      "Epoch 31/300\n",
      " - 0s - loss: 0.1562 - accuracy: 0.9544 - val_loss: 0.1393 - val_accuracy: 0.9441\n",
      "Epoch 32/300\n",
      " - 0s - loss: 0.1514 - accuracy: 0.9461 - val_loss: 0.1358 - val_accuracy: 0.9503\n",
      "Epoch 33/300\n",
      " - 0s - loss: 0.1504 - accuracy: 0.9481 - val_loss: 0.1338 - val_accuracy: 0.9503\n",
      "Epoch 34/300\n",
      " - 0s - loss: 0.1409 - accuracy: 0.9481 - val_loss: 0.1317 - val_accuracy: 0.9503\n",
      "Epoch 35/300\n",
      " - 0s - loss: 0.1241 - accuracy: 0.9585 - val_loss: 0.1306 - val_accuracy: 0.9503\n",
      "Epoch 36/300\n",
      " - 0s - loss: 0.1486 - accuracy: 0.9419 - val_loss: 0.1303 - val_accuracy: 0.9503\n",
      "Epoch 37/300\n",
      " - 0s - loss: 0.1258 - accuracy: 0.9606 - val_loss: 0.1297 - val_accuracy: 0.9565\n",
      "Epoch 38/300\n",
      " - 0s - loss: 0.1351 - accuracy: 0.9523 - val_loss: 0.1294 - val_accuracy: 0.9565\n",
      "Epoch 39/300\n",
      " - 0s - loss: 0.1263 - accuracy: 0.9523 - val_loss: 0.1287 - val_accuracy: 0.9565\n",
      "Epoch 40/300\n",
      " - 0s - loss: 0.1213 - accuracy: 0.9564 - val_loss: 0.1281 - val_accuracy: 0.9565\n",
      "Epoch 41/300\n",
      " - 0s - loss: 0.1424 - accuracy: 0.9502 - val_loss: 0.1273 - val_accuracy: 0.9565\n",
      "Epoch 42/300\n",
      " - 0s - loss: 0.1348 - accuracy: 0.9606 - val_loss: 0.1273 - val_accuracy: 0.9565\n",
      "Epoch 43/300\n",
      " - 0s - loss: 0.1232 - accuracy: 0.9523 - val_loss: 0.1275 - val_accuracy: 0.9565\n",
      "Epoch 44/300\n",
      " - 0s - loss: 0.1297 - accuracy: 0.9627 - val_loss: 0.1277 - val_accuracy: 0.9565\n",
      "Epoch 45/300\n",
      " - 0s - loss: 0.1320 - accuracy: 0.9502 - val_loss: 0.1270 - val_accuracy: 0.9565\n",
      "Epoch 46/300\n",
      " - 0s - loss: 0.1219 - accuracy: 0.9502 - val_loss: 0.1262 - val_accuracy: 0.9565\n",
      "Epoch 47/300\n",
      " - 0s - loss: 0.1299 - accuracy: 0.9606 - val_loss: 0.1259 - val_accuracy: 0.9627\n",
      "Epoch 48/300\n",
      " - 0s - loss: 0.1175 - accuracy: 0.9606 - val_loss: 0.1250 - val_accuracy: 0.9627\n",
      "Epoch 49/300\n",
      " - 0s - loss: 0.1118 - accuracy: 0.9689 - val_loss: 0.1248 - val_accuracy: 0.9627\n",
      "Epoch 50/300\n",
      " - 0s - loss: 0.1153 - accuracy: 0.9523 - val_loss: 0.1245 - val_accuracy: 0.9627\n",
      "Epoch 51/300\n",
      " - 0s - loss: 0.1062 - accuracy: 0.9689 - val_loss: 0.1246 - val_accuracy: 0.9627\n",
      "Epoch 52/300\n",
      " - 0s - loss: 0.1133 - accuracy: 0.9647 - val_loss: 0.1251 - val_accuracy: 0.9627\n",
      "Epoch 53/300\n",
      " - 0s - loss: 0.1052 - accuracy: 0.9564 - val_loss: 0.1254 - val_accuracy: 0.9627\n",
      "Epoch 54/300\n",
      " - 0s - loss: 0.1251 - accuracy: 0.9502 - val_loss: 0.1254 - val_accuracy: 0.9627\n",
      "Epoch 55/300\n",
      " - 0s - loss: 0.0996 - accuracy: 0.9647 - val_loss: 0.1250 - val_accuracy: 0.9627\n",
      "Epoch 56/300\n",
      " - 0s - loss: 0.1184 - accuracy: 0.9627 - val_loss: 0.1247 - val_accuracy: 0.9627\n",
      "Epoch 57/300\n",
      " - 0s - loss: 0.1055 - accuracy: 0.9647 - val_loss: 0.1251 - val_accuracy: 0.9627\n",
      "Epoch 58/300\n",
      " - 0s - loss: 0.1084 - accuracy: 0.9668 - val_loss: 0.1257 - val_accuracy: 0.9627\n",
      "Epoch 59/300\n",
      " - 0s - loss: 0.1093 - accuracy: 0.9710 - val_loss: 0.1262 - val_accuracy: 0.9627\n",
      "Epoch 60/300\n",
      " - 0s - loss: 0.0972 - accuracy: 0.9606 - val_loss: 0.1269 - val_accuracy: 0.9627\n",
      "Epoch 61/300\n",
      " - 0s - loss: 0.0957 - accuracy: 0.9585 - val_loss: 0.1273 - val_accuracy: 0.9627\n",
      "Epoch 62/300\n",
      " - 0s - loss: 0.1126 - accuracy: 0.9668 - val_loss: 0.1277 - val_accuracy: 0.9627\n",
      "Epoch 63/300\n",
      " - 0s - loss: 0.0994 - accuracy: 0.9668 - val_loss: 0.1277 - val_accuracy: 0.9627\n",
      "Epoch 64/300\n",
      " - 0s - loss: 0.0925 - accuracy: 0.9647 - val_loss: 0.1279 - val_accuracy: 0.9627\n",
      "Epoch 65/300\n",
      " - 0s - loss: 0.1388 - accuracy: 0.9564 - val_loss: 0.1279 - val_accuracy: 0.9627\n",
      "Epoch 66/300\n",
      " - 0s - loss: 0.1288 - accuracy: 0.9544 - val_loss: 0.1278 - val_accuracy: 0.9627\n",
      "Epoch 67/300\n",
      " - 0s - loss: 0.1083 - accuracy: 0.9689 - val_loss: 0.1275 - val_accuracy: 0.9627\n",
      "Epoch 68/300\n",
      " - 0s - loss: 0.1053 - accuracy: 0.9544 - val_loss: 0.1275 - val_accuracy: 0.9627\n",
      "Epoch 69/300\n",
      " - 0s - loss: 0.1019 - accuracy: 0.9606 - val_loss: 0.1273 - val_accuracy: 0.9627\n",
      "Epoch 70/300\n",
      " - 0s - loss: 0.1134 - accuracy: 0.9668 - val_loss: 0.1269 - val_accuracy: 0.9627\n",
      "Epoch 71/300\n",
      " - 0s - loss: 0.1077 - accuracy: 0.9668 - val_loss: 0.1266 - val_accuracy: 0.9627\n",
      "Epoch 72/300\n",
      " - 0s - loss: 0.1108 - accuracy: 0.9606 - val_loss: 0.1266 - val_accuracy: 0.9627\n",
      "Epoch 73/300\n",
      " - 0s - loss: 0.0989 - accuracy: 0.9647 - val_loss: 0.1264 - val_accuracy: 0.9627\n",
      "Epoch 74/300\n",
      " - 0s - loss: 0.1053 - accuracy: 0.9668 - val_loss: 0.1267 - val_accuracy: 0.9627\n",
      "Epoch 75/300\n",
      " - 0s - loss: 0.0807 - accuracy: 0.9668 - val_loss: 0.1271 - val_accuracy: 0.9627\n",
      "Epoch 76/300\n",
      " - 0s - loss: 0.0941 - accuracy: 0.9730 - val_loss: 0.1277 - val_accuracy: 0.9627\n",
      "Epoch 77/300\n",
      " - 0s - loss: 0.0871 - accuracy: 0.9710 - val_loss: 0.1285 - val_accuracy: 0.9627\n",
      "Epoch 78/300\n",
      " - 0s - loss: 0.0990 - accuracy: 0.9730 - val_loss: 0.1291 - val_accuracy: 0.9627\n",
      "Epoch 79/300\n",
      " - 0s - loss: 0.0935 - accuracy: 0.9689 - val_loss: 0.1291 - val_accuracy: 0.9627\n",
      "Epoch 80/300\n",
      " - 0s - loss: 0.1068 - accuracy: 0.9606 - val_loss: 0.1294 - val_accuracy: 0.9627\n",
      "Epoch 81/300\n",
      " - 0s - loss: 0.0801 - accuracy: 0.9730 - val_loss: 0.1298 - val_accuracy: 0.9627\n",
      "Epoch 82/300\n",
      " - 0s - loss: 0.0945 - accuracy: 0.9710 - val_loss: 0.1302 - val_accuracy: 0.9627\n",
      "Epoch 83/300\n",
      " - 0s - loss: 0.1130 - accuracy: 0.9647 - val_loss: 0.1304 - val_accuracy: 0.9627\n",
      "Epoch 84/300\n",
      " - 0s - loss: 0.0869 - accuracy: 0.9730 - val_loss: 0.1303 - val_accuracy: 0.9627\n",
      "Epoch 85/300\n",
      " - 0s - loss: 0.0884 - accuracy: 0.9627 - val_loss: 0.1298 - val_accuracy: 0.9627\n",
      "Epoch 86/300\n",
      " - 0s - loss: 0.0891 - accuracy: 0.9647 - val_loss: 0.1300 - val_accuracy: 0.9627\n"
     ]
    },
    {
     "name": "stdout",
     "output_type": "stream",
     "text": [
      "Epoch 87/300\n",
      " - 0s - loss: 0.0831 - accuracy: 0.9751 - val_loss: 0.1299 - val_accuracy: 0.9565\n",
      "Epoch 88/300\n",
      " - 0s - loss: 0.0875 - accuracy: 0.9730 - val_loss: 0.1301 - val_accuracy: 0.9565\n",
      "Epoch 89/300\n",
      " - 0s - loss: 0.1114 - accuracy: 0.9627 - val_loss: 0.1303 - val_accuracy: 0.9565\n",
      "Epoch 90/300\n",
      " - 0s - loss: 0.1038 - accuracy: 0.9647 - val_loss: 0.1304 - val_accuracy: 0.9565\n",
      "Epoch 91/300\n",
      " - 0s - loss: 0.1008 - accuracy: 0.9627 - val_loss: 0.1306 - val_accuracy: 0.9627\n",
      "Epoch 92/300\n",
      " - 0s - loss: 0.0949 - accuracy: 0.9668 - val_loss: 0.1304 - val_accuracy: 0.9627\n",
      "Epoch 93/300\n",
      " - 0s - loss: 0.0909 - accuracy: 0.9689 - val_loss: 0.1301 - val_accuracy: 0.9627\n",
      "Epoch 94/300\n",
      " - 0s - loss: 0.1014 - accuracy: 0.9668 - val_loss: 0.1302 - val_accuracy: 0.9627\n",
      "Epoch 95/300\n",
      " - 0s - loss: 0.0928 - accuracy: 0.9710 - val_loss: 0.1310 - val_accuracy: 0.9627\n",
      "Epoch 96/300\n",
      " - 0s - loss: 0.0936 - accuracy: 0.9772 - val_loss: 0.1311 - val_accuracy: 0.9627\n",
      "Epoch 97/300\n",
      " - 0s - loss: 0.1012 - accuracy: 0.9668 - val_loss: 0.1314 - val_accuracy: 0.9565\n",
      "Epoch 98/300\n",
      " - 0s - loss: 0.1020 - accuracy: 0.9606 - val_loss: 0.1320 - val_accuracy: 0.9565\n",
      "Epoch 99/300\n",
      " - 0s - loss: 0.0911 - accuracy: 0.9730 - val_loss: 0.1322 - val_accuracy: 0.9565\n",
      "Epoch 100/300\n",
      " - 0s - loss: 0.0902 - accuracy: 0.9689 - val_loss: 0.1317 - val_accuracy: 0.9565\n",
      "Epoch 101/300\n",
      " - 0s - loss: 0.0894 - accuracy: 0.9751 - val_loss: 0.1312 - val_accuracy: 0.9627\n",
      "Epoch 00101: early stopping\n"
     ]
    }
   ],
   "source": [
    "model = create_model(neurons=grid_result.best_params_['neurons'], dropout=grid_result.best_params_['dropout'])\n",
    "train_history = model.fit(x=X_train, y=y_train,  \n",
    "                          validation_split=0.25, \n",
    "                          epochs=n_epochs, \n",
    "                          batch_size=grid_result.best_params_['batch_size'], \n",
    "                          verbose=2,\n",
    "                          callbacks=[es])\n"
   ]
  },
  {
   "cell_type": "code",
   "execution_count": 43,
   "metadata": {},
   "outputs": [
    {
     "name": "stdout",
     "output_type": "stream",
     "text": [
      "Average precision-recall score: 0.44\n",
      "Log loss: 0.10\n"
     ]
    }
   ],
   "source": [
    "y_pred = model.predict_classes(X_test)\n",
    "y_proba = model.predict_proba(X_test)\n",
    "average_precision = average_precision_score(y_test, y_pred)\n",
    "log_loss_model = log_loss(y_test, y_proba)\n",
    "print('Average precision-recall score: {0:0.2f}'.format(average_precision))\n",
    "print('Log loss: {0:0.2f}'.format(log_loss_model))\n"
   ]
  },
  {
   "cell_type": "code",
   "execution_count": 44,
   "metadata": {},
   "outputs": [
    {
     "data": {
      "image/png": "[encoded data removed]",
      "text/plain": [
       "<Figure size 432x288 with 1 Axes>"
      ]
     },
     "metadata": {
      "needs_background": "light"
     },
     "output_type": "display_data"
    },
    {
     "data": {
      "image/png": "[encoded data removed]",
      "text/plain": [
       "<Figure size 432x288 with 1 Axes>"
      ]
     },
     "metadata": {
      "needs_background": "light"
     },
     "output_type": "display_data"
    }
   ],
   "source": [
    "show_train_history(train_history,n_epochs,'accuracy','val_accuracy')\n",
    "show_train_history(train_history,n_epochs,'loss','val_loss')"
   ]
  },
  {
   "cell_type": "code",
   "execution_count": 52,
   "metadata": {},
   "outputs": [
    {
     "name": "stdout",
     "output_type": "stream",
     "text": [
      "              precision    recall  f1-score   support\n",
      "\n",
      "  Biopsy = 0       0.98      0.98      0.98       201\n",
      "  Biopsy = 1       0.64      0.64      0.64        14\n",
      "\n",
      "    accuracy                           0.95       215\n",
      "   macro avg       0.81      0.81      0.81       215\n",
      "weighted avg       0.95      0.95      0.95       215\n",
      "\n"
     ]
    }
   ],
   "source": [
    "from sklearn.metrics import classification_report\n",
    "\n",
    "target_names = ['Biopsy = 0', 'Biopsy = 1']\n",
    "print(classification_report(y_test, y_pred, target_names=target_names))"
   ]
  },
  {
   "cell_type": "code",
   "execution_count": 47,
   "metadata": {
    "scrolled": true
   },
   "outputs": [
    {
     "data": {
      "text/plain": [
       "Text(0, 0.5, 'Precision')"
      ]
     },
     "execution_count": 47,
     "metadata": {},
     "output_type": "execute_result"
    },
    {
     "data": {
      "image/png": "[encoded data removed]",
      "text/plain": [
       "<Figure size 432x288 with 1 Axes>"
      ]
     },
     "metadata": {
      "needs_background": "light"
     },
     "output_type": "display_data"
    }
   ],
   "source": [
    "precision, recall, thresholds = precision_recall_curve(y_test, y_proba)\n",
    "\n",
    "plt.plot(precision, recall)\n",
    "plt.title('Precision-Recall Curve (Neural Network): '\n",
    "                   'AP={0:0.2f}'.format(average_precision))\n",
    "plt.xlabel('Recall')\n",
    "plt.ylabel('Precision')"
   ]
  },
  {
   "cell_type": "markdown",
   "metadata": {},
   "source": [
    "__Step 6: Discussion and Conclusions__<br>\n",
    "\n",
    "The following can be observed from the data after running the models:\n",
    "- Logistic Regression, Support Vector Classifier (SVC), and XGBoost performed the best, all producing relatively similar performance (AP=0.61, log loss=0.10) on the validation set.\n",
    "- The neural network and XGBoost with missing values performed moderately well. More could have been done to optimize the neural network. Here AP>0.66 is achieved by combining a dimensionality reduction and autoencoder neural network. I have not yet learned to implement these techniques.\n",
    "- Random Forest Classifier and k Nearest Neighbors Classifier (k-NN) performed more poorly. This could be due to overfitting and a loss of generalizability. Perhaps with better hyperparameter optimization, these models could perform better as well."
   ]
  }
 ],
 "metadata": {
  "kernelspec": {
   "display_name": "tensorflow",
   "language": "python",
   "name": "tensorflow"
  },
  "language_info": {
   "codemirror_mode": {
    "name": "ipython",
    "version": 3
   },
   "file_extension": ".py",
   "mimetype": "text/x-python",
   "name": "python",
   "nbconvert_exporter": "python",
   "pygments_lexer": "ipython3",
   "version": "3.6.10"
  }
 },
 "nbformat": 4,
 "nbformat_minor": 2
}
